{
 "cells": [
  {
   "cell_type": "markdown",
   "metadata": {
    "id": "1vIrrlI5qYYy"
   },
   "source": [
    "# Logistic Regression and Multi-layer Perceptron Classifier for df_merged_neg_15x15_final"
   ]
  },
  {
   "cell_type": "markdown",
   "metadata": {},
   "source": [
    "# Table of Contents<a class=\"anchor\" id=\"Contents\"></a>\n",
    "* [Load Packages](#Packages)\n",
    "* [Load Dataset](#Dataset)\n",
    "    * [Train Test Validation Split](#Train_Test_Validation_Split)\n",
    "* [Functions](#Functions)\n",
    "* [Multi-layer Perceptron Classifier](#MLP)\n",
    "    * [Run the Model](#Run_MLP)\n",
    "    * [ROC Curve and Precision-Recall Curve](#Curve_MLP)\n",
    "    * [Results](#Results_MLP)\n",
    "* [Multi-layer Perceptron Classifier with PCA](#PCA)\n",
    "* [Test data for different regions](#Regions)\n",
    "* [Test data for different months](#Month)\n",
    "* [Test data for different years](#Year)"
   ]
  },
  {
   "cell_type": "markdown",
   "metadata": {
    "id": "7kYT-Av0M30Y"
   },
   "source": [
    "# Load Packages<a class=\"anchor\" id=\"Packages\"></a>"
   ]
  },
  {
   "cell_type": "code",
   "execution_count": 2,
   "metadata": {
    "executionInfo": {
     "elapsed": 957,
     "status": "ok",
     "timestamp": 1690583619897,
     "user": {
      "displayName": "Zachary Lu",
      "userId": "08339288598973642231"
     },
     "user_tz": -60
    },
    "id": "BswLk-JvM30a"
   },
   "outputs": [],
   "source": [
    "import matplotlib.pyplot as plt\n",
    "import pandas as pd\n",
    "import numpy as np\n",
    "from imblearn.over_sampling import RandomOverSampler\n",
    "from sklearn.ensemble import RandomForestClassifier\n",
    "from datetime import datetime\n",
    "import seaborn as sns\n",
    "from sklearn.decomposition import PCA\n",
    "from sklearn.preprocessing import MinMaxScaler, StandardScaler\n",
    "from sklearn.linear_model import LogisticRegression\n",
    "from sklearn.metrics import *\n",
    "from sklearn.metrics import RocCurveDisplay, auc, roc_auc_score, make_scorer, f1_score, precision_score, recall_score\n",
    "from sklearn.metrics import precision_recall_curve, accuracy_score, confusion_matrix, classification_report, roc_curve\n",
    "from sklearn.metrics import silhouette_score\n",
    "from keras.optimizers import Adam\n",
    "import random\n",
    "import csv\n",
    "import statistics\n",
    "from sklearn.neighbors import KNeighborsClassifier\n",
    "from sklearn.neural_network import MLPClassifier\n",
    "from sklearn.cluster import KMeans\n",
    "from sklearn.utils.class_weight import compute_class_weight\n",
    "from mlxtend.feature_selection import SequentialFeatureSelector\n",
    "from mlxtend.plotting import plot_sequential_feature_selection as plot_sfs"
   ]
  },
  {
   "cell_type": "code",
   "execution_count": 3,
   "metadata": {},
   "outputs": [],
   "source": [
    "from joblib import load\n",
    "\n",
    "best_mlp = load('best_model/best_mlp_neg.joblib')\n",
    "best_mlp_pc = load('best_model/best_mlp_neg_pc.joblib')"
   ]
  },
  {
   "cell_type": "markdown",
   "metadata": {},
   "source": [
    "* [Table of Contents](#Contents)"
   ]
  },
  {
   "cell_type": "markdown",
   "metadata": {},
   "source": [
    "# Load Dataset<a class=\"anchor\" id=\"Dataset\"></a>"
   ]
  },
  {
   "cell_type": "code",
   "execution_count": 4,
   "metadata": {},
   "outputs": [
    {
     "data": {
      "text/html": [
       "<div>\n",
       "<style scoped>\n",
       "    .dataframe tbody tr th:only-of-type {\n",
       "        vertical-align: middle;\n",
       "    }\n",
       "\n",
       "    .dataframe tbody tr th {\n",
       "        vertical-align: top;\n",
       "    }\n",
       "\n",
       "    .dataframe thead th {\n",
       "        text-align: right;\n",
       "    }\n",
       "</style>\n",
       "<table border=\"1\" class=\"dataframe\">\n",
       "  <thead>\n",
       "    <tr style=\"text-align: right;\">\n",
       "      <th></th>\n",
       "      <th>time</th>\n",
       "      <th>site</th>\n",
       "      <th>BBP_1x1_median</th>\n",
       "      <th>CDM_1x1_median</th>\n",
       "      <th>SPM_1x1_median</th>\n",
       "      <th>KD490_1x1_median</th>\n",
       "      <th>ZSD_1x1_median</th>\n",
       "      <th>CHL_1x1_median</th>\n",
       "      <th>BBP_1x1_mean</th>\n",
       "      <th>CDM_1x1_mean</th>\n",
       "      <th>...</th>\n",
       "      <th>KD490_15x15_q1</th>\n",
       "      <th>ZSD_15x15_q1</th>\n",
       "      <th>CHL_15x15_q1</th>\n",
       "      <th>BBP_15x15_q3</th>\n",
       "      <th>CDM_15x15_q3</th>\n",
       "      <th>SPM_15x15_q3</th>\n",
       "      <th>KD490_15x15_q3</th>\n",
       "      <th>ZSD_15x15_q3</th>\n",
       "      <th>CHL_15x15_q3</th>\n",
       "      <th>riskLevelLabel</th>\n",
       "    </tr>\n",
       "  </thead>\n",
       "  <tbody>\n",
       "    <tr>\n",
       "      <th>0</th>\n",
       "      <td>2020-01-22</td>\n",
       "      <td>ukd4305-43260</td>\n",
       "      <td>0.0</td>\n",
       "      <td>0.0</td>\n",
       "      <td>0.000000</td>\n",
       "      <td>0.000000</td>\n",
       "      <td>0.000000</td>\n",
       "      <td>0.000000</td>\n",
       "      <td>0.0</td>\n",
       "      <td>0.0</td>\n",
       "      <td>...</td>\n",
       "      <td>0.000000</td>\n",
       "      <td>0.000000</td>\n",
       "      <td>0.000000</td>\n",
       "      <td>0.0</td>\n",
       "      <td>0.0</td>\n",
       "      <td>0.000000</td>\n",
       "      <td>0.000000</td>\n",
       "      <td>0.000000</td>\n",
       "      <td>0.000000</td>\n",
       "      <td>1</td>\n",
       "    </tr>\n",
       "    <tr>\n",
       "      <th>1</th>\n",
       "      <td>2020-02-17</td>\n",
       "      <td>ukk3106-27200</td>\n",
       "      <td>0.0</td>\n",
       "      <td>0.0</td>\n",
       "      <td>0.000000</td>\n",
       "      <td>0.000000</td>\n",
       "      <td>0.000000</td>\n",
       "      <td>0.000000</td>\n",
       "      <td>0.0</td>\n",
       "      <td>0.0</td>\n",
       "      <td>...</td>\n",
       "      <td>0.000000</td>\n",
       "      <td>0.000000</td>\n",
       "      <td>0.000000</td>\n",
       "      <td>0.0</td>\n",
       "      <td>0.0</td>\n",
       "      <td>0.000000</td>\n",
       "      <td>0.000000</td>\n",
       "      <td>0.000000</td>\n",
       "      <td>0.000000</td>\n",
       "      <td>1</td>\n",
       "    </tr>\n",
       "    <tr>\n",
       "      <th>2</th>\n",
       "      <td>2020-02-29</td>\n",
       "      <td>ukk4304-34200</td>\n",
       "      <td>0.0</td>\n",
       "      <td>0.0</td>\n",
       "      <td>0.278289</td>\n",
       "      <td>0.905697</td>\n",
       "      <td>0.381887</td>\n",
       "      <td>0.191762</td>\n",
       "      <td>0.0</td>\n",
       "      <td>0.0</td>\n",
       "      <td>...</td>\n",
       "      <td>0.912616</td>\n",
       "      <td>0.381887</td>\n",
       "      <td>0.209223</td>\n",
       "      <td>0.0</td>\n",
       "      <td>0.0</td>\n",
       "      <td>0.278289</td>\n",
       "      <td>0.908233</td>\n",
       "      <td>0.381887</td>\n",
       "      <td>0.198058</td>\n",
       "      <td>1</td>\n",
       "    </tr>\n",
       "    <tr>\n",
       "      <th>3</th>\n",
       "      <td>2020-03-01</td>\n",
       "      <td>ukk4305-25400</td>\n",
       "      <td>0.0</td>\n",
       "      <td>0.0</td>\n",
       "      <td>0.179310</td>\n",
       "      <td>0.897213</td>\n",
       "      <td>0.466615</td>\n",
       "      <td>0.156853</td>\n",
       "      <td>0.0</td>\n",
       "      <td>0.0</td>\n",
       "      <td>...</td>\n",
       "      <td>0.903999</td>\n",
       "      <td>0.464243</td>\n",
       "      <td>0.170801</td>\n",
       "      <td>0.0</td>\n",
       "      <td>0.0</td>\n",
       "      <td>0.179310</td>\n",
       "      <td>0.899777</td>\n",
       "      <td>0.466615</td>\n",
       "      <td>0.162112</td>\n",
       "      <td>1</td>\n",
       "    </tr>\n",
       "    <tr>\n",
       "      <th>4</th>\n",
       "      <td>2020-03-12</td>\n",
       "      <td>uke1200-08100</td>\n",
       "      <td>0.0</td>\n",
       "      <td>0.0</td>\n",
       "      <td>0.239333</td>\n",
       "      <td>0.908982</td>\n",
       "      <td>0.367827</td>\n",
       "      <td>0.207890</td>\n",
       "      <td>0.0</td>\n",
       "      <td>0.0</td>\n",
       "      <td>...</td>\n",
       "      <td>0.915927</td>\n",
       "      <td>0.367827</td>\n",
       "      <td>0.226820</td>\n",
       "      <td>0.0</td>\n",
       "      <td>0.0</td>\n",
       "      <td>0.239333</td>\n",
       "      <td>0.911528</td>\n",
       "      <td>0.367827</td>\n",
       "      <td>0.214716</td>\n",
       "      <td>1</td>\n",
       "    </tr>\n",
       "    <tr>\n",
       "      <th>...</th>\n",
       "      <td>...</td>\n",
       "      <td>...</td>\n",
       "      <td>...</td>\n",
       "      <td>...</td>\n",
       "      <td>...</td>\n",
       "      <td>...</td>\n",
       "      <td>...</td>\n",
       "      <td>...</td>\n",
       "      <td>...</td>\n",
       "      <td>...</td>\n",
       "      <td>...</td>\n",
       "      <td>...</td>\n",
       "      <td>...</td>\n",
       "      <td>...</td>\n",
       "      <td>...</td>\n",
       "      <td>...</td>\n",
       "      <td>...</td>\n",
       "      <td>...</td>\n",
       "      <td>...</td>\n",
       "      <td>...</td>\n",
       "      <td>...</td>\n",
       "    </tr>\n",
       "    <tr>\n",
       "      <th>187106</th>\n",
       "      <td>2022-11-08</td>\n",
       "      <td>ukj3400-17700</td>\n",
       "      <td>0.0</td>\n",
       "      <td>0.0</td>\n",
       "      <td>0.000000</td>\n",
       "      <td>0.000000</td>\n",
       "      <td>0.000000</td>\n",
       "      <td>0.000000</td>\n",
       "      <td>0.0</td>\n",
       "      <td>0.0</td>\n",
       "      <td>...</td>\n",
       "      <td>0.000000</td>\n",
       "      <td>0.000000</td>\n",
       "      <td>0.000000</td>\n",
       "      <td>0.0</td>\n",
       "      <td>0.0</td>\n",
       "      <td>0.000000</td>\n",
       "      <td>0.000000</td>\n",
       "      <td>0.000000</td>\n",
       "      <td>0.000000</td>\n",
       "      <td>0</td>\n",
       "    </tr>\n",
       "    <tr>\n",
       "      <th>187107</th>\n",
       "      <td>2022-12-02</td>\n",
       "      <td>ukk3103-29500</td>\n",
       "      <td>0.0</td>\n",
       "      <td>0.0</td>\n",
       "      <td>0.117570</td>\n",
       "      <td>0.892609</td>\n",
       "      <td>0.633440</td>\n",
       "      <td>0.143064</td>\n",
       "      <td>0.0</td>\n",
       "      <td>0.0</td>\n",
       "      <td>...</td>\n",
       "      <td>0.899428</td>\n",
       "      <td>0.633440</td>\n",
       "      <td>0.156091</td>\n",
       "      <td>0.0</td>\n",
       "      <td>0.0</td>\n",
       "      <td>0.117570</td>\n",
       "      <td>0.895108</td>\n",
       "      <td>0.633440</td>\n",
       "      <td>0.147761</td>\n",
       "      <td>1</td>\n",
       "    </tr>\n",
       "    <tr>\n",
       "      <th>187108</th>\n",
       "      <td>2022-12-07</td>\n",
       "      <td>ukk3103-29100</td>\n",
       "      <td>0.0</td>\n",
       "      <td>0.0</td>\n",
       "      <td>0.111443</td>\n",
       "      <td>0.906253</td>\n",
       "      <td>0.398421</td>\n",
       "      <td>0.198937</td>\n",
       "      <td>0.0</td>\n",
       "      <td>0.0</td>\n",
       "      <td>...</td>\n",
       "      <td>0.909478</td>\n",
       "      <td>0.388881</td>\n",
       "      <td>0.193924</td>\n",
       "      <td>0.0</td>\n",
       "      <td>0.0</td>\n",
       "      <td>0.108026</td>\n",
       "      <td>0.908791</td>\n",
       "      <td>0.401596</td>\n",
       "      <td>0.205469</td>\n",
       "      <td>1</td>\n",
       "    </tr>\n",
       "    <tr>\n",
       "      <th>187109</th>\n",
       "      <td>2022-12-08</td>\n",
       "      <td>ukk3103-29100</td>\n",
       "      <td>0.0</td>\n",
       "      <td>0.0</td>\n",
       "      <td>0.106985</td>\n",
       "      <td>0.894695</td>\n",
       "      <td>0.525795</td>\n",
       "      <td>0.148640</td>\n",
       "      <td>0.0</td>\n",
       "      <td>0.0</td>\n",
       "      <td>...</td>\n",
       "      <td>0.901454</td>\n",
       "      <td>0.524903</td>\n",
       "      <td>0.161904</td>\n",
       "      <td>0.0</td>\n",
       "      <td>0.0</td>\n",
       "      <td>0.105991</td>\n",
       "      <td>0.897206</td>\n",
       "      <td>0.527476</td>\n",
       "      <td>0.153521</td>\n",
       "      <td>0</td>\n",
       "    </tr>\n",
       "    <tr>\n",
       "      <th>187110</th>\n",
       "      <td>2022-12-19</td>\n",
       "      <td>ukf3102-09600</td>\n",
       "      <td>0.0</td>\n",
       "      <td>0.0</td>\n",
       "      <td>0.000000</td>\n",
       "      <td>0.000000</td>\n",
       "      <td>0.000000</td>\n",
       "      <td>0.000000</td>\n",
       "      <td>0.0</td>\n",
       "      <td>0.0</td>\n",
       "      <td>...</td>\n",
       "      <td>0.000000</td>\n",
       "      <td>0.000000</td>\n",
       "      <td>0.000000</td>\n",
       "      <td>0.0</td>\n",
       "      <td>0.0</td>\n",
       "      <td>0.000000</td>\n",
       "      <td>0.000000</td>\n",
       "      <td>0.000000</td>\n",
       "      <td>0.000000</td>\n",
       "      <td>0</td>\n",
       "    </tr>\n",
       "  </tbody>\n",
       "</table>\n",
       "<p>187111 rows × 195 columns</p>\n",
       "</div>"
      ],
      "text/plain": [
       "              time           site  BBP_1x1_median  CDM_1x1_median  \\\n",
       "0       2020-01-22  ukd4305-43260             0.0             0.0   \n",
       "1       2020-02-17  ukk3106-27200             0.0             0.0   \n",
       "2       2020-02-29  ukk4304-34200             0.0             0.0   \n",
       "3       2020-03-01  ukk4305-25400             0.0             0.0   \n",
       "4       2020-03-12  uke1200-08100             0.0             0.0   \n",
       "...            ...            ...             ...             ...   \n",
       "187106  2022-11-08  ukj3400-17700             0.0             0.0   \n",
       "187107  2022-12-02  ukk3103-29500             0.0             0.0   \n",
       "187108  2022-12-07  ukk3103-29100             0.0             0.0   \n",
       "187109  2022-12-08  ukk3103-29100             0.0             0.0   \n",
       "187110  2022-12-19  ukf3102-09600             0.0             0.0   \n",
       "\n",
       "        SPM_1x1_median  KD490_1x1_median  ZSD_1x1_median  CHL_1x1_median  \\\n",
       "0             0.000000          0.000000        0.000000        0.000000   \n",
       "1             0.000000          0.000000        0.000000        0.000000   \n",
       "2             0.278289          0.905697        0.381887        0.191762   \n",
       "3             0.179310          0.897213        0.466615        0.156853   \n",
       "4             0.239333          0.908982        0.367827        0.207890   \n",
       "...                ...               ...             ...             ...   \n",
       "187106        0.000000          0.000000        0.000000        0.000000   \n",
       "187107        0.117570          0.892609        0.633440        0.143064   \n",
       "187108        0.111443          0.906253        0.398421        0.198937   \n",
       "187109        0.106985          0.894695        0.525795        0.148640   \n",
       "187110        0.000000          0.000000        0.000000        0.000000   \n",
       "\n",
       "        BBP_1x1_mean  CDM_1x1_mean  ...  KD490_15x15_q1  ZSD_15x15_q1  \\\n",
       "0                0.0           0.0  ...        0.000000      0.000000   \n",
       "1                0.0           0.0  ...        0.000000      0.000000   \n",
       "2                0.0           0.0  ...        0.912616      0.381887   \n",
       "3                0.0           0.0  ...        0.903999      0.464243   \n",
       "4                0.0           0.0  ...        0.915927      0.367827   \n",
       "...              ...           ...  ...             ...           ...   \n",
       "187106           0.0           0.0  ...        0.000000      0.000000   \n",
       "187107           0.0           0.0  ...        0.899428      0.633440   \n",
       "187108           0.0           0.0  ...        0.909478      0.388881   \n",
       "187109           0.0           0.0  ...        0.901454      0.524903   \n",
       "187110           0.0           0.0  ...        0.000000      0.000000   \n",
       "\n",
       "        CHL_15x15_q1  BBP_15x15_q3  CDM_15x15_q3  SPM_15x15_q3  \\\n",
       "0           0.000000           0.0           0.0      0.000000   \n",
       "1           0.000000           0.0           0.0      0.000000   \n",
       "2           0.209223           0.0           0.0      0.278289   \n",
       "3           0.170801           0.0           0.0      0.179310   \n",
       "4           0.226820           0.0           0.0      0.239333   \n",
       "...              ...           ...           ...           ...   \n",
       "187106      0.000000           0.0           0.0      0.000000   \n",
       "187107      0.156091           0.0           0.0      0.117570   \n",
       "187108      0.193924           0.0           0.0      0.108026   \n",
       "187109      0.161904           0.0           0.0      0.105991   \n",
       "187110      0.000000           0.0           0.0      0.000000   \n",
       "\n",
       "        KD490_15x15_q3  ZSD_15x15_q3  CHL_15x15_q3  riskLevelLabel  \n",
       "0             0.000000      0.000000      0.000000               1  \n",
       "1             0.000000      0.000000      0.000000               1  \n",
       "2             0.908233      0.381887      0.198058               1  \n",
       "3             0.899777      0.466615      0.162112               1  \n",
       "4             0.911528      0.367827      0.214716               1  \n",
       "...                ...           ...           ...             ...  \n",
       "187106        0.000000      0.000000      0.000000               0  \n",
       "187107        0.895108      0.633440      0.147761               1  \n",
       "187108        0.908791      0.401596      0.205469               1  \n",
       "187109        0.897206      0.527476      0.153521               0  \n",
       "187110        0.000000      0.000000      0.000000               0  \n",
       "\n",
       "[187111 rows x 195 columns]"
      ]
     },
     "execution_count": 4,
     "metadata": {},
     "output_type": "execute_result"
    }
   ],
   "source": [
    "df_merged_neg_15x15 = pd.read_csv('data/df_merged_neg_15x15_final.csv')\n",
    "df_merged_neg_15x15"
   ]
  },
  {
   "cell_type": "code",
   "execution_count": 5,
   "metadata": {},
   "outputs": [
    {
     "data": {
      "text/plain": [
       "0    0.971797\n",
       "1    0.028203\n",
       "Name: riskLevelLabel, dtype: float64"
      ]
     },
     "execution_count": 5,
     "metadata": {},
     "output_type": "execute_result"
    }
   ],
   "source": [
    "counts_normalized = df_merged_neg_15x15['riskLevelLabel'].value_counts(normalize=True)\n",
    "counts_normalized"
   ]
  },
  {
   "cell_type": "markdown",
   "metadata": {
    "id": "k5Rh25eDM30d"
   },
   "source": [
    "## Train Test Validation Split<a class=\"anchor\" id=\"Train_Test_Validation_Split\"></a>"
   ]
  },
  {
   "cell_type": "code",
   "execution_count": 6,
   "metadata": {
    "colab": {
     "base_uri": "https://localhost:8080/",
     "height": 0
    },
    "executionInfo": {
     "elapsed": 911,
     "status": "ok",
     "timestamp": 1690583693548,
     "user": {
      "displayName": "Zachary Lu",
      "userId": "08339288598973642231"
     },
     "user_tz": -60
    },
    "id": "YkZzKDtAmGvQ",
    "outputId": "46dbfba0-071f-43ea-b8d2-50e43ed24598"
   },
   "outputs": [
    {
     "data": {
      "text/html": [
       "<div>\n",
       "<style scoped>\n",
       "    .dataframe tbody tr th:only-of-type {\n",
       "        vertical-align: middle;\n",
       "    }\n",
       "\n",
       "    .dataframe tbody tr th {\n",
       "        vertical-align: top;\n",
       "    }\n",
       "\n",
       "    .dataframe thead th {\n",
       "        text-align: right;\n",
       "    }\n",
       "</style>\n",
       "<table border=\"1\" class=\"dataframe\">\n",
       "  <thead>\n",
       "    <tr style=\"text-align: right;\">\n",
       "      <th></th>\n",
       "      <th>time</th>\n",
       "      <th>site</th>\n",
       "    </tr>\n",
       "  </thead>\n",
       "  <tbody>\n",
       "    <tr>\n",
       "      <th>0</th>\n",
       "      <td>2021-05-25</td>\n",
       "      <td>ukk4305-25800</td>\n",
       "    </tr>\n",
       "    <tr>\n",
       "      <th>1</th>\n",
       "      <td>2022-07-04</td>\n",
       "      <td>ukk4305-25800</td>\n",
       "    </tr>\n",
       "    <tr>\n",
       "      <th>2</th>\n",
       "      <td>2022-08-08</td>\n",
       "      <td>ukk3105-31450</td>\n",
       "    </tr>\n",
       "    <tr>\n",
       "      <th>3</th>\n",
       "      <td>2022-08-27</td>\n",
       "      <td>ukk2206-20800</td>\n",
       "    </tr>\n",
       "    <tr>\n",
       "      <th>4</th>\n",
       "      <td>2020-06-08</td>\n",
       "      <td>uke1301-09020</td>\n",
       "    </tr>\n",
       "    <tr>\n",
       "      <th>...</th>\n",
       "      <td>...</td>\n",
       "      <td>...</td>\n",
       "    </tr>\n",
       "    <tr>\n",
       "      <th>112261</th>\n",
       "      <td>2021-07-19</td>\n",
       "      <td>ukj4210-12660</td>\n",
       "    </tr>\n",
       "    <tr>\n",
       "      <th>112262</th>\n",
       "      <td>2021-05-10</td>\n",
       "      <td>ukk4200-23200</td>\n",
       "    </tr>\n",
       "    <tr>\n",
       "      <th>112263</th>\n",
       "      <td>2020-08-10</td>\n",
       "      <td>ukk3104-33500</td>\n",
       "    </tr>\n",
       "    <tr>\n",
       "      <th>112264</th>\n",
       "      <td>2021-09-08</td>\n",
       "      <td>ukk1202-35700</td>\n",
       "    </tr>\n",
       "    <tr>\n",
       "      <th>112265</th>\n",
       "      <td>2020-08-09</td>\n",
       "      <td>ukk3101-27000</td>\n",
       "    </tr>\n",
       "  </tbody>\n",
       "</table>\n",
       "<p>112266 rows × 2 columns</p>\n",
       "</div>"
      ],
      "text/plain": [
       "              time           site\n",
       "0       2021-05-25  ukk4305-25800\n",
       "1       2022-07-04  ukk4305-25800\n",
       "2       2022-08-08  ukk3105-31450\n",
       "3       2022-08-27  ukk2206-20800\n",
       "4       2020-06-08  uke1301-09020\n",
       "...            ...            ...\n",
       "112261  2021-07-19  ukj4210-12660\n",
       "112262  2021-05-10  ukk4200-23200\n",
       "112263  2020-08-10  ukk3104-33500\n",
       "112264  2021-09-08  ukk1202-35700\n",
       "112265  2020-08-09  ukk3101-27000\n",
       "\n",
       "[112266 rows x 2 columns]"
      ]
     },
     "execution_count": 6,
     "metadata": {},
     "output_type": "execute_result"
    }
   ],
   "source": [
    "train_labels_mean_zero = pd.read_csv('data/train_labels_mean_zero.csv')[['time', 'site']]\n",
    "train_labels_mean_zero"
   ]
  },
  {
   "cell_type": "code",
   "execution_count": 7,
   "metadata": {
    "colab": {
     "base_uri": "https://localhost:8080/",
     "height": 0
    },
    "executionInfo": {
     "elapsed": 219,
     "status": "ok",
     "timestamp": 1690583693763,
     "user": {
      "displayName": "Zachary Lu",
      "userId": "08339288598973642231"
     },
     "user_tz": -60
    },
    "id": "Uo8Sc3h2nscN",
    "outputId": "5d7f0295-4b89-4332-8da8-77d03fb85324"
   },
   "outputs": [
    {
     "data": {
      "text/html": [
       "<div>\n",
       "<style scoped>\n",
       "    .dataframe tbody tr th:only-of-type {\n",
       "        vertical-align: middle;\n",
       "    }\n",
       "\n",
       "    .dataframe tbody tr th {\n",
       "        vertical-align: top;\n",
       "    }\n",
       "\n",
       "    .dataframe thead th {\n",
       "        text-align: right;\n",
       "    }\n",
       "</style>\n",
       "<table border=\"1\" class=\"dataframe\">\n",
       "  <thead>\n",
       "    <tr style=\"text-align: right;\">\n",
       "      <th></th>\n",
       "      <th>time</th>\n",
       "      <th>site</th>\n",
       "    </tr>\n",
       "  </thead>\n",
       "  <tbody>\n",
       "    <tr>\n",
       "      <th>0</th>\n",
       "      <td>2020-07-02</td>\n",
       "      <td>ukj3400-17400</td>\n",
       "    </tr>\n",
       "    <tr>\n",
       "      <th>1</th>\n",
       "      <td>2022-08-27</td>\n",
       "      <td>ukk3106-32200</td>\n",
       "    </tr>\n",
       "    <tr>\n",
       "      <th>2</th>\n",
       "      <td>2021-05-06</td>\n",
       "      <td>ukk4307-33900</td>\n",
       "    </tr>\n",
       "    <tr>\n",
       "      <th>3</th>\n",
       "      <td>2021-05-20</td>\n",
       "      <td>ukk4304-34100</td>\n",
       "    </tr>\n",
       "    <tr>\n",
       "      <th>4</th>\n",
       "      <td>2021-06-04</td>\n",
       "      <td>ukk3104-33200</td>\n",
       "    </tr>\n",
       "    <tr>\n",
       "      <th>...</th>\n",
       "      <td>...</td>\n",
       "      <td>...</td>\n",
       "    </tr>\n",
       "    <tr>\n",
       "      <th>37417</th>\n",
       "      <td>2021-07-28</td>\n",
       "      <td>ukk3103-29800</td>\n",
       "    </tr>\n",
       "    <tr>\n",
       "      <th>37418</th>\n",
       "      <td>2021-05-02</td>\n",
       "      <td>uke2206-07200</td>\n",
       "    </tr>\n",
       "    <tr>\n",
       "      <th>37419</th>\n",
       "      <td>2022-09-08</td>\n",
       "      <td>ukk4301-21800</td>\n",
       "    </tr>\n",
       "    <tr>\n",
       "      <th>37420</th>\n",
       "      <td>2021-07-18</td>\n",
       "      <td>ukj2403-15900</td>\n",
       "    </tr>\n",
       "    <tr>\n",
       "      <th>37421</th>\n",
       "      <td>2021-05-13</td>\n",
       "      <td>ukj4210-12700</td>\n",
       "    </tr>\n",
       "  </tbody>\n",
       "</table>\n",
       "<p>37422 rows × 2 columns</p>\n",
       "</div>"
      ],
      "text/plain": [
       "             time           site\n",
       "0      2020-07-02  ukj3400-17400\n",
       "1      2022-08-27  ukk3106-32200\n",
       "2      2021-05-06  ukk4307-33900\n",
       "3      2021-05-20  ukk4304-34100\n",
       "4      2021-06-04  ukk3104-33200\n",
       "...           ...            ...\n",
       "37417  2021-07-28  ukk3103-29800\n",
       "37418  2021-05-02  uke2206-07200\n",
       "37419  2022-09-08  ukk4301-21800\n",
       "37420  2021-07-18  ukj2403-15900\n",
       "37421  2021-05-13  ukj4210-12700\n",
       "\n",
       "[37422 rows x 2 columns]"
      ]
     },
     "execution_count": 7,
     "metadata": {},
     "output_type": "execute_result"
    }
   ],
   "source": [
    "validation_labels_mean_zero = pd.read_csv('data/validation_labels_mean_zero.csv')[['time', 'site']]\n",
    "validation_labels_mean_zero"
   ]
  },
  {
   "cell_type": "code",
   "execution_count": 8,
   "metadata": {
    "colab": {
     "base_uri": "https://localhost:8080/",
     "height": 0
    },
    "executionInfo": {
     "elapsed": 461,
     "status": "ok",
     "timestamp": 1690583694219,
     "user": {
      "displayName": "Zachary Lu",
      "userId": "08339288598973642231"
     },
     "user_tz": -60
    },
    "id": "DRV_K0ARoBtQ",
    "outputId": "a70a7a7e-8b80-43c9-c25e-33f44837fefd"
   },
   "outputs": [
    {
     "data": {
      "text/html": [
       "<div>\n",
       "<style scoped>\n",
       "    .dataframe tbody tr th:only-of-type {\n",
       "        vertical-align: middle;\n",
       "    }\n",
       "\n",
       "    .dataframe tbody tr th {\n",
       "        vertical-align: top;\n",
       "    }\n",
       "\n",
       "    .dataframe thead th {\n",
       "        text-align: right;\n",
       "    }\n",
       "</style>\n",
       "<table border=\"1\" class=\"dataframe\">\n",
       "  <thead>\n",
       "    <tr style=\"text-align: right;\">\n",
       "      <th></th>\n",
       "      <th>time</th>\n",
       "      <th>site</th>\n",
       "    </tr>\n",
       "  </thead>\n",
       "  <tbody>\n",
       "    <tr>\n",
       "      <th>0</th>\n",
       "      <td>2022-09-21</td>\n",
       "      <td>ukk3106-32100</td>\n",
       "    </tr>\n",
       "    <tr>\n",
       "      <th>1</th>\n",
       "      <td>2020-08-08</td>\n",
       "      <td>ukh1407-10750</td>\n",
       "    </tr>\n",
       "    <tr>\n",
       "      <th>2</th>\n",
       "      <td>2020-09-20</td>\n",
       "      <td>ukd4200-42100</td>\n",
       "    </tr>\n",
       "    <tr>\n",
       "      <th>3</th>\n",
       "      <td>2022-07-06</td>\n",
       "      <td>ukk2206-20900</td>\n",
       "    </tr>\n",
       "    <tr>\n",
       "      <th>4</th>\n",
       "      <td>2021-08-24</td>\n",
       "      <td>ukk4305-26100</td>\n",
       "    </tr>\n",
       "    <tr>\n",
       "      <th>...</th>\n",
       "      <td>...</td>\n",
       "      <td>...</td>\n",
       "    </tr>\n",
       "    <tr>\n",
       "      <th>37418</th>\n",
       "      <td>2021-09-22</td>\n",
       "      <td>ukj2402-15680</td>\n",
       "    </tr>\n",
       "    <tr>\n",
       "      <th>37419</th>\n",
       "      <td>2021-08-14</td>\n",
       "      <td>ukk3104-33500</td>\n",
       "    </tr>\n",
       "    <tr>\n",
       "      <th>37420</th>\n",
       "      <td>2022-05-20</td>\n",
       "      <td>ukk4305-25600</td>\n",
       "    </tr>\n",
       "    <tr>\n",
       "      <th>37421</th>\n",
       "      <td>2022-06-25</td>\n",
       "      <td>ukj3400-18000</td>\n",
       "    </tr>\n",
       "    <tr>\n",
       "      <th>37422</th>\n",
       "      <td>2021-09-27</td>\n",
       "      <td>ukj2201-14500</td>\n",
       "    </tr>\n",
       "  </tbody>\n",
       "</table>\n",
       "<p>37423 rows × 2 columns</p>\n",
       "</div>"
      ],
      "text/plain": [
       "             time           site\n",
       "0      2022-09-21  ukk3106-32100\n",
       "1      2020-08-08  ukh1407-10750\n",
       "2      2020-09-20  ukd4200-42100\n",
       "3      2022-07-06  ukk2206-20900\n",
       "4      2021-08-24  ukk4305-26100\n",
       "...           ...            ...\n",
       "37418  2021-09-22  ukj2402-15680\n",
       "37419  2021-08-14  ukk3104-33500\n",
       "37420  2022-05-20  ukk4305-25600\n",
       "37421  2022-06-25  ukj3400-18000\n",
       "37422  2021-09-27  ukj2201-14500\n",
       "\n",
       "[37423 rows x 2 columns]"
      ]
     },
     "execution_count": 8,
     "metadata": {},
     "output_type": "execute_result"
    }
   ],
   "source": [
    "test_labels_mean_zero = pd.read_csv('data/test_labels_mean_zero.csv')[['time', 'site']]\n",
    "test_labels_mean_zero"
   ]
  },
  {
   "cell_type": "code",
   "execution_count": 9,
   "metadata": {},
   "outputs": [
    {
     "name": "stdout",
     "output_type": "stream",
     "text": [
      "Training X Shape: (112266, 192)\n",
      "Training y Shape: (112266,)\n",
      "Validation X Shape: (37422, 192)\n",
      "Validation y Shape: (37422,)\n",
      "Testing X Shape: (37423, 192)\n",
      "Testing y Shape: (37423,)\n"
     ]
    }
   ],
   "source": [
    "# Train test validation split\n",
    "df_train = df_merged_neg_15x15.merge(train_labels_mean_zero, on=['time', 'site'], how='inner')\n",
    "df_val = df_merged_neg_15x15.merge(validation_labels_mean_zero, on=['time', 'site'], how='inner')\n",
    "df_test = df_merged_neg_15x15.merge(test_labels_mean_zero, on=['time', 'site'], how='inner')\n",
    "\n",
    "df_train.drop(['time', 'site'], axis=1, inplace=True)\n",
    "df_val.drop(['time', 'site'], axis=1, inplace=True)\n",
    "df_test.drop(['time', 'site'], axis=1, inplace=True)\n",
    "\n",
    "y_train = df_train.pop('riskLevelLabel')\n",
    "y_val = df_val.pop('riskLevelLabel')\n",
    "y_test = df_test.pop('riskLevelLabel')\n",
    "\n",
    "X_train = df_train\n",
    "X_val = df_val\n",
    "X_test = df_test\n",
    "\n",
    "print('Training X Shape:', X_train.shape)\n",
    "print('Training y Shape:', y_train.shape)\n",
    "print('Validation X Shape:', X_val.shape)\n",
    "print('Validation y Shape:', y_val.shape)\n",
    "print('Testing X Shape:', X_test.shape)\n",
    "print('Testing y Shape:', y_test.shape)"
   ]
  },
  {
   "cell_type": "markdown",
   "metadata": {},
   "source": [
    "* [Table of Contents](#Contents)"
   ]
  },
  {
   "cell_type": "markdown",
   "metadata": {
    "id": "Tsbgkearbonv"
   },
   "source": [
    "# Functions<a class=\"anchor\" id=\"Functions\"></a>"
   ]
  },
  {
   "cell_type": "code",
   "execution_count": 10,
   "metadata": {},
   "outputs": [],
   "source": [
    "def pr_curve(model, X_test, y_test):\n",
    "    y_pred = model.predict(X_test)\n",
    "    precision, recall, _ = precision_recall_curve(y_test, y_pred)\n",
    "    prc_auc = auc(recall, precision)\n",
    "    fig, ax = plt.subplots()\n",
    "    ax.plot(recall, precision, label='Precision recall curve (area = %0.2f)' % prc_auc)\n",
    "    ax.axhline(y=counts_normalized[1], color='gray', linestyle='--', label='baseline')\n",
    "    ax.set_xlim([0, 1])\n",
    "    ax.set_ylim([0, 1])\n",
    "    ax.set_xlabel('Recall')\n",
    "    ax.set_ylabel('Precision')\n",
    "    ax.set_title('Precision-Recall Curve')\n",
    "    ax.legend(loc=\"lower right\")\n",
    "    plt.show()\n",
    "    return fig"
   ]
  },
  {
   "cell_type": "code",
   "execution_count": 11,
   "metadata": {},
   "outputs": [],
   "source": [
    "def plot_roc(model, X_test, y_test):\n",
    "    y_pred = model.predict(X_test)\n",
    "    fpr, tpr, thresholds = roc_curve(y_test, y_pred)\n",
    "    roc_auc = auc(fpr, tpr)\n",
    "    fig, ax = plt.subplots()\n",
    "    ax.plot(fpr, tpr, label='ROC curve (area = %0.2f)' % roc_auc)\n",
    "    ax.plot([0, 1], [0, 1], 'k--')\n",
    "    ax.set_xlim([0, 1])\n",
    "    ax.set_ylim([0, 1])\n",
    "    ax.set_xlabel('False Positive Rate')\n",
    "    ax.set_ylabel('True Positive Rate')\n",
    "    ax.set_title('Receiver Operating Curve')\n",
    "    ax.legend(loc=\"lower right\")\n",
    "    plt.show()\n",
    "    return fig"
   ]
  },
  {
   "cell_type": "code",
   "execution_count": 12,
   "metadata": {
    "executionInfo": {
     "elapsed": 6,
     "status": "ok",
     "timestamp": 1690583670624,
     "user": {
      "displayName": "Zachary Lu",
      "userId": "08339288598973642231"
     },
     "user_tz": -60
    },
    "id": "z5apiGDHcQ8c"
   },
   "outputs": [],
   "source": [
    "def cm(model,X_test,y_test):\n",
    "    cm = ConfusionMatrixDisplay.from_estimator(model, X_test, y_test)\n",
    "    cm.plot"
   ]
  },
  {
   "cell_type": "code",
   "execution_count": 13,
   "metadata": {},
   "outputs": [],
   "source": [
    "def save_result(model,X_test,y_test):\n",
    "    y_pred = model.predict(X_test)\n",
    "    ACC = accuracy_score(y_test, y_pred)\n",
    "    fpr, tpr, _ = roc_curve(y_test, y_pred)\n",
    "    AUC_ROC = auc(fpr, tpr)\n",
    "    PRE = precision_score(y_test, y_pred)\n",
    "    REC = recall_score(y_test, y_pred)\n",
    "    precision, recall, _ = precision_recall_curve(y_test, y_pred)\n",
    "    AUC_PRC = auc(recall, precision)\n",
    "    F1 = f1_score(y_test, y_pred)\n",
    "    return ACC, AUC_ROC, PRE, REC, AUC_PRC, F1"
   ]
  },
  {
   "cell_type": "code",
   "execution_count": 14,
   "metadata": {},
   "outputs": [],
   "source": [
    "def get_metrics_from_test_df(df):\n",
    "    y_pred = df['predictions']\n",
    "    y_actual = df['riskLevelLabel']\n",
    "\n",
    "    f1_ = round(f1_score(y_actual, y_pred), 3)\n",
    "    precision = round(precision_score(y_actual, y_pred), 3)\n",
    "    recall = round(recall_score(y_actual, y_pred), 3)\n",
    "    pr_auc = round(average_precision_score(y_actual, y_pred), 3)\n",
    "    roc_auc = round(roc_auc_score(y_actual, y_pred), 3)   \n",
    "    accuracy = round(accuracy_score(y_actual, y_pred), 3)\n",
    "    \n",
    "    metrics_list = [len(df), f1_, precision, recall, pr_auc, roc_auc, accuracy]\n",
    "    return metrics_list"
   ]
  },
  {
   "cell_type": "markdown",
   "metadata": {},
   "source": [
    "* [Table of Contents](#Contents)"
   ]
  },
  {
   "cell_type": "markdown",
   "metadata": {},
   "source": [
    "# Multi-layer Perceptron Classifier<a class=\"anchor\" id=\"MLP\"></a>"
   ]
  },
  {
   "cell_type": "code",
   "execution_count": 11,
   "metadata": {},
   "outputs": [],
   "source": [
    "def mlp_model(X_train, y_train, X_val, y_val):\n",
    "    # Apply Random Oversampling\n",
    "    ros = RandomOverSampler()\n",
    "    X_train_oversampled, y_train_oversampled = ros.fit_resample(X_train, y_train)\n",
    "\n",
    "#     params = {'hidden_layer_sizes': [(200,400,200,100), (300,600,300,150), (300, 600, 300), (400,800,400,200)],\n",
    "#               'activation': ['logistic', 'relu'],\n",
    "#               'alpha': [0.00001, 0.0001, 0.001]\n",
    "#              }\n",
    "    params = {'hidden_layer_sizes': [(200,400,200), (400,800,400,200)],\n",
    "              'activation': ['logistic', 'relu'],\n",
    "              'learning_rate': ['adaptive'],\n",
    "              'alpha': [0.0001, 0.001, 0.01],\n",
    "              'solver': ['adam', 'sgd']\n",
    "             }\n",
    "\n",
    "\n",
    "    best_f1 = 0\n",
    "    best_params = {}\n",
    "    for hidden_layer_sizes in params['hidden_layer_sizes']:\n",
    "        for activation in params['activation']:\n",
    "            for learning_rate in params['learning_rate']:\n",
    "                for alpha in params['alpha']:\n",
    "                    for solver in params['solver']:\n",
    "                        mlp_model = MLPClassifier(hidden_layer_sizes=hidden_layer_sizes,\n",
    "                                                 activation=activation,\n",
    "                                                 learning_rate=learning_rate,\n",
    "                                                 alpha=alpha,\n",
    "                                                 solver=solver,\n",
    "                                                 batch_size=1000,\n",
    "                                                 random_state=100,\n",
    "                                                 max_iter=500)\n",
    "                        temp_model = mlp_model.fit(X_train_oversampled, y_train_oversampled)\n",
    "                        y_val_pred = mlp_model.predict(X_val)\n",
    "                        f1 = f1_score(y_val, y_val_pred)\n",
    "\n",
    "                        if f1 > best_f1:\n",
    "                            best_f1 = f1\n",
    "                            best_params = {'hidden_layer_sizes': hidden_layer_sizes, 'activation': activation,\n",
    "                                           'learning_rate': learning_rate, 'alpha': alpha, 'solver': solver}\n",
    "                            best_mlp = temp_model\n",
    "\n",
    "    print('Best Hyperparameters:', best_params)\n",
    "    return best_mlp"
   ]
  },
  {
   "cell_type": "markdown",
   "metadata": {},
   "source": [
    "## Run the Model<a class=\"anchor\" id=\"Run_MLP\"></a>"
   ]
  },
  {
   "cell_type": "markdown",
   "metadata": {},
   "source": [
    "### Select the best hyperparameter on validation data"
   ]
  },
  {
   "cell_type": "code",
   "execution_count": 12,
   "metadata": {},
   "outputs": [
    {
     "name": "stdout",
     "output_type": "stream",
     "text": [
      "Best Hyperparameters: {'hidden_layer_sizes': (400, 800, 400, 200), 'activation': 'relu', 'learning_rate': 'adaptive', 'alpha': 0.0001, 'solver': 'sgd'}\n",
      "Wall time: 8h 31min 13s\n"
     ]
    }
   ],
   "source": [
    "%%time\n",
    "best_mlp = mlp_model(X_train, y_train, X_val, y_val)"
   ]
  },
  {
   "cell_type": "code",
   "execution_count": 13,
   "metadata": {},
   "outputs": [
    {
     "data": {
      "text/plain": [
       "['best_model/best_mlp_neg.joblib']"
      ]
     },
     "execution_count": 13,
     "metadata": {},
     "output_type": "execute_result"
    }
   ],
   "source": [
    "from joblib import dump\n",
    "\n",
    "# 保存模型到文件\n",
    "dump(best_mlp, 'best_model/best_mlp_neg.joblib')"
   ]
  },
  {
   "cell_type": "markdown",
   "metadata": {},
   "source": [
    "## ROC Curve and Precision-Recall Curve<a class=\"anchor\" id=\"Curve_MLP\"></a>"
   ]
  },
  {
   "cell_type": "markdown",
   "metadata": {},
   "source": [
    "### ROC Curve"
   ]
  },
  {
   "cell_type": "code",
   "execution_count": 14,
   "metadata": {},
   "outputs": [
    {
     "data": {
      "image/png": "[encoded data removed]",
      "text/plain": [
       "<Figure size 640x480 with 1 Axes>"
      ]
     },
     "metadata": {},
     "output_type": "display_data"
    }
   ],
   "source": [
    "roc_mlp = plot_roc(best_mlp, X_test, y_test)"
   ]
  },
  {
   "cell_type": "code",
   "execution_count": 15,
   "metadata": {},
   "outputs": [],
   "source": [
    "roc_mlp.savefig('results/ROC_neg_15x15_mlp.png')"
   ]
  },
  {
   "cell_type": "markdown",
   "metadata": {},
   "source": [
    "### Precision-Recall Curve"
   ]
  },
  {
   "cell_type": "code",
   "execution_count": 18,
   "metadata": {},
   "outputs": [
    {
     "data": {
      "image/png": "[encoded data removed]",
      "text/plain": [
       "<Figure size 640x480 with 1 Axes>"
      ]
     },
     "metadata": {},
     "output_type": "display_data"
    }
   ],
   "source": [
    "prc_mlp = pr_curve(best_mlp, X_test, y_test)"
   ]
  },
  {
   "cell_type": "code",
   "execution_count": 19,
   "metadata": {},
   "outputs": [],
   "source": [
    "prc_mlp.savefig('results/PRC_neg_15x15_mlp.png')"
   ]
  },
  {
   "cell_type": "markdown",
   "metadata": {},
   "source": [
    "## Results<a class=\"anchor\" id=\"Results_MLP\"></a>"
   ]
  },
  {
   "cell_type": "code",
   "execution_count": 20,
   "metadata": {},
   "outputs": [
    {
     "name": "stdout",
     "output_type": "stream",
     "text": [
      "MLPClassifier(batch_size=1000, hidden_layer_sizes=(400, 800, 400, 200),\n",
      "              learning_rate='adaptive', max_iter=500, random_state=100,\n",
      "              solver='sgd') \n",
      "On test data, Accuracy: 0.52\n",
      "On test data, Precision: 0.04\n",
      "On test data, Recall: 0.73\n",
      "On test data, f1 score: 0.08 \n"
     ]
    },
    {
     "data": {
      "image/png": "[encoded data removed]",
      "text/plain": [
       "<Figure size 640x480 with 2 Axes>"
      ]
     },
     "metadata": {},
     "output_type": "display_data"
    }
   ],
   "source": [
    "cm(best_mlp, X_test, y_test)"
   ]
  },
  {
   "cell_type": "code",
   "execution_count": 21,
   "metadata": {},
   "outputs": [
    {
     "data": {
      "text/html": [
       "<div>\n",
       "<style scoped>\n",
       "    .dataframe tbody tr th:only-of-type {\n",
       "        vertical-align: middle;\n",
       "    }\n",
       "\n",
       "    .dataframe tbody tr th {\n",
       "        vertical-align: top;\n",
       "    }\n",
       "\n",
       "    .dataframe thead th {\n",
       "        text-align: right;\n",
       "    }\n",
       "</style>\n",
       "<table border=\"1\" class=\"dataframe\">\n",
       "  <thead>\n",
       "    <tr style=\"text-align: right;\">\n",
       "      <th></th>\n",
       "      <th>Model</th>\n",
       "      <th>Sub-Model</th>\n",
       "      <th>Accuracy</th>\n",
       "      <th>AUC_ROC</th>\n",
       "      <th>Precision</th>\n",
       "      <th>Recall</th>\n",
       "      <th>AUC_PRC</th>\n",
       "      <th>f1 score</th>\n",
       "    </tr>\n",
       "  </thead>\n",
       "  <tbody>\n",
       "    <tr>\n",
       "      <th>0</th>\n",
       "      <td>Multi-layer Perceptron Classifier</td>\n",
       "      <td>df_merged_neg_15x15</td>\n",
       "      <td>0.520375</td>\n",
       "      <td>0.621575</td>\n",
       "      <td>0.040823</td>\n",
       "      <td>0.728682</td>\n",
       "      <td>0.388494</td>\n",
       "      <td>0.077315</td>\n",
       "    </tr>\n",
       "  </tbody>\n",
       "</table>\n",
       "</div>"
      ],
      "text/plain": [
       "                               Model            Sub-Model  Accuracy   AUC_ROC  \\\n",
       "0  Multi-layer Perceptron Classifier  df_merged_neg_15x15  0.520375  0.621575   \n",
       "\n",
       "   Precision    Recall   AUC_PRC  f1 score  \n",
       "0   0.040823  0.728682  0.388494  0.077315  "
      ]
     },
     "execution_count": 21,
     "metadata": {},
     "output_type": "execute_result"
    }
   ],
   "source": [
    "results_df_mlp = pd.DataFrame([['Multi-layer Perceptron Classifier', 'df_merged_neg_15x15', *save_result(best_mlp,X_test,y_test)]],\n",
    "                             columns=['Model', 'Sub-Model', 'Accuracy', 'AUC_ROC','Precision','Recall', 'AUC_PRC', 'f1 score'])\n",
    "results_df_mlp"
   ]
  },
  {
   "cell_type": "code",
   "execution_count": 22,
   "metadata": {},
   "outputs": [],
   "source": [
    "results_df_mlp.to_csv('results/results_neg_15x15_mlp.csv')"
   ]
  },
  {
   "cell_type": "markdown",
   "metadata": {},
   "source": [
    "* [Table of Contents](#Contents)"
   ]
  },
  {
   "cell_type": "markdown",
   "metadata": {},
   "source": [
    "# Multi-layer Perceptron Classifier with PCA<a class=\"anchor\" id=\"PCA\"></a>"
   ]
  },
  {
   "cell_type": "code",
   "execution_count": 25,
   "metadata": {},
   "outputs": [
    {
     "name": "stdout",
     "output_type": "stream",
     "text": [
      "the shape of X_train after PCA: (112266, 5) the shape of y train: (112266,)\n",
      "the shape of X_val after PCA: (37422, 5) the shape of y train: (37422,)\n",
      "the shape of X_test after PCA: (37423, 5) the shape of y test: (37423,)\n"
     ]
    }
   ],
   "source": [
    "## Fit X_train, X_val, X_test with the PCA\n",
    "pca = PCA(n_components = 5, random_state = 100)\n",
    "pca.fit(X_train)\n",
    "X_train_pc = pca.transform(X_train)\n",
    "X_val_pc = pca.transform(X_val)\n",
    "X_test_pc = pca.transform(X_test)\n",
    "print('the shape of X_train after PCA:',X_train_pc.shape,'the shape of y train:',y_train.shape)\n",
    "print('the shape of X_val after PCA:',X_val_pc.shape,'the shape of y train:',y_val.shape)\n",
    "print('the shape of X_test after PCA:',X_test_pc.shape,'the shape of y test:',y_test.shape)"
   ]
  },
  {
   "cell_type": "code",
   "execution_count": 26,
   "metadata": {},
   "outputs": [],
   "source": [
    "def best_mlp_model(X_train, y_train):\n",
    "    ros = RandomOverSampler()\n",
    "    X_train_oversampled, y_train_oversampled = ros.fit_resample(X_train, y_train)\n",
    "    best_mlp = MLPClassifier(hidden_layer_sizes=(400, 800, 400, 200),\n",
    "                                  activation='relu',\n",
    "                                  learning_rate='adaptive',\n",
    "                                  alpha=0.0001,\n",
    "                                  solver='sgd',\n",
    "                                  batch_size=1000,\n",
    "                                  random_state=100,\n",
    "                                  max_iter=200)\n",
    "    best_mlp.fit(X_train_oversampled, y_train_oversampled)\n",
    "    return best_mlp"
   ]
  },
  {
   "cell_type": "code",
   "execution_count": 27,
   "metadata": {},
   "outputs": [],
   "source": [
    "best_mlp_pc = best_mlp_model(X_train_pc, y_train)"
   ]
  },
  {
   "cell_type": "code",
   "execution_count": 28,
   "metadata": {},
   "outputs": [
    {
     "data": {
      "text/plain": [
       "['results/best_mlp_neg_pc_model.joblib']"
      ]
     },
     "execution_count": 28,
     "metadata": {},
     "output_type": "execute_result"
    }
   ],
   "source": [
    "from joblib import dump\n",
    "dump(best_mlp_pc, 'best_model/best_mlp_neg_pc_model.joblib')"
   ]
  },
  {
   "cell_type": "code",
   "execution_count": 29,
   "metadata": {},
   "outputs": [
    {
     "data": {
      "image/png": "[encoded data removed]",
      "text/plain": [
       "<Figure size 640x480 with 1 Axes>"
      ]
     },
     "metadata": {},
     "output_type": "display_data"
    }
   ],
   "source": [
    "roc_mlp = plot_roc(best_mlp_pc, X_test_pc, y_test)"
   ]
  },
  {
   "cell_type": "code",
   "execution_count": 30,
   "metadata": {},
   "outputs": [],
   "source": [
    "roc_mlp.savefig('results/ROC_neg_15x15_mlp_PCA.png')"
   ]
  },
  {
   "cell_type": "code",
   "execution_count": 31,
   "metadata": {},
   "outputs": [
    {
     "data": {
      "image/png": "[encoded data removed]",
      "text/plain": [
       "<Figure size 640x480 with 1 Axes>"
      ]
     },
     "metadata": {},
     "output_type": "display_data"
    }
   ],
   "source": [
    "prc_mlp = pr_curve(best_mlp_pc, X_test_pc, y_test)"
   ]
  },
  {
   "cell_type": "code",
   "execution_count": 32,
   "metadata": {},
   "outputs": [],
   "source": [
    "prc_mlp.savefig('results/PRC_neg_15x15_mlp_PCA.png')"
   ]
  },
  {
   "cell_type": "code",
   "execution_count": 33,
   "metadata": {},
   "outputs": [
    {
     "name": "stdout",
     "output_type": "stream",
     "text": [
      "MLPClassifier(batch_size=1000, hidden_layer_sizes=(400, 800, 400, 200),\n",
      "              learning_rate='adaptive', random_state=100, solver='sgd') \n",
      "On test data, Accuracy: 0.52\n",
      "On test data, Precision: 0.04\n",
      "On test data, Recall: 0.72\n",
      "On test data, f1 score: 0.08 \n"
     ]
    },
    {
     "data": {
      "image/png": "[encoded data removed]",
      "text/plain": [
       "<Figure size 640x480 with 2 Axes>"
      ]
     },
     "metadata": {},
     "output_type": "display_data"
    }
   ],
   "source": [
    "cm(best_mlp_pc, X_test_pc, y_test)"
   ]
  },
  {
   "cell_type": "code",
   "execution_count": 34,
   "metadata": {},
   "outputs": [
    {
     "data": {
      "text/html": [
       "<div>\n",
       "<style scoped>\n",
       "    .dataframe tbody tr th:only-of-type {\n",
       "        vertical-align: middle;\n",
       "    }\n",
       "\n",
       "    .dataframe tbody tr th {\n",
       "        vertical-align: top;\n",
       "    }\n",
       "\n",
       "    .dataframe thead th {\n",
       "        text-align: right;\n",
       "    }\n",
       "</style>\n",
       "<table border=\"1\" class=\"dataframe\">\n",
       "  <thead>\n",
       "    <tr style=\"text-align: right;\">\n",
       "      <th></th>\n",
       "      <th>Model</th>\n",
       "      <th>Sub-Model</th>\n",
       "      <th>Accuracy</th>\n",
       "      <th>AUC_ROC</th>\n",
       "      <th>Precision</th>\n",
       "      <th>Recall</th>\n",
       "      <th>AUC_PRC</th>\n",
       "      <th>f1 score</th>\n",
       "    </tr>\n",
       "  </thead>\n",
       "  <tbody>\n",
       "    <tr>\n",
       "      <th>0</th>\n",
       "      <td>Multi-layer Perceptron Classifier</td>\n",
       "      <td>df_merged_neg_15x15 with PCA</td>\n",
       "      <td>0.523395</td>\n",
       "      <td>0.619362</td>\n",
       "      <td>0.040674</td>\n",
       "      <td>0.72093</td>\n",
       "      <td>0.38465</td>\n",
       "      <td>0.077003</td>\n",
       "    </tr>\n",
       "  </tbody>\n",
       "</table>\n",
       "</div>"
      ],
      "text/plain": [
       "                               Model                     Sub-Model  Accuracy  \\\n",
       "0  Multi-layer Perceptron Classifier  df_merged_neg_15x15 with PCA  0.523395   \n",
       "\n",
       "    AUC_ROC  Precision   Recall  AUC_PRC  f1 score  \n",
       "0  0.619362   0.040674  0.72093  0.38465  0.077003  "
      ]
     },
     "execution_count": 34,
     "metadata": {},
     "output_type": "execute_result"
    }
   ],
   "source": [
    "results_df_mlp = pd.DataFrame([['Multi-layer Perceptron Classifier', 'df_merged_neg_15x15 with PCA', *save_result(best_mlp_pc,X_test_pc,y_test)]],\n",
    "                             columns=['Model', 'Sub-Model', 'Accuracy', 'AUC_ROC','Precision','Recall', 'AUC_PRC', 'f1 score'])\n",
    "results_df_mlp"
   ]
  },
  {
   "cell_type": "code",
   "execution_count": 35,
   "metadata": {},
   "outputs": [],
   "source": [
    "results_df_mlp.to_csv('results/results_neg_15x15_mlp_PCA.csv')"
   ]
  },
  {
   "cell_type": "markdown",
   "metadata": {},
   "source": [
    "* [Table of Contents](#Contents)"
   ]
  },
  {
   "cell_type": "markdown",
   "metadata": {},
   "source": [
    "# Test data for different regions<a class=\"anchor\" id=\"Regions\"></a>"
   ]
  },
  {
   "cell_type": "code",
   "execution_count": 15,
   "metadata": {},
   "outputs": [],
   "source": [
    "df_test_region = pd.read_csv('data/df_test_with_region.csv')"
   ]
  },
  {
   "cell_type": "code",
   "execution_count": 16,
   "metadata": {},
   "outputs": [],
   "source": [
    "df_test_sw = df_test_region[df_test_region['region']=='South West']\n",
    "df_test_sw = df_test_sw.drop(columns=['region', 'time', 'site'], axis=1)\n",
    "y_test_sw = df_test_sw.pop('riskLevelLabel')\n",
    "X_test_sw = df_test_sw\n",
    "df_test_se = df_test_region[df_test_region['region']=='South East']\n",
    "df_test_se = df_test_se.drop(columns=['region', 'time', 'site'], axis=1)\n",
    "y_test_se = df_test_se.pop('riskLevelLabel')\n",
    "X_test_se = df_test_se\n",
    "df_test_ee = df_test_region[df_test_region['region']=='East of England']\n",
    "df_test_ee = df_test_ee.drop(columns=['region', 'time', 'site'], axis=1)\n",
    "y_test_ee = df_test_ee.pop('riskLevelLabel')\n",
    "X_test_ee = df_test_ee\n",
    "df_test_ne = df_test_region[df_test_region['region']=='North East']\n",
    "df_test_ne = df_test_ne.drop(columns=['region', 'time', 'site'], axis=1)\n",
    "y_test_ne = df_test_ne.pop('riskLevelLabel')\n",
    "X_test_ne = df_test_ne\n",
    "df_test_nw = df_test_region[df_test_region['region']=='North West']\n",
    "df_test_nw = df_test_nw.drop(columns=['region', 'time', 'site'], axis=1)\n",
    "y_test_nw = df_test_nw.pop('riskLevelLabel')\n",
    "X_test_nw = df_test_nw\n",
    "df_test_yh = df_test_region[df_test_region['region']=='Yorkshire and The Humber']\n",
    "df_test_yh = df_test_yh.drop(columns=['region', 'time', 'site'], axis=1)\n",
    "y_test_yh = df_test_yh.pop('riskLevelLabel')\n",
    "X_test_yh = df_test_yh\n",
    "df_test_em = df_test_region[df_test_region['region']=='East Midlands']\n",
    "df_test_em = df_test_em.drop(columns=['region', 'time', 'site'], axis=1)\n",
    "y_test_em = df_test_em.pop('riskLevelLabel')\n",
    "X_test_em = df_test_em"
   ]
  },
  {
   "cell_type": "code",
   "execution_count": 17,
   "metadata": {},
   "outputs": [],
   "source": [
    "df_test_ld = df_test_region[df_test_region['region']=='London']\n",
    "df_test_ld = df_test_ld.drop(columns=['region', 'time', 'site'], axis=1)\n",
    "y_test_ld = df_test_ld.pop('riskLevelLabel')\n",
    "X_test_ld = df_test_ld"
   ]
  },
  {
   "cell_type": "code",
   "execution_count": 19,
   "metadata": {},
   "outputs": [
    {
     "data": {
      "text/html": [
       "<div>\n",
       "<style scoped>\n",
       "    .dataframe tbody tr th:only-of-type {\n",
       "        vertical-align: middle;\n",
       "    }\n",
       "\n",
       "    .dataframe tbody tr th {\n",
       "        vertical-align: top;\n",
       "    }\n",
       "\n",
       "    .dataframe thead th {\n",
       "        text-align: right;\n",
       "    }\n",
       "</style>\n",
       "<table border=\"1\" class=\"dataframe\">\n",
       "  <thead>\n",
       "    <tr style=\"text-align: right;\">\n",
       "      <th></th>\n",
       "      <th>Model</th>\n",
       "      <th>Sub-Model</th>\n",
       "      <th>Region</th>\n",
       "      <th>Accuracy</th>\n",
       "      <th>AUC_ROC</th>\n",
       "      <th>Precision</th>\n",
       "      <th>Recall</th>\n",
       "      <th>AUC_PRC</th>\n",
       "      <th>f1 score</th>\n",
       "    </tr>\n",
       "  </thead>\n",
       "  <tbody>\n",
       "    <tr>\n",
       "      <th>0</th>\n",
       "      <td>Multi-layer Perceptron Classifier</td>\n",
       "      <td>df_merged_neg_15x15</td>\n",
       "      <td>South West</td>\n",
       "      <td>0.576202</td>\n",
       "      <td>0.588020</td>\n",
       "      <td>0.034608</td>\n",
       "      <td>0.600451</td>\n",
       "      <td>0.322467</td>\n",
       "      <td>0.065445</td>\n",
       "    </tr>\n",
       "    <tr>\n",
       "      <th>1</th>\n",
       "      <td></td>\n",
       "      <td></td>\n",
       "      <td>South East</td>\n",
       "      <td>0.667368</td>\n",
       "      <td>0.629145</td>\n",
       "      <td>0.045242</td>\n",
       "      <td>0.588832</td>\n",
       "      <td>0.322364</td>\n",
       "      <td>0.084028</td>\n",
       "    </tr>\n",
       "    <tr>\n",
       "      <th>2</th>\n",
       "      <td></td>\n",
       "      <td></td>\n",
       "      <td>East of England</td>\n",
       "      <td>0.557265</td>\n",
       "      <td>0.502758</td>\n",
       "      <td>0.018746</td>\n",
       "      <td>0.446154</td>\n",
       "      <td>0.237578</td>\n",
       "      <td>0.035980</td>\n",
       "    </tr>\n",
       "    <tr>\n",
       "      <th>3</th>\n",
       "      <td></td>\n",
       "      <td></td>\n",
       "      <td>North East</td>\n",
       "      <td>0.500169</td>\n",
       "      <td>0.626328</td>\n",
       "      <td>0.045932</td>\n",
       "      <td>0.760870</td>\n",
       "      <td>0.407126</td>\n",
       "      <td>0.086634</td>\n",
       "    </tr>\n",
       "    <tr>\n",
       "      <th>4</th>\n",
       "      <td></td>\n",
       "      <td></td>\n",
       "      <td>North West</td>\n",
       "      <td>0.511537</td>\n",
       "      <td>0.533160</td>\n",
       "      <td>0.057753</td>\n",
       "      <td>0.557252</td>\n",
       "      <td>0.318844</td>\n",
       "      <td>0.104659</td>\n",
       "    </tr>\n",
       "    <tr>\n",
       "      <th>5</th>\n",
       "      <td></td>\n",
       "      <td></td>\n",
       "      <td>Yorkshire and The Humber</td>\n",
       "      <td>0.531659</td>\n",
       "      <td>0.523318</td>\n",
       "      <td>0.041860</td>\n",
       "      <td>0.514286</td>\n",
       "      <td>0.287353</td>\n",
       "      <td>0.077419</td>\n",
       "    </tr>\n",
       "    <tr>\n",
       "      <th>6</th>\n",
       "      <td></td>\n",
       "      <td></td>\n",
       "      <td>East Midlands</td>\n",
       "      <td>0.492816</td>\n",
       "      <td>0.423521</td>\n",
       "      <td>0.020173</td>\n",
       "      <td>0.350000</td>\n",
       "      <td>0.194426</td>\n",
       "      <td>0.038147</td>\n",
       "    </tr>\n",
       "    <tr>\n",
       "      <th>7</th>\n",
       "      <td></td>\n",
       "      <td></td>\n",
       "      <td>London</td>\n",
       "      <td>0.040462</td>\n",
       "      <td>0.500000</td>\n",
       "      <td>0.040462</td>\n",
       "      <td>1.000000</td>\n",
       "      <td>0.520231</td>\n",
       "      <td>0.077778</td>\n",
       "    </tr>\n",
       "  </tbody>\n",
       "</table>\n",
       "</div>"
      ],
      "text/plain": [
       "                               Model            Sub-Model  \\\n",
       "0  Multi-layer Perceptron Classifier  df_merged_neg_15x15   \n",
       "1                                                           \n",
       "2                                                           \n",
       "3                                                           \n",
       "4                                                           \n",
       "5                                                           \n",
       "6                                                           \n",
       "7                                                           \n",
       "\n",
       "                     Region  Accuracy   AUC_ROC  Precision    Recall  \\\n",
       "0                South West  0.576202  0.588020   0.034608  0.600451   \n",
       "1                South East  0.667368  0.629145   0.045242  0.588832   \n",
       "2           East of England  0.557265  0.502758   0.018746  0.446154   \n",
       "3                North East  0.500169  0.626328   0.045932  0.760870   \n",
       "4                North West  0.511537  0.533160   0.057753  0.557252   \n",
       "5  Yorkshire and The Humber  0.531659  0.523318   0.041860  0.514286   \n",
       "6             East Midlands  0.492816  0.423521   0.020173  0.350000   \n",
       "7                    London  0.040462  0.500000   0.040462  1.000000   \n",
       "\n",
       "    AUC_PRC  f1 score  \n",
       "0  0.322467  0.065445  \n",
       "1  0.322364  0.084028  \n",
       "2  0.237578  0.035980  \n",
       "3  0.407126  0.086634  \n",
       "4  0.318844  0.104659  \n",
       "5  0.287353  0.077419  \n",
       "6  0.194426  0.038147  \n",
       "7  0.520231  0.077778  "
      ]
     },
     "execution_count": 19,
     "metadata": {},
     "output_type": "execute_result"
    }
   ],
   "source": [
    "results_df_mlp_regions = pd.DataFrame([['Multi-layer Perceptron Classifier', 'df_merged_neg_15x15', 'South West', *save_result(best_mlp,X_test_sw,y_test_sw)],\n",
    "                                  ['','', 'South East', *save_result(best_mlp,X_test_se,y_test_se)], \n",
    "                                 ['','', 'East of England', *save_result(best_mlp,X_test_ee,y_test_ee)], \n",
    "                                 ['','', 'North East', *save_result(best_mlp,X_test_ne,y_test_ne)], \n",
    "                                 ['','', 'North West', *save_result(best_mlp,X_test_nw,y_test_nw)], \n",
    "                                 ['','', 'Yorkshire and The Humber', *save_result(best_mlp,X_test_yh,y_test_yh)],\n",
    "                                 ['','', 'East Midlands', *save_result(best_mlp,X_test_em,y_test_em)], \n",
    "                                  ['','', 'London', *save_result(best_mlp,X_test_ld,y_test_ld)]],\n",
    "                             columns=['Model', 'Sub-Model', 'Region', 'Accuracy', 'AUC_ROC','Precision','Recall', 'AUC_PRC', 'f1 score'])\n",
    "results_df_mlp_regions"
   ]
  },
  {
   "cell_type": "code",
   "execution_count": 20,
   "metadata": {},
   "outputs": [],
   "source": [
    "results_df_mlp_regions.to_csv('results/15_neg_MLP/Regions_neg_results.csv', index=False)"
   ]
  },
  {
   "cell_type": "markdown",
   "metadata": {},
   "source": [
    "* [Table of Contents](#Contents)"
   ]
  },
  {
   "cell_type": "markdown",
   "metadata": {},
   "source": [
    "# Test data for different months<a class=\"anchor\" id=\"Month\"></a>"
   ]
  },
  {
   "cell_type": "code",
   "execution_count": 13,
   "metadata": {},
   "outputs": [],
   "source": [
    "df_test = df_merged_neg_15x15.merge(test_labels_mean_zero, on=['time', 'site'], how='inner')\n",
    "df_test['predictions'] = best_mlp.predict(X_test)"
   ]
  },
  {
   "cell_type": "code",
   "execution_count": 14,
   "metadata": {},
   "outputs": [],
   "source": [
    "df_test['time'] = pd.to_datetime(df_test['time'])"
   ]
  },
  {
   "cell_type": "code",
   "execution_count": 16,
   "metadata": {},
   "outputs": [],
   "source": [
    "df_test_may = get_metrics_from_test_df(df_test[df_test['time'].dt.month==5])\n",
    "df_test_jun = get_metrics_from_test_df(df_test[df_test['time'].dt.month==6])\n",
    "df_test_jul = get_metrics_from_test_df(df_test[df_test['time'].dt.month==7])\n",
    "df_test_aug = get_metrics_from_test_df(df_test[df_test['time'].dt.month==8])\n",
    "df_test_sep = get_metrics_from_test_df(df_test[df_test['time'].dt.month==9])"
   ]
  },
  {
   "cell_type": "code",
   "execution_count": 17,
   "metadata": {},
   "outputs": [
    {
     "name": "stdout",
     "output_type": "stream",
     "text": [
      "[6430, 0.054, 0.028, 0.788, 0.025, 0.681, 0.577]\n",
      "[7690, 0.057, 0.03, 0.717, 0.027, 0.611, 0.51]\n",
      "[7829, 0.054, 0.028, 0.71, 0.026, 0.608, 0.51]\n",
      "[7683, 0.092, 0.049, 0.706, 0.045, 0.612, 0.525]\n",
      "[7429, 0.116, 0.063, 0.74, 0.058, 0.61, 0.492]\n"
     ]
    }
   ],
   "source": [
    "print(df_test_may)\n",
    "print(df_test_jun)\n",
    "print(df_test_jul)\n",
    "print(df_test_aug)\n",
    "print(df_test_sep)"
   ]
  },
  {
   "cell_type": "markdown",
   "metadata": {},
   "source": [
    "* [Table of Contents](#Contents)"
   ]
  },
  {
   "cell_type": "markdown",
   "metadata": {},
   "source": [
    "# Test data for different years<a class=\"anchor\" id=\"Year\"></a>"
   ]
  },
  {
   "cell_type": "code",
   "execution_count": 22,
   "metadata": {},
   "outputs": [],
   "source": [
    "df_test_2020 = get_metrics_from_test_df(df_test[df_test['time'].dt.year==2020])\n",
    "df_test_2021 = get_metrics_from_test_df(df_test[df_test['time'].dt.year==2021])\n",
    "df_test_2022 = get_metrics_from_test_df(df_test[df_test['time'].dt.year==2022])"
   ]
  },
  {
   "cell_type": "code",
   "execution_count": 23,
   "metadata": {},
   "outputs": [
    {
     "name": "stdout",
     "output_type": "stream",
     "text": [
      "[11766, 0.084, 0.044, 0.747, 0.041, 0.617, 0.496]\n",
      "[12894, 0.083, 0.044, 0.714, 0.04, 0.607, 0.507]\n",
      "[12763, 0.064, 0.034, 0.727, 0.03, 0.64, 0.557]\n"
     ]
    }
   ],
   "source": [
    "print(df_test_2020)\n",
    "print(df_test_2021)\n",
    "print(df_test_2022)"
   ]
  },
  {
   "cell_type": "markdown",
   "metadata": {},
   "source": [
    "* [Table of Contents](#Contents)"
   ]
  }
 ],
 "metadata": {
  "accelerator": "TPU",
  "colab": {
   "collapsed_sections": [
    "w2nMfJ_MM30c",
    "LbH3oq34M30f",
    "Inlpz-2fyRS-",
    "CQ2WRerRdX5E",
    "7_MflnfHQXCz",
    "qbDjSSIaoPmH",
    "um8esTkeoRAe"
   ],
   "gpuType": "V100",
   "machine_shape": "hm",
   "provenance": [
    {
     "file_id": "1qE3Zs_Ey6H0sAdFjsml-D7BwhPFeSlkd",
     "timestamp": 1689112394804
    }
   ],
   "toc_visible": true
  },
  "kernelspec": {
   "display_name": "Python 3 (ipykernel)",
   "language": "python",
   "name": "python3"
  },
  "language_info": {
   "codemirror_mode": {
    "name": "ipython",
    "version": 3
   },
   "file_extension": ".py",
   "mimetype": "text/x-python",
   "name": "python",
   "nbconvert_exporter": "python",
   "pygments_lexer": "ipython3",
   "version": "3.9.13"
  }
 },
 "nbformat": 4,
 "nbformat_minor": 1
}
