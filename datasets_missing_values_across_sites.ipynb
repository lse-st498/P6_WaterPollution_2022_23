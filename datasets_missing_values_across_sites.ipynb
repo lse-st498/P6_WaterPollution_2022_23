{
 "cells": [
  {
   "cell_type": "code",
   "execution_count": 1,
   "metadata": {},
   "outputs": [],
   "source": [
    "import pandas as pd\n",
    "import numpy as np"
   ]
  },
  {
   "cell_type": "markdown",
   "metadata": {},
   "source": [
    "# Bathing Water Data"
   ]
  },
  {
   "cell_type": "code",
   "execution_count": 2,
   "metadata": {},
   "outputs": [],
   "source": [
    "prf = pd.read_csv(\"~data/pollution_risk_forecasting.csv\")"
   ]
  },
  {
   "cell_type": "code",
   "execution_count": 6,
   "metadata": {},
   "outputs": [
    {
     "data": {
      "text/plain": [
       "428"
      ]
     },
     "execution_count": 6,
     "metadata": {},
     "output_type": "execute_result"
    }
   ],
   "source": [
    "len(prf['site'].unique())"
   ]
  },
  {
   "cell_type": "code",
   "execution_count": 14,
   "metadata": {},
   "outputs": [],
   "source": [
    "counts_per_site = prf.groupby('site').count().sort_values(by='riskLevelLabel')['time']"
   ]
  },
  {
   "cell_type": "code",
   "execution_count": 15,
   "metadata": {},
   "outputs": [
    {
     "data": {
      "text/plain": [
       "pandas.core.series.Series"
      ]
     },
     "execution_count": 15,
     "metadata": {},
     "output_type": "execute_result"
    }
   ],
   "source": [
    "type(counts_per_site)"
   ]
  },
  {
   "cell_type": "code",
   "execution_count": 17,
   "metadata": {},
   "outputs": [
    {
     "data": {
      "text/plain": [
       "<Axes: ylabel='Frequency'>"
      ]
     },
     "execution_count": 17,
     "metadata": {},
     "output_type": "execute_result"
    },
    {
     "data": {
      "image/png": "[encoded data removed]",
      "text/plain": [
       "<Figure size 640x480 with 1 Axes>"
      ]
     },
     "metadata": {},
     "output_type": "display_data"
    }
   ],
   "source": [
    "counts_per_site.plot.hist(bins=20)"
   ]
  },
  {
   "cell_type": "markdown",
   "metadata": {},
   "source": [
    "# S3 Data"
   ]
  },
  {
   "cell_type": "code",
   "execution_count": 2,
   "metadata": {},
   "outputs": [
    {
     "data": {
      "text/html": [
       "<div>\n",
       "<style scoped>\n",
       "    .dataframe tbody tr th:only-of-type {\n",
       "        vertical-align: middle;\n",
       "    }\n",
       "\n",
       "    .dataframe tbody tr th {\n",
       "        vertical-align: top;\n",
       "    }\n",
       "\n",
       "    .dataframe thead th {\n",
       "        text-align: right;\n",
       "    }\n",
       "</style>\n",
       "<table border=\"1\" class=\"dataframe\">\n",
       "  <thead>\n",
       "    <tr style=\"text-align: right;\">\n",
       "      <th></th>\n",
       "      <th>Unnamed: 0</th>\n",
       "      <th>time</th>\n",
       "      <th>lat</th>\n",
       "      <th>lon</th>\n",
       "      <th>BBP</th>\n",
       "      <th>CDM</th>\n",
       "      <th>site</th>\n",
       "      <th>SPM</th>\n",
       "      <th>KD490</th>\n",
       "      <th>ZSD</th>\n",
       "      <th>CHL</th>\n",
       "      <th>grid_index</th>\n",
       "    </tr>\n",
       "  </thead>\n",
       "  <tbody>\n",
       "    <tr>\n",
       "      <th>0</th>\n",
       "      <td>58197810</td>\n",
       "      <td>2020-01-01</td>\n",
       "      <td>54.588543</td>\n",
       "      <td>-1.255207</td>\n",
       "      <td>NaN</td>\n",
       "      <td>NaN</td>\n",
       "      <td>ukc1101-06000</td>\n",
       "      <td>NaN</td>\n",
       "      <td>NaN</td>\n",
       "      <td>NaN</td>\n",
       "      <td>NaN</td>\n",
       "      <td>1</td>\n",
       "    </tr>\n",
       "    <tr>\n",
       "      <th>1</th>\n",
       "      <td>58197811</td>\n",
       "      <td>2020-01-01</td>\n",
       "      <td>54.588543</td>\n",
       "      <td>-1.244790</td>\n",
       "      <td>NaN</td>\n",
       "      <td>NaN</td>\n",
       "      <td>ukc1101-06000</td>\n",
       "      <td>NaN</td>\n",
       "      <td>NaN</td>\n",
       "      <td>NaN</td>\n",
       "      <td>NaN</td>\n",
       "      <td>2</td>\n",
       "    </tr>\n",
       "    <tr>\n",
       "      <th>2</th>\n",
       "      <td>58197812</td>\n",
       "      <td>2020-01-01</td>\n",
       "      <td>54.588543</td>\n",
       "      <td>-1.234374</td>\n",
       "      <td>NaN</td>\n",
       "      <td>NaN</td>\n",
       "      <td>ukc1101-06000</td>\n",
       "      <td>NaN</td>\n",
       "      <td>NaN</td>\n",
       "      <td>NaN</td>\n",
       "      <td>NaN</td>\n",
       "      <td>3</td>\n",
       "    </tr>\n",
       "    <tr>\n",
       "      <th>3</th>\n",
       "      <td>58197813</td>\n",
       "      <td>2020-01-01</td>\n",
       "      <td>54.588543</td>\n",
       "      <td>-1.223957</td>\n",
       "      <td>NaN</td>\n",
       "      <td>NaN</td>\n",
       "      <td>ukc1101-06000</td>\n",
       "      <td>NaN</td>\n",
       "      <td>NaN</td>\n",
       "      <td>NaN</td>\n",
       "      <td>NaN</td>\n",
       "      <td>4</td>\n",
       "    </tr>\n",
       "    <tr>\n",
       "      <th>4</th>\n",
       "      <td>58197814</td>\n",
       "      <td>2020-01-01</td>\n",
       "      <td>54.588543</td>\n",
       "      <td>-1.213540</td>\n",
       "      <td>NaN</td>\n",
       "      <td>NaN</td>\n",
       "      <td>ukc1101-06000</td>\n",
       "      <td>NaN</td>\n",
       "      <td>NaN</td>\n",
       "      <td>NaN</td>\n",
       "      <td>NaN</td>\n",
       "      <td>5</td>\n",
       "    </tr>\n",
       "    <tr>\n",
       "      <th>...</th>\n",
       "      <td>...</td>\n",
       "      <td>...</td>\n",
       "      <td>...</td>\n",
       "      <td>...</td>\n",
       "      <td>...</td>\n",
       "      <td>...</td>\n",
       "      <td>...</td>\n",
       "      <td>...</td>\n",
       "      <td>...</td>\n",
       "      <td>...</td>\n",
       "      <td>...</td>\n",
       "      <td>...</td>\n",
       "    </tr>\n",
       "    <tr>\n",
       "      <th>106037995</th>\n",
       "      <td>53018785</td>\n",
       "      <td>2022-12-31</td>\n",
       "      <td>51.119793</td>\n",
       "      <td>-4.203124</td>\n",
       "      <td>NaN</td>\n",
       "      <td>NaN</td>\n",
       "      <td>ukk4307-33900</td>\n",
       "      <td>NaN</td>\n",
       "      <td>NaN</td>\n",
       "      <td>NaN</td>\n",
       "      <td>NaN</td>\n",
       "      <td>221</td>\n",
       "    </tr>\n",
       "    <tr>\n",
       "      <th>106037996</th>\n",
       "      <td>53018786</td>\n",
       "      <td>2022-12-31</td>\n",
       "      <td>51.119793</td>\n",
       "      <td>-4.192707</td>\n",
       "      <td>NaN</td>\n",
       "      <td>NaN</td>\n",
       "      <td>ukk4307-33900</td>\n",
       "      <td>NaN</td>\n",
       "      <td>NaN</td>\n",
       "      <td>NaN</td>\n",
       "      <td>NaN</td>\n",
       "      <td>222</td>\n",
       "    </tr>\n",
       "    <tr>\n",
       "      <th>106037997</th>\n",
       "      <td>53018787</td>\n",
       "      <td>2022-12-31</td>\n",
       "      <td>51.119793</td>\n",
       "      <td>-4.182291</td>\n",
       "      <td>NaN</td>\n",
       "      <td>NaN</td>\n",
       "      <td>ukk4307-33900</td>\n",
       "      <td>NaN</td>\n",
       "      <td>NaN</td>\n",
       "      <td>NaN</td>\n",
       "      <td>NaN</td>\n",
       "      <td>223</td>\n",
       "    </tr>\n",
       "    <tr>\n",
       "      <th>106037998</th>\n",
       "      <td>53018788</td>\n",
       "      <td>2022-12-31</td>\n",
       "      <td>51.119793</td>\n",
       "      <td>-4.171874</td>\n",
       "      <td>NaN</td>\n",
       "      <td>NaN</td>\n",
       "      <td>ukk4307-33900</td>\n",
       "      <td>NaN</td>\n",
       "      <td>NaN</td>\n",
       "      <td>NaN</td>\n",
       "      <td>NaN</td>\n",
       "      <td>224</td>\n",
       "    </tr>\n",
       "    <tr>\n",
       "      <th>106037999</th>\n",
       "      <td>53018789</td>\n",
       "      <td>2022-12-31</td>\n",
       "      <td>51.119793</td>\n",
       "      <td>-4.161457</td>\n",
       "      <td>NaN</td>\n",
       "      <td>NaN</td>\n",
       "      <td>ukk4307-33900</td>\n",
       "      <td>NaN</td>\n",
       "      <td>NaN</td>\n",
       "      <td>NaN</td>\n",
       "      <td>NaN</td>\n",
       "      <td>225</td>\n",
       "    </tr>\n",
       "  </tbody>\n",
       "</table>\n",
       "<p>106038000 rows × 12 columns</p>\n",
       "</div>"
      ],
      "text/plain": [
       "           Unnamed: 0        time        lat       lon  BBP  CDM   \n",
       "0            58197810  2020-01-01  54.588543 -1.255207  NaN  NaN  \\\n",
       "1            58197811  2020-01-01  54.588543 -1.244790  NaN  NaN   \n",
       "2            58197812  2020-01-01  54.588543 -1.234374  NaN  NaN   \n",
       "3            58197813  2020-01-01  54.588543 -1.223957  NaN  NaN   \n",
       "4            58197814  2020-01-01  54.588543 -1.213540  NaN  NaN   \n",
       "...               ...         ...        ...       ...  ...  ...   \n",
       "106037995    53018785  2022-12-31  51.119793 -4.203124  NaN  NaN   \n",
       "106037996    53018786  2022-12-31  51.119793 -4.192707  NaN  NaN   \n",
       "106037997    53018787  2022-12-31  51.119793 -4.182291  NaN  NaN   \n",
       "106037998    53018788  2022-12-31  51.119793 -4.171874  NaN  NaN   \n",
       "106037999    53018789  2022-12-31  51.119793 -4.161457  NaN  NaN   \n",
       "\n",
       "                    site  SPM  KD490  ZSD  CHL  grid_index  \n",
       "0          ukc1101-06000  NaN    NaN  NaN  NaN           1  \n",
       "1          ukc1101-06000  NaN    NaN  NaN  NaN           2  \n",
       "2          ukc1101-06000  NaN    NaN  NaN  NaN           3  \n",
       "3          ukc1101-06000  NaN    NaN  NaN  NaN           4  \n",
       "4          ukc1101-06000  NaN    NaN  NaN  NaN           5  \n",
       "...                  ...  ...    ...  ...  ...         ...  \n",
       "106037995  ukk4307-33900  NaN    NaN  NaN  NaN         221  \n",
       "106037996  ukk4307-33900  NaN    NaN  NaN  NaN         222  \n",
       "106037997  ukk4307-33900  NaN    NaN  NaN  NaN         223  \n",
       "106037998  ukk4307-33900  NaN    NaN  NaN  NaN         224  \n",
       "106037999  ukk4307-33900  NaN    NaN  NaN  NaN         225  \n",
       "\n",
       "[106038000 rows x 12 columns]"
      ]
     },
     "execution_count": 2,
     "metadata": {},
     "output_type": "execute_result"
    }
   ],
   "source": [
    "sites_data = pd.read_csv(\"~data/sites_data_15x15.csv\")\n",
    "sites_data"
   ]
  },
  {
   "cell_type": "code",
   "execution_count": null,
   "metadata": {},
   "outputs": [],
   "source": []
  }
 ],
 "metadata": {
  "kernelspec": {
   "display_name": "local-venv-kernel",
   "language": "python",
   "name": "local-venv-kernel"
  },
  "language_info": {
   "codemirror_mode": {
    "name": "ipython",
    "version": 3
   },
   "file_extension": ".py",
   "mimetype": "text/x-python",
   "name": "python",
   "nbconvert_exporter": "python",
   "pygments_lexer": "ipython3",
   "version": "3.10.11"
  },
  "orig_nbformat": 4
 },
 "nbformat": 4,
 "nbformat_minor": 2
}
