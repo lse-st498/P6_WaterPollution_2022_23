{
 "cells": [
  {
   "cell_type": "markdown",
   "metadata": {
    "id": "1vIrrlI5qYYy"
   },
   "source": [
    "# Multi-layer Perceptron Classifier for df_merged_zero_15x15_final"
   ]
  },
  {
   "cell_type": "markdown",
   "metadata": {
    "id": "0PdkYTz8R-8w"
   },
   "source": [
    "# Table of Contents<a class=\"anchor\" id=\"Contents\"></a>\n",
    "* [Load Packages](#Packages)\n",
    "* [Load Dataset](#Dataset)\n",
    "    * [Train Test Validation Split](#Train_Test_Validation_Split)\n",
    "* [Functions](#Functions)\n",
    "* [Multi-layer Perceptron Classifier](#MLP)\n",
    "    * [Run the Model](#Run_MLP)\n",
    "    * [ROC Curve and Precision-Recall Curve](#Curve_MLP)\n",
    "    * [Results](#Results_MLP)\n",
    "* [Multi-layer Perceptron Classifier with PCA](#PCA)"
   ]
  },
  {
   "cell_type": "markdown",
   "metadata": {
    "id": "7kYT-Av0M30Y"
   },
   "source": [
    "# Load Packages<a class=\"anchor\" id=\"Packages\"></a>"
   ]
  },
  {
   "cell_type": "code",
   "execution_count": 15,
   "metadata": {
    "id": "BswLk-JvM30a"
   },
   "outputs": [],
   "source": [
    "import matplotlib.pyplot as plt\n",
    "import pandas as pd\n",
    "import numpy as np\n",
    "from imblearn.over_sampling import RandomOverSampler\n",
    "from sklearn.ensemble import RandomForestClassifier\n",
    "from datetime import datetime\n",
    "import seaborn as sns\n",
    "from sklearn.decomposition import PCA\n",
    "from sklearn.preprocessing import MinMaxScaler, StandardScaler\n",
    "from sklearn.linear_model import LogisticRegression\n",
    "from sklearn.metrics import *\n",
    "from sklearn.metrics import RocCurveDisplay, auc, roc_auc_score, make_scorer, f1_score, precision_score, recall_score\n",
    "from sklearn.metrics import precision_recall_curve, accuracy_score, confusion_matrix, classification_report, roc_curve\n",
    "from sklearn.metrics import silhouette_score\n",
    "from keras.optimizers import Adam\n",
    "import random\n",
    "import csv\n",
    "import statistics\n",
    "from sklearn.neighbors import KNeighborsClassifier\n",
    "from sklearn.neural_network import MLPClassifier\n",
    "from sklearn.cluster import KMeans\n",
    "from sklearn.utils.class_weight import compute_class_weight\n",
    "from mlxtend.feature_selection import SequentialFeatureSelector\n",
    "from mlxtend.plotting import plot_sequential_feature_selection as plot_sfs"
   ]
  },
  {
   "cell_type": "code",
   "execution_count": 2,
   "metadata": {},
   "outputs": [],
   "source": [
    "# from joblib import load\n",
    "\n",
    "# best_mlp = load('best_model/best_mlp_mean.joblib')\n",
    "# best_mlp_pc = load('best_model/best_mlp_mean_pc.joblib')"
   ]
  },
  {
   "cell_type": "markdown",
   "metadata": {
    "id": "dBWfdAkoR-81"
   },
   "source": [
    "* [Table of Contents](#Contents)"
   ]
  },
  {
   "cell_type": "markdown",
   "metadata": {
    "id": "EdehXrbzR-82"
   },
   "source": [
    "# Load Dataset<a class=\"anchor\" id=\"Dataset\"></a>"
   ]
  },
  {
   "cell_type": "code",
   "execution_count": 16,
   "metadata": {
    "colab": {
     "base_uri": "https://localhost:8080/",
     "height": 661
    },
    "id": "MDFmzLtXR-82",
    "outputId": "7198d76c-d52d-4b73-8512-1404e33716e9"
   },
   "outputs": [
    {
     "data": {
      "text/html": [
       "<div>\n",
       "<style scoped>\n",
       "    .dataframe tbody tr th:only-of-type {\n",
       "        vertical-align: middle;\n",
       "    }\n",
       "\n",
       "    .dataframe tbody tr th {\n",
       "        vertical-align: top;\n",
       "    }\n",
       "\n",
       "    .dataframe thead th {\n",
       "        text-align: right;\n",
       "    }\n",
       "</style>\n",
       "<table border=\"1\" class=\"dataframe\">\n",
       "  <thead>\n",
       "    <tr style=\"text-align: right;\">\n",
       "      <th></th>\n",
       "      <th>site</th>\n",
       "      <th>time</th>\n",
       "      <th>riskLevelLabel</th>\n",
       "      <th>BBP_1x1_median</th>\n",
       "      <th>CDM_1x1_median</th>\n",
       "      <th>SPM_1x1_median</th>\n",
       "      <th>KD490_1x1_median</th>\n",
       "      <th>ZSD_1x1_median</th>\n",
       "      <th>CHL_1x1_median</th>\n",
       "      <th>BBP_1x1_mean</th>\n",
       "      <th>...</th>\n",
       "      <th>SPM_15x15_q1</th>\n",
       "      <th>KD490_15x15_q1</th>\n",
       "      <th>ZSD_15x15_q1</th>\n",
       "      <th>CHL_15x15_q1</th>\n",
       "      <th>BBP_15x15_q3</th>\n",
       "      <th>CDM_15x15_q3</th>\n",
       "      <th>SPM_15x15_q3</th>\n",
       "      <th>KD490_15x15_q3</th>\n",
       "      <th>ZSD_15x15_q3</th>\n",
       "      <th>CHL_15x15_q3</th>\n",
       "    </tr>\n",
       "  </thead>\n",
       "  <tbody>\n",
       "    <tr>\n",
       "      <th>0</th>\n",
       "      <td>ukc1101-06000</td>\n",
       "      <td>2020-05-14</td>\n",
       "      <td>0</td>\n",
       "      <td>0.014399</td>\n",
       "      <td>0.648437</td>\n",
       "      <td>9.016005</td>\n",
       "      <td>0.720255</td>\n",
       "      <td>1.359252</td>\n",
       "      <td>26.936116</td>\n",
       "      <td>0.014399</td>\n",
       "      <td>...</td>\n",
       "      <td>5.846387</td>\n",
       "      <td>0.720255</td>\n",
       "      <td>1.359252</td>\n",
       "      <td>26.936116</td>\n",
       "      <td>0.014399</td>\n",
       "      <td>0.648437</td>\n",
       "      <td>5.846387</td>\n",
       "      <td>0.720255</td>\n",
       "      <td>1.359252</td>\n",
       "      <td>26.936116</td>\n",
       "    </tr>\n",
       "    <tr>\n",
       "      <th>1</th>\n",
       "      <td>ukc1101-06000</td>\n",
       "      <td>2020-05-15</td>\n",
       "      <td>0</td>\n",
       "      <td>0.000000</td>\n",
       "      <td>0.000000</td>\n",
       "      <td>8.102808</td>\n",
       "      <td>0.393628</td>\n",
       "      <td>1.778462</td>\n",
       "      <td>10.588528</td>\n",
       "      <td>0.000000</td>\n",
       "      <td>...</td>\n",
       "      <td>8.102808</td>\n",
       "      <td>0.393628</td>\n",
       "      <td>1.778462</td>\n",
       "      <td>10.588528</td>\n",
       "      <td>0.000000</td>\n",
       "      <td>0.000000</td>\n",
       "      <td>8.102808</td>\n",
       "      <td>0.393628</td>\n",
       "      <td>1.778462</td>\n",
       "      <td>10.588528</td>\n",
       "    </tr>\n",
       "    <tr>\n",
       "      <th>2</th>\n",
       "      <td>ukc1101-06000</td>\n",
       "      <td>2020-05-16</td>\n",
       "      <td>0</td>\n",
       "      <td>0.000000</td>\n",
       "      <td>0.000000</td>\n",
       "      <td>1.135922</td>\n",
       "      <td>0.263305</td>\n",
       "      <td>2.588783</td>\n",
       "      <td>5.632908</td>\n",
       "      <td>0.000000</td>\n",
       "      <td>...</td>\n",
       "      <td>1.135922</td>\n",
       "      <td>0.263305</td>\n",
       "      <td>2.588783</td>\n",
       "      <td>5.632908</td>\n",
       "      <td>0.000000</td>\n",
       "      <td>0.000000</td>\n",
       "      <td>1.135922</td>\n",
       "      <td>0.263305</td>\n",
       "      <td>2.588783</td>\n",
       "      <td>5.632908</td>\n",
       "    </tr>\n",
       "    <tr>\n",
       "      <th>3</th>\n",
       "      <td>ukc1101-06000</td>\n",
       "      <td>2020-05-17</td>\n",
       "      <td>0</td>\n",
       "      <td>0.000000</td>\n",
       "      <td>0.000000</td>\n",
       "      <td>0.000000</td>\n",
       "      <td>0.000000</td>\n",
       "      <td>0.000000</td>\n",
       "      <td>0.000000</td>\n",
       "      <td>0.000000</td>\n",
       "      <td>...</td>\n",
       "      <td>0.000000</td>\n",
       "      <td>0.000000</td>\n",
       "      <td>0.000000</td>\n",
       "      <td>0.000000</td>\n",
       "      <td>0.000000</td>\n",
       "      <td>0.000000</td>\n",
       "      <td>0.000000</td>\n",
       "      <td>0.000000</td>\n",
       "      <td>0.000000</td>\n",
       "      <td>0.000000</td>\n",
       "    </tr>\n",
       "    <tr>\n",
       "      <th>4</th>\n",
       "      <td>ukc1101-06000</td>\n",
       "      <td>2020-05-18</td>\n",
       "      <td>0</td>\n",
       "      <td>0.000000</td>\n",
       "      <td>0.000000</td>\n",
       "      <td>0.000000</td>\n",
       "      <td>0.000000</td>\n",
       "      <td>0.000000</td>\n",
       "      <td>0.000000</td>\n",
       "      <td>0.000000</td>\n",
       "      <td>...</td>\n",
       "      <td>0.000000</td>\n",
       "      <td>0.000000</td>\n",
       "      <td>0.000000</td>\n",
       "      <td>0.000000</td>\n",
       "      <td>0.000000</td>\n",
       "      <td>0.000000</td>\n",
       "      <td>0.000000</td>\n",
       "      <td>0.000000</td>\n",
       "      <td>0.000000</td>\n",
       "      <td>0.000000</td>\n",
       "    </tr>\n",
       "    <tr>\n",
       "      <th>...</th>\n",
       "      <td>...</td>\n",
       "      <td>...</td>\n",
       "      <td>...</td>\n",
       "      <td>...</td>\n",
       "      <td>...</td>\n",
       "      <td>...</td>\n",
       "      <td>...</td>\n",
       "      <td>...</td>\n",
       "      <td>...</td>\n",
       "      <td>...</td>\n",
       "      <td>...</td>\n",
       "      <td>...</td>\n",
       "      <td>...</td>\n",
       "      <td>...</td>\n",
       "      <td>...</td>\n",
       "      <td>...</td>\n",
       "      <td>...</td>\n",
       "      <td>...</td>\n",
       "      <td>...</td>\n",
       "      <td>...</td>\n",
       "      <td>...</td>\n",
       "    </tr>\n",
       "    <tr>\n",
       "      <th>187106</th>\n",
       "      <td>ukk4307-33900</td>\n",
       "      <td>2022-09-26</td>\n",
       "      <td>0</td>\n",
       "      <td>0.000000</td>\n",
       "      <td>0.000000</td>\n",
       "      <td>7.356489</td>\n",
       "      <td>0.183889</td>\n",
       "      <td>3.869243</td>\n",
       "      <td>3.158081</td>\n",
       "      <td>0.000000</td>\n",
       "      <td>...</td>\n",
       "      <td>7.356489</td>\n",
       "      <td>0.183889</td>\n",
       "      <td>3.869243</td>\n",
       "      <td>3.158081</td>\n",
       "      <td>0.000000</td>\n",
       "      <td>0.000000</td>\n",
       "      <td>7.356489</td>\n",
       "      <td>0.183889</td>\n",
       "      <td>3.869243</td>\n",
       "      <td>3.158081</td>\n",
       "    </tr>\n",
       "    <tr>\n",
       "      <th>187107</th>\n",
       "      <td>ukk4307-33900</td>\n",
       "      <td>2022-09-27</td>\n",
       "      <td>0</td>\n",
       "      <td>0.000000</td>\n",
       "      <td>0.000000</td>\n",
       "      <td>0.000000</td>\n",
       "      <td>0.000000</td>\n",
       "      <td>0.000000</td>\n",
       "      <td>0.000000</td>\n",
       "      <td>0.000000</td>\n",
       "      <td>...</td>\n",
       "      <td>0.000000</td>\n",
       "      <td>0.000000</td>\n",
       "      <td>0.000000</td>\n",
       "      <td>0.000000</td>\n",
       "      <td>0.000000</td>\n",
       "      <td>0.000000</td>\n",
       "      <td>0.000000</td>\n",
       "      <td>0.000000</td>\n",
       "      <td>0.000000</td>\n",
       "      <td>0.000000</td>\n",
       "    </tr>\n",
       "    <tr>\n",
       "      <th>187108</th>\n",
       "      <td>ukk4307-33900</td>\n",
       "      <td>2022-09-28</td>\n",
       "      <td>0</td>\n",
       "      <td>0.000000</td>\n",
       "      <td>0.000000</td>\n",
       "      <td>4.906127</td>\n",
       "      <td>0.142344</td>\n",
       "      <td>5.219365</td>\n",
       "      <td>2.063839</td>\n",
       "      <td>0.000000</td>\n",
       "      <td>...</td>\n",
       "      <td>4.906127</td>\n",
       "      <td>0.142344</td>\n",
       "      <td>5.219365</td>\n",
       "      <td>2.063839</td>\n",
       "      <td>0.000000</td>\n",
       "      <td>0.000000</td>\n",
       "      <td>4.906127</td>\n",
       "      <td>0.142344</td>\n",
       "      <td>5.219365</td>\n",
       "      <td>2.063839</td>\n",
       "    </tr>\n",
       "    <tr>\n",
       "      <th>187109</th>\n",
       "      <td>ukk4307-33900</td>\n",
       "      <td>2022-09-29</td>\n",
       "      <td>0</td>\n",
       "      <td>0.000000</td>\n",
       "      <td>0.000000</td>\n",
       "      <td>9.181858</td>\n",
       "      <td>0.151466</td>\n",
       "      <td>4.857575</td>\n",
       "      <td>2.291730</td>\n",
       "      <td>0.000000</td>\n",
       "      <td>...</td>\n",
       "      <td>9.181858</td>\n",
       "      <td>0.151466</td>\n",
       "      <td>4.857575</td>\n",
       "      <td>2.291730</td>\n",
       "      <td>0.000000</td>\n",
       "      <td>0.000000</td>\n",
       "      <td>9.181858</td>\n",
       "      <td>0.151466</td>\n",
       "      <td>4.857575</td>\n",
       "      <td>2.291730</td>\n",
       "    </tr>\n",
       "    <tr>\n",
       "      <th>187110</th>\n",
       "      <td>ukk4307-33900</td>\n",
       "      <td>2022-09-30</td>\n",
       "      <td>0</td>\n",
       "      <td>0.000000</td>\n",
       "      <td>0.000000</td>\n",
       "      <td>0.000000</td>\n",
       "      <td>0.000000</td>\n",
       "      <td>0.000000</td>\n",
       "      <td>0.000000</td>\n",
       "      <td>0.000000</td>\n",
       "      <td>...</td>\n",
       "      <td>0.000000</td>\n",
       "      <td>0.000000</td>\n",
       "      <td>0.000000</td>\n",
       "      <td>0.000000</td>\n",
       "      <td>0.000000</td>\n",
       "      <td>0.000000</td>\n",
       "      <td>0.000000</td>\n",
       "      <td>0.000000</td>\n",
       "      <td>0.000000</td>\n",
       "      <td>0.000000</td>\n",
       "    </tr>\n",
       "  </tbody>\n",
       "</table>\n",
       "<p>187111 rows × 195 columns</p>\n",
       "</div>"
      ],
      "text/plain": [
       "                 site        time  riskLevelLabel  BBP_1x1_median  \\\n",
       "0       ukc1101-06000  2020-05-14               0        0.014399   \n",
       "1       ukc1101-06000  2020-05-15               0        0.000000   \n",
       "2       ukc1101-06000  2020-05-16               0        0.000000   \n",
       "3       ukc1101-06000  2020-05-17               0        0.000000   \n",
       "4       ukc1101-06000  2020-05-18               0        0.000000   \n",
       "...               ...         ...             ...             ...   \n",
       "187106  ukk4307-33900  2022-09-26               0        0.000000   \n",
       "187107  ukk4307-33900  2022-09-27               0        0.000000   \n",
       "187108  ukk4307-33900  2022-09-28               0        0.000000   \n",
       "187109  ukk4307-33900  2022-09-29               0        0.000000   \n",
       "187110  ukk4307-33900  2022-09-30               0        0.000000   \n",
       "\n",
       "        CDM_1x1_median  SPM_1x1_median  KD490_1x1_median  ZSD_1x1_median  \\\n",
       "0             0.648437        9.016005          0.720255        1.359252   \n",
       "1             0.000000        8.102808          0.393628        1.778462   \n",
       "2             0.000000        1.135922          0.263305        2.588783   \n",
       "3             0.000000        0.000000          0.000000        0.000000   \n",
       "4             0.000000        0.000000          0.000000        0.000000   \n",
       "...                ...             ...               ...             ...   \n",
       "187106        0.000000        7.356489          0.183889        3.869243   \n",
       "187107        0.000000        0.000000          0.000000        0.000000   \n",
       "187108        0.000000        4.906127          0.142344        5.219365   \n",
       "187109        0.000000        9.181858          0.151466        4.857575   \n",
       "187110        0.000000        0.000000          0.000000        0.000000   \n",
       "\n",
       "        CHL_1x1_median  BBP_1x1_mean  ...  SPM_15x15_q1  KD490_15x15_q1  \\\n",
       "0            26.936116      0.014399  ...      5.846387        0.720255   \n",
       "1            10.588528      0.000000  ...      8.102808        0.393628   \n",
       "2             5.632908      0.000000  ...      1.135922        0.263305   \n",
       "3             0.000000      0.000000  ...      0.000000        0.000000   \n",
       "4             0.000000      0.000000  ...      0.000000        0.000000   \n",
       "...                ...           ...  ...           ...             ...   \n",
       "187106        3.158081      0.000000  ...      7.356489        0.183889   \n",
       "187107        0.000000      0.000000  ...      0.000000        0.000000   \n",
       "187108        2.063839      0.000000  ...      4.906127        0.142344   \n",
       "187109        2.291730      0.000000  ...      9.181858        0.151466   \n",
       "187110        0.000000      0.000000  ...      0.000000        0.000000   \n",
       "\n",
       "        ZSD_15x15_q1  CHL_15x15_q1  BBP_15x15_q3  CDM_15x15_q3  SPM_15x15_q3  \\\n",
       "0           1.359252     26.936116      0.014399      0.648437      5.846387   \n",
       "1           1.778462     10.588528      0.000000      0.000000      8.102808   \n",
       "2           2.588783      5.632908      0.000000      0.000000      1.135922   \n",
       "3           0.000000      0.000000      0.000000      0.000000      0.000000   \n",
       "4           0.000000      0.000000      0.000000      0.000000      0.000000   \n",
       "...              ...           ...           ...           ...           ...   \n",
       "187106      3.869243      3.158081      0.000000      0.000000      7.356489   \n",
       "187107      0.000000      0.000000      0.000000      0.000000      0.000000   \n",
       "187108      5.219365      2.063839      0.000000      0.000000      4.906127   \n",
       "187109      4.857575      2.291730      0.000000      0.000000      9.181858   \n",
       "187110      0.000000      0.000000      0.000000      0.000000      0.000000   \n",
       "\n",
       "        KD490_15x15_q3  ZSD_15x15_q3  CHL_15x15_q3  \n",
       "0             0.720255      1.359252     26.936116  \n",
       "1             0.393628      1.778462     10.588528  \n",
       "2             0.263305      2.588783      5.632908  \n",
       "3             0.000000      0.000000      0.000000  \n",
       "4             0.000000      0.000000      0.000000  \n",
       "...                ...           ...           ...  \n",
       "187106        0.183889      3.869243      3.158081  \n",
       "187107        0.000000      0.000000      0.000000  \n",
       "187108        0.142344      5.219365      2.063839  \n",
       "187109        0.151466      4.857575      2.291730  \n",
       "187110        0.000000      0.000000      0.000000  \n",
       "\n",
       "[187111 rows x 195 columns]"
      ]
     },
     "execution_count": 16,
     "metadata": {},
     "output_type": "execute_result"
    }
   ],
   "source": [
    "df_merged_mean_15x15 = pd.read_csv('data/df_merged_zero_15x15_final.csv')\n",
    "df_merged_mean_15x15"
   ]
  },
  {
   "cell_type": "markdown",
   "metadata": {
    "id": "k5Rh25eDM30d"
   },
   "source": [
    "## Train Test Validation Split<a class=\"anchor\" id=\"Train_Test_Validation_Split\"></a>"
   ]
  },
  {
   "cell_type": "code",
   "execution_count": 17,
   "metadata": {
    "colab": {
     "base_uri": "https://localhost:8080/",
     "height": 424
    },
    "id": "YkZzKDtAmGvQ",
    "outputId": "de1db132-9831-4e98-fb1a-43996699b62a"
   },
   "outputs": [
    {
     "data": {
      "text/html": [
       "<div>\n",
       "<style scoped>\n",
       "    .dataframe tbody tr th:only-of-type {\n",
       "        vertical-align: middle;\n",
       "    }\n",
       "\n",
       "    .dataframe tbody tr th {\n",
       "        vertical-align: top;\n",
       "    }\n",
       "\n",
       "    .dataframe thead th {\n",
       "        text-align: right;\n",
       "    }\n",
       "</style>\n",
       "<table border=\"1\" class=\"dataframe\">\n",
       "  <thead>\n",
       "    <tr style=\"text-align: right;\">\n",
       "      <th></th>\n",
       "      <th>time</th>\n",
       "      <th>site</th>\n",
       "    </tr>\n",
       "  </thead>\n",
       "  <tbody>\n",
       "    <tr>\n",
       "      <th>0</th>\n",
       "      <td>2021-05-25</td>\n",
       "      <td>ukk4305-25800</td>\n",
       "    </tr>\n",
       "    <tr>\n",
       "      <th>1</th>\n",
       "      <td>2022-07-04</td>\n",
       "      <td>ukk4305-25800</td>\n",
       "    </tr>\n",
       "    <tr>\n",
       "      <th>2</th>\n",
       "      <td>2022-08-08</td>\n",
       "      <td>ukk3105-31450</td>\n",
       "    </tr>\n",
       "    <tr>\n",
       "      <th>3</th>\n",
       "      <td>2022-08-27</td>\n",
       "      <td>ukk2206-20800</td>\n",
       "    </tr>\n",
       "    <tr>\n",
       "      <th>4</th>\n",
       "      <td>2020-06-08</td>\n",
       "      <td>uke1301-09020</td>\n",
       "    </tr>\n",
       "    <tr>\n",
       "      <th>...</th>\n",
       "      <td>...</td>\n",
       "      <td>...</td>\n",
       "    </tr>\n",
       "    <tr>\n",
       "      <th>112261</th>\n",
       "      <td>2021-07-19</td>\n",
       "      <td>ukj4210-12660</td>\n",
       "    </tr>\n",
       "    <tr>\n",
       "      <th>112262</th>\n",
       "      <td>2021-05-10</td>\n",
       "      <td>ukk4200-23200</td>\n",
       "    </tr>\n",
       "    <tr>\n",
       "      <th>112263</th>\n",
       "      <td>2020-08-10</td>\n",
       "      <td>ukk3104-33500</td>\n",
       "    </tr>\n",
       "    <tr>\n",
       "      <th>112264</th>\n",
       "      <td>2021-09-08</td>\n",
       "      <td>ukk1202-35700</td>\n",
       "    </tr>\n",
       "    <tr>\n",
       "      <th>112265</th>\n",
       "      <td>2020-08-09</td>\n",
       "      <td>ukk3101-27000</td>\n",
       "    </tr>\n",
       "  </tbody>\n",
       "</table>\n",
       "<p>112266 rows × 2 columns</p>\n",
       "</div>"
      ],
      "text/plain": [
       "              time           site\n",
       "0       2021-05-25  ukk4305-25800\n",
       "1       2022-07-04  ukk4305-25800\n",
       "2       2022-08-08  ukk3105-31450\n",
       "3       2022-08-27  ukk2206-20800\n",
       "4       2020-06-08  uke1301-09020\n",
       "...            ...            ...\n",
       "112261  2021-07-19  ukj4210-12660\n",
       "112262  2021-05-10  ukk4200-23200\n",
       "112263  2020-08-10  ukk3104-33500\n",
       "112264  2021-09-08  ukk1202-35700\n",
       "112265  2020-08-09  ukk3101-27000\n",
       "\n",
       "[112266 rows x 2 columns]"
      ]
     },
     "execution_count": 17,
     "metadata": {},
     "output_type": "execute_result"
    }
   ],
   "source": [
    "train_labels_mean_zero = pd.read_csv('data/train_labels_mean_zero.csv')[['time', 'site']]\n",
    "train_labels_mean_zero"
   ]
  },
  {
   "cell_type": "code",
   "execution_count": 18,
   "metadata": {
    "colab": {
     "base_uri": "https://localhost:8080/",
     "height": 424
    },
    "id": "Uo8Sc3h2nscN",
    "outputId": "bc6bb807-d97c-471a-80ad-d7c5ae49a54d"
   },
   "outputs": [
    {
     "data": {
      "text/html": [
       "<div>\n",
       "<style scoped>\n",
       "    .dataframe tbody tr th:only-of-type {\n",
       "        vertical-align: middle;\n",
       "    }\n",
       "\n",
       "    .dataframe tbody tr th {\n",
       "        vertical-align: top;\n",
       "    }\n",
       "\n",
       "    .dataframe thead th {\n",
       "        text-align: right;\n",
       "    }\n",
       "</style>\n",
       "<table border=\"1\" class=\"dataframe\">\n",
       "  <thead>\n",
       "    <tr style=\"text-align: right;\">\n",
       "      <th></th>\n",
       "      <th>time</th>\n",
       "      <th>site</th>\n",
       "    </tr>\n",
       "  </thead>\n",
       "  <tbody>\n",
       "    <tr>\n",
       "      <th>0</th>\n",
       "      <td>2020-07-02</td>\n",
       "      <td>ukj3400-17400</td>\n",
       "    </tr>\n",
       "    <tr>\n",
       "      <th>1</th>\n",
       "      <td>2022-08-27</td>\n",
       "      <td>ukk3106-32200</td>\n",
       "    </tr>\n",
       "    <tr>\n",
       "      <th>2</th>\n",
       "      <td>2021-05-06</td>\n",
       "      <td>ukk4307-33900</td>\n",
       "    </tr>\n",
       "    <tr>\n",
       "      <th>3</th>\n",
       "      <td>2021-05-20</td>\n",
       "      <td>ukk4304-34100</td>\n",
       "    </tr>\n",
       "    <tr>\n",
       "      <th>4</th>\n",
       "      <td>2021-06-04</td>\n",
       "      <td>ukk3104-33200</td>\n",
       "    </tr>\n",
       "    <tr>\n",
       "      <th>...</th>\n",
       "      <td>...</td>\n",
       "      <td>...</td>\n",
       "    </tr>\n",
       "    <tr>\n",
       "      <th>37417</th>\n",
       "      <td>2021-07-28</td>\n",
       "      <td>ukk3103-29800</td>\n",
       "    </tr>\n",
       "    <tr>\n",
       "      <th>37418</th>\n",
       "      <td>2021-05-02</td>\n",
       "      <td>uke2206-07200</td>\n",
       "    </tr>\n",
       "    <tr>\n",
       "      <th>37419</th>\n",
       "      <td>2022-09-08</td>\n",
       "      <td>ukk4301-21800</td>\n",
       "    </tr>\n",
       "    <tr>\n",
       "      <th>37420</th>\n",
       "      <td>2021-07-18</td>\n",
       "      <td>ukj2403-15900</td>\n",
       "    </tr>\n",
       "    <tr>\n",
       "      <th>37421</th>\n",
       "      <td>2021-05-13</td>\n",
       "      <td>ukj4210-12700</td>\n",
       "    </tr>\n",
       "  </tbody>\n",
       "</table>\n",
       "<p>37422 rows × 2 columns</p>\n",
       "</div>"
      ],
      "text/plain": [
       "             time           site\n",
       "0      2020-07-02  ukj3400-17400\n",
       "1      2022-08-27  ukk3106-32200\n",
       "2      2021-05-06  ukk4307-33900\n",
       "3      2021-05-20  ukk4304-34100\n",
       "4      2021-06-04  ukk3104-33200\n",
       "...           ...            ...\n",
       "37417  2021-07-28  ukk3103-29800\n",
       "37418  2021-05-02  uke2206-07200\n",
       "37419  2022-09-08  ukk4301-21800\n",
       "37420  2021-07-18  ukj2403-15900\n",
       "37421  2021-05-13  ukj4210-12700\n",
       "\n",
       "[37422 rows x 2 columns]"
      ]
     },
     "execution_count": 18,
     "metadata": {},
     "output_type": "execute_result"
    }
   ],
   "source": [
    "validation_labels_mean_zero = pd.read_csv('data/validation_labels_mean_zero.csv')[['time', 'site']]\n",
    "validation_labels_mean_zero"
   ]
  },
  {
   "cell_type": "code",
   "execution_count": 19,
   "metadata": {
    "colab": {
     "base_uri": "https://localhost:8080/",
     "height": 424
    },
    "id": "DRV_K0ARoBtQ",
    "outputId": "7000009c-b430-4cb6-8fcb-02bd775ffd9e"
   },
   "outputs": [
    {
     "data": {
      "text/html": [
       "<div>\n",
       "<style scoped>\n",
       "    .dataframe tbody tr th:only-of-type {\n",
       "        vertical-align: middle;\n",
       "    }\n",
       "\n",
       "    .dataframe tbody tr th {\n",
       "        vertical-align: top;\n",
       "    }\n",
       "\n",
       "    .dataframe thead th {\n",
       "        text-align: right;\n",
       "    }\n",
       "</style>\n",
       "<table border=\"1\" class=\"dataframe\">\n",
       "  <thead>\n",
       "    <tr style=\"text-align: right;\">\n",
       "      <th></th>\n",
       "      <th>time</th>\n",
       "      <th>site</th>\n",
       "    </tr>\n",
       "  </thead>\n",
       "  <tbody>\n",
       "    <tr>\n",
       "      <th>0</th>\n",
       "      <td>2022-09-21</td>\n",
       "      <td>ukk3106-32100</td>\n",
       "    </tr>\n",
       "    <tr>\n",
       "      <th>1</th>\n",
       "      <td>2020-08-08</td>\n",
       "      <td>ukh1407-10750</td>\n",
       "    </tr>\n",
       "    <tr>\n",
       "      <th>2</th>\n",
       "      <td>2020-09-20</td>\n",
       "      <td>ukd4200-42100</td>\n",
       "    </tr>\n",
       "    <tr>\n",
       "      <th>3</th>\n",
       "      <td>2022-07-06</td>\n",
       "      <td>ukk2206-20900</td>\n",
       "    </tr>\n",
       "    <tr>\n",
       "      <th>4</th>\n",
       "      <td>2021-08-24</td>\n",
       "      <td>ukk4305-26100</td>\n",
       "    </tr>\n",
       "    <tr>\n",
       "      <th>...</th>\n",
       "      <td>...</td>\n",
       "      <td>...</td>\n",
       "    </tr>\n",
       "    <tr>\n",
       "      <th>37418</th>\n",
       "      <td>2021-09-22</td>\n",
       "      <td>ukj2402-15680</td>\n",
       "    </tr>\n",
       "    <tr>\n",
       "      <th>37419</th>\n",
       "      <td>2021-08-14</td>\n",
       "      <td>ukk3104-33500</td>\n",
       "    </tr>\n",
       "    <tr>\n",
       "      <th>37420</th>\n",
       "      <td>2022-05-20</td>\n",
       "      <td>ukk4305-25600</td>\n",
       "    </tr>\n",
       "    <tr>\n",
       "      <th>37421</th>\n",
       "      <td>2022-06-25</td>\n",
       "      <td>ukj3400-18000</td>\n",
       "    </tr>\n",
       "    <tr>\n",
       "      <th>37422</th>\n",
       "      <td>2021-09-27</td>\n",
       "      <td>ukj2201-14500</td>\n",
       "    </tr>\n",
       "  </tbody>\n",
       "</table>\n",
       "<p>37423 rows × 2 columns</p>\n",
       "</div>"
      ],
      "text/plain": [
       "             time           site\n",
       "0      2022-09-21  ukk3106-32100\n",
       "1      2020-08-08  ukh1407-10750\n",
       "2      2020-09-20  ukd4200-42100\n",
       "3      2022-07-06  ukk2206-20900\n",
       "4      2021-08-24  ukk4305-26100\n",
       "...           ...            ...\n",
       "37418  2021-09-22  ukj2402-15680\n",
       "37419  2021-08-14  ukk3104-33500\n",
       "37420  2022-05-20  ukk4305-25600\n",
       "37421  2022-06-25  ukj3400-18000\n",
       "37422  2021-09-27  ukj2201-14500\n",
       "\n",
       "[37423 rows x 2 columns]"
      ]
     },
     "execution_count": 19,
     "metadata": {},
     "output_type": "execute_result"
    }
   ],
   "source": [
    "test_labels_mean_zero = pd.read_csv('data/test_labels_mean_zero.csv')[['time', 'site']]\n",
    "test_labels_mean_zero"
   ]
  },
  {
   "cell_type": "code",
   "execution_count": 20,
   "metadata": {
    "colab": {
     "base_uri": "https://localhost:8080/"
    },
    "id": "baDBY2Z7R-88",
    "outputId": "9441ddd7-96f3-4aaa-b63f-78588aeb3624"
   },
   "outputs": [
    {
     "name": "stdout",
     "output_type": "stream",
     "text": [
      "Training X Shape: (112266, 192)\n",
      "Training y Shape: (112266,)\n",
      "Validation X Shape: (37422, 192)\n",
      "Validation y Shape: (37422,)\n",
      "Testing X Shape: (37423, 192)\n",
      "Testing y Shape: (37423,)\n"
     ]
    }
   ],
   "source": [
    "# Train test validation split\n",
    "df_train = df_merged_mean_15x15.merge(train_labels_mean_zero, on=['time', 'site'], how='inner')\n",
    "df_val = df_merged_mean_15x15.merge(validation_labels_mean_zero, on=['time', 'site'], how='inner')\n",
    "df_test = df_merged_mean_15x15.merge(test_labels_mean_zero, on=['time', 'site'], how='inner')\n",
    "\n",
    "df_train.drop(['time', 'site'], axis=1, inplace=True)\n",
    "df_val.drop(['time', 'site'], axis=1, inplace=True)\n",
    "df_test.drop(['time', 'site'], axis=1, inplace=True)\n",
    "\n",
    "y_train = df_train.pop('riskLevelLabel')\n",
    "y_val = df_val.pop('riskLevelLabel')\n",
    "y_test = df_test.pop('riskLevelLabel')\n",
    "\n",
    "X_train = df_train\n",
    "X_val = df_val\n",
    "X_test = df_test\n",
    "\n",
    "print('Training X Shape:', X_train.shape)\n",
    "print('Training y Shape:', y_train.shape)\n",
    "print('Validation X Shape:', X_val.shape)\n",
    "print('Validation y Shape:', y_val.shape)\n",
    "print('Testing X Shape:', X_test.shape)\n",
    "print('Testing y Shape:', y_test.shape)"
   ]
  },
  {
   "cell_type": "code",
   "execution_count": 21,
   "metadata": {
    "colab": {
     "base_uri": "https://localhost:8080/"
    },
    "id": "zVAeD2FyR-84",
    "outputId": "ed12fdf6-0720-48a0-a15e-038ce39f785d"
   },
   "outputs": [
    {
     "data": {
      "text/plain": [
       "0    0.972619\n",
       "1    0.027381\n",
       "Name: riskLevelLabel, dtype: float64"
      ]
     },
     "execution_count": 21,
     "metadata": {},
     "output_type": "execute_result"
    }
   ],
   "source": [
    "counts_normalized = y_train.value_counts(normalize=True)\n",
    "counts_normalized"
   ]
  },
  {
   "cell_type": "code",
   "execution_count": 22,
   "metadata": {},
   "outputs": [],
   "source": [
    "# Scale\n",
    "scaler = MinMaxScaler()\n",
    "X_train = scaler.fit_transform(X_train)\n",
    "X_val = scaler.transform(X_val)\n",
    "X_test = scaler.transform(X_test)"
   ]
  },
  {
   "cell_type": "markdown",
   "metadata": {
    "id": "f8AggCTTR-8-"
   },
   "source": [
    "* [Table of Contents](#Contents)"
   ]
  },
  {
   "cell_type": "markdown",
   "metadata": {
    "id": "Tsbgkearbonv"
   },
   "source": [
    "# Functions<a class=\"anchor\" id=\"Functions\"></a>"
   ]
  },
  {
   "cell_type": "code",
   "execution_count": 23,
   "metadata": {
    "id": "KhJmdCTzR-9B"
   },
   "outputs": [],
   "source": [
    "def plot_roc_pr_graphs(model, X_test, y_test):\n",
    "    # predictions from best model on validation data\n",
    "    predictions = model.predict(X_test)\n",
    "\n",
    "    # ROC curve and AUC\n",
    "    fpr, tpr, _ = roc_curve(y_test, predictions)\n",
    "    roc_auc = roc_auc_score(y_test, predictions)\n",
    "\n",
    "    # PR curve and AP\n",
    "    precision, recall, thresholds = precision_recall_curve(y_test, predictions)\n",
    "    average_precision = average_precision_score(y_test, predictions)\n",
    "\n",
    "    # plots\n",
    "    plt.figure(figsize=(12, 5))\n",
    "\n",
    "    plt.subplot(1, 2, 1)\n",
    "    plt.plot(fpr, tpr, marker='.',label='ROC curve (area = %0.4f)' % roc_auc)\n",
    "    plt.plot([0, 1], [0, 1], color='gray', lw=2, linestyle='--')\n",
    "    plt.xlabel('False Positive Rate', fontsize=15)\n",
    "    plt.ylabel('True Positive Rate', fontsize=15)\n",
    "    plt.title('Receiver Operating Characteristic (ROC)', fontsize=15)\n",
    "    plt.grid(True)\n",
    "    plt.legend(loc=\"lower right\", fontsize=15)\n",
    "\n",
    "    plt.subplot(1, 2, 2)\n",
    "    plt.plot(recall, precision, marker='.', label='PR curve (AP = %0.4f)' % average_precision)\n",
    "    plt.axhline(y=counts_normalized[1], color=\"gray\", linestyle='--', label='Baseline')\n",
    "    plt.xlabel('Recall', fontsize=15)\n",
    "    plt.ylabel('Precision', fontsize=15)\n",
    "    plt.title('Precision-Recall (PR) Curve', fontsize=15)\n",
    "    plt.grid(True)\n",
    "    plt.legend(loc=\"upper right\", fontsize=15)\n",
    "\n",
    "    plt.tight_layout()\n",
    "    plt.savefig('results/MLP_S3_zero_Curves.png')\n",
    "    plt.show()"
   ]
  },
  {
   "cell_type": "code",
   "execution_count": 24,
   "metadata": {
    "id": "z5apiGDHcQ8c"
   },
   "outputs": [],
   "source": [
    "def cm(model,X_test,y_test):\n",
    "    cm = ConfusionMatrixDisplay.from_estimator(model, X_test, y_test)\n",
    "    cm.plot\n",
    "    plt.savefig('results/MLP_S3_zero_CM.png')"
   ]
  },
  {
   "cell_type": "code",
   "execution_count": 25,
   "metadata": {
    "id": "wRzZ899lR-9D"
   },
   "outputs": [],
   "source": [
    "def save_result(model,X_test,y_test):\n",
    "    y_pred = model.predict(X_test)\n",
    "    ACC = accuracy_score(y_test, y_pred)\n",
    "    fpr, tpr, _ = roc_curve(y_test, y_pred)\n",
    "    AUC_ROC = auc(fpr, tpr)\n",
    "    PRE = precision_score(y_test, y_pred)\n",
    "    REC = recall_score(y_test, y_pred)\n",
    "    precision, recall, _ = precision_recall_curve(y_test, y_pred)\n",
    "    AP = average_precision_score(y_test, y_pred)\n",
    "    #AUC_PRC = auc(recall, precision)\n",
    "    F1 = f1_score(y_test, y_pred)\n",
    "    return ACC, AUC_ROC, PRE, REC, AP, F1"
   ]
  },
  {
   "cell_type": "code",
   "execution_count": 26,
   "metadata": {},
   "outputs": [],
   "source": [
    "def get_metrics_from_test_df(df):\n",
    "    y_pred = df['predictions']\n",
    "    y_actual = df['riskLevelLabel']\n",
    "\n",
    "    f1_ = round(f1_score(y_actual, y_pred), 3)\n",
    "    precision = round(precision_score(y_actual, y_pred), 3)\n",
    "    recall = round(recall_score(y_actual, y_pred), 3)\n",
    "    pr_auc = round(average_precision_score(y_actual, y_pred), 3)\n",
    "    roc_auc = round(roc_auc_score(y_actual, y_pred), 3)   \n",
    "    accuracy = round(accuracy_score(y_actual, y_pred), 3)\n",
    "    \n",
    "    metrics_list = [len(df), f1_, precision, recall, pr_auc, roc_auc, accuracy]\n",
    "    return metrics_list"
   ]
  },
  {
   "cell_type": "markdown",
   "metadata": {
    "id": "UYAUg6fBR-9E"
   },
   "source": [
    "* [Table of Contents](#Contents)"
   ]
  },
  {
   "cell_type": "markdown",
   "metadata": {
    "id": "Xz-BWzX2R-9E"
   },
   "source": [
    "# Multi-layer Perceptron Classifier<a class=\"anchor\" id=\"MLP\"></a>"
   ]
  },
  {
   "cell_type": "markdown",
   "metadata": {
    "id": "wS3iYZuiR-9F"
   },
   "source": [
    "## Hyperparameter tuning function"
   ]
  },
  {
   "cell_type": "code",
   "execution_count": null,
   "metadata": {
    "id": "2Vg71mpQR-9F"
   },
   "outputs": [],
   "source": [
    "def mlp_model(X_train, y_train, X_val, y_val):\n",
    "    # Apply Random Oversampling\n",
    "    ros = RandomOverSampler()\n",
    "    X_train_oversampled, y_train_oversampled = ros.fit_resample(X_train, y_train)\n",
    "\n",
    "#     params = {'hidden_layer_sizes': [(200,400,200,100), (300,600,300,150), (300, 600, 300), (400,800,400,200)],\n",
    "#               'learning_rate': ['adaptive', 'constant'],\n",
    "#               'activation': ['logistic', 'relu'],\n",
    "#               'alpha': [0.00001, 0.0001, 0.001]\n",
    "#              }\n",
    "    params = {'hidden_layer_sizes': [(200,400,200), (400,800,400,200)],\n",
    "              'activation': ['logistic', 'relu'],\n",
    "              'learning_rate': ['adaptive'],\n",
    "              'alpha': [0.0001, 0.001, 0.01],\n",
    "              'solver': ['adam', 'sgd']\n",
    "             }\n",
    "\n",
    "\n",
    "    best_f1 = 0\n",
    "    best_params = {}\n",
    "    for hidden_layer_sizes in params['hidden_layer_sizes']:\n",
    "        for activation in params['activation']:\n",
    "            for learning_rate in params['learning_rate']:\n",
    "                for alpha in params['alpha']:\n",
    "                    for solver in params['solver']:\n",
    "                        mlp_model = MLPClassifier(hidden_layer_sizes=hidden_layer_sizes,\n",
    "                                                 activation=activation,\n",
    "                                                 learning_rate=learning_rate,\n",
    "                                                 alpha=alpha,\n",
    "                                                 solver=solver,\n",
    "                                                 batch_size=1000,\n",
    "                                                 random_state=100,\n",
    "                                                 max_iter=500)\n",
    "                        temp_model = mlp_model.fit(X_train_oversampled, y_train_oversampled)\n",
    "                        y_val_pred = mlp_model.predict(X_val)\n",
    "                        f1 = f1_score(y_val, y_val_pred)\n",
    "\n",
    "                        if f1 > best_f1:\n",
    "                            best_f1 = f1\n",
    "                            best_params = {'hidden_layer_sizes': hidden_layer_sizes, 'activation': activation,\n",
    "                                           'learning_rate': learning_rate, 'alpha': alpha, 'solver': solver}\n",
    "                            best_mlp = temp_model\n",
    "\n",
    "    print('Best Hyperparameters:', best_params)\n",
    "    return best_mlp"
   ]
  },
  {
   "cell_type": "code",
   "execution_count": 27,
   "metadata": {},
   "outputs": [],
   "source": [
    "def Best_mlp(X_train, y_train):\n",
    "    ros = RandomOverSampler()\n",
    "    X_train_oversampled, y_train_oversampled = ros.fit_resample(X_train, y_train)\n",
    "    mlp = MLPClassifier(hidden_layer_sizes=(400, 800, 400, 200), activation='relu',\n",
    "                                            learning_rate='adaptive', alpha=0.0001,\n",
    "                                                 solver='adam', batch_size=1000, random_state=100, max_iter=500)\n",
    "    mlp.fit(X_train_oversampled, y_train_oversampled)\n",
    "    return mlp"
   ]
  },
  {
   "cell_type": "code",
   "execution_count": 30,
   "metadata": {},
   "outputs": [],
   "source": [
    "best_mlp = Best_mlp(X_train, y_train)"
   ]
  },
  {
   "cell_type": "code",
   "execution_count": 31,
   "metadata": {},
   "outputs": [
    {
     "data": {
      "text/plain": [
       "['best_model/best_mlp_zero.joblib']"
      ]
     },
     "execution_count": 31,
     "metadata": {},
     "output_type": "execute_result"
    }
   ],
   "source": [
    "from joblib import dump\n",
    "\n",
    "dump(best_mlp, 'best_model/best_mlp_zero.joblib')"
   ]
  },
  {
   "cell_type": "markdown",
   "metadata": {
    "id": "JlpsYRrqR-9F"
   },
   "source": [
    "## Run the Model<a class=\"anchor\" id=\"Run_MLP\"></a>"
   ]
  },
  {
   "cell_type": "markdown",
   "metadata": {
    "id": "ahT2GSfwR-9F"
   },
   "source": [
    "### Select the best hyperparameter on validation data"
   ]
  },
  {
   "cell_type": "code",
   "execution_count": 24,
   "metadata": {},
   "outputs": [
    {
     "name": "stdout",
     "output_type": "stream",
     "text": [
      "Best Hyperparameters: {'hidden_layer_sizes': (400, 800, 400, 200), 'activation': 'relu', 'learning_rate': 'adaptive', 'alpha': 0.0001, 'solver': 'adam'}\n"
     ]
    }
   ],
   "source": [
    "best_mlp = mlp_model(X_train, y_train, X_val, y_val)"
   ]
  },
  {
   "cell_type": "markdown",
   "metadata": {
    "id": "AsjxMZxTR-9H"
   },
   "source": [
    "## ROC Curve and Precision-Recall Curve<a class=\"anchor\" id=\"Curve_MLP\"></a>"
   ]
  },
  {
   "cell_type": "code",
   "execution_count": 32,
   "metadata": {
    "id": "wFcnACvER-9N"
   },
   "outputs": [
    {
     "data": {
      "image/png": "[encoded data removed]",
      "text/plain": [
       "<Figure size 1200x500 with 2 Axes>"
      ]
     },
     "metadata": {},
     "output_type": "display_data"
    }
   ],
   "source": [
    "plot_roc_pr_graphs(best_mlp, X_test, y_test)"
   ]
  },
  {
   "cell_type": "markdown",
   "metadata": {
    "id": "wbVROUsJR-9O"
   },
   "source": [
    "## Results<a class=\"anchor\" id=\"Results_MLP\"></a>"
   ]
  },
  {
   "cell_type": "code",
   "execution_count": 33,
   "metadata": {
    "colab": {
     "base_uri": "https://localhost:8080/",
     "height": 553
    },
    "id": "RDGxXy2VR-9O",
    "outputId": "b3d91332-4832-43ad-80e8-e47b74d1fdb7"
   },
   "outputs": [
    {
     "data": {
      "image/png": "[encoded data removed]",
      "text/plain": [
       "<Figure size 640x480 with 2 Axes>"
      ]
     },
     "metadata": {},
     "output_type": "display_data"
    }
   ],
   "source": [
    "cm(best_mlp, X_test, y_test)"
   ]
  },
  {
   "cell_type": "code",
   "execution_count": 34,
   "metadata": {
    "colab": {
     "base_uri": "https://localhost:8080/",
     "height": 81
    },
    "id": "dSAwYLljR-9O",
    "outputId": "d4c7b763-0ca8-4a91-fab9-e0d2033d4716"
   },
   "outputs": [
    {
     "data": {
      "text/html": [
       "<div>\n",
       "<style scoped>\n",
       "    .dataframe tbody tr th:only-of-type {\n",
       "        vertical-align: middle;\n",
       "    }\n",
       "\n",
       "    .dataframe tbody tr th {\n",
       "        vertical-align: top;\n",
       "    }\n",
       "\n",
       "    .dataframe thead th {\n",
       "        text-align: right;\n",
       "    }\n",
       "</style>\n",
       "<table border=\"1\" class=\"dataframe\">\n",
       "  <thead>\n",
       "    <tr style=\"text-align: right;\">\n",
       "      <th></th>\n",
       "      <th>Model</th>\n",
       "      <th>Sub-Model</th>\n",
       "      <th>Accuracy</th>\n",
       "      <th>AUC_ROC</th>\n",
       "      <th>Precision</th>\n",
       "      <th>Recall</th>\n",
       "      <th>AP</th>\n",
       "      <th>f1 score</th>\n",
       "    </tr>\n",
       "  </thead>\n",
       "  <tbody>\n",
       "    <tr>\n",
       "      <th>0</th>\n",
       "      <td>Multi-layer Perceptron Classifier</td>\n",
       "      <td>df_merged_zero_15x15</td>\n",
       "      <td>0.593806</td>\n",
       "      <td>0.60656</td>\n",
       "      <td>0.040471</td>\n",
       "      <td>0.62004</td>\n",
       "      <td>0.035328</td>\n",
       "      <td>0.075983</td>\n",
       "    </tr>\n",
       "  </tbody>\n",
       "</table>\n",
       "</div>"
      ],
      "text/plain": [
       "                               Model             Sub-Model  Accuracy  AUC_ROC  \\\n",
       "0  Multi-layer Perceptron Classifier  df_merged_zero_15x15  0.593806  0.60656   \n",
       "\n",
       "   Precision   Recall        AP  f1 score  \n",
       "0   0.040471  0.62004  0.035328  0.075983  "
      ]
     },
     "execution_count": 34,
     "metadata": {},
     "output_type": "execute_result"
    }
   ],
   "source": [
    "results_df_mlp = pd.DataFrame([['Multi-layer Perceptron Classifier', 'df_merged_zero_15x15', *save_result(best_mlp,X_test,y_test)]],\n",
    "                             columns=['Model', 'Sub-Model', 'Accuracy', 'AUC_ROC','Precision','Recall', 'AP', 'f1 score'])\n",
    "results_df_mlp"
   ]
  },
  {
   "cell_type": "code",
   "execution_count": 35,
   "metadata": {
    "id": "MiLWWfyeR-9P"
   },
   "outputs": [],
   "source": [
    "results_df_mlp.to_csv('results/MLP_results_zero.csv')"
   ]
  },
  {
   "cell_type": "markdown",
   "metadata": {
    "id": "bfRrWpVLR-9P"
   },
   "source": [
    "* [Table of Contents](#Contents)"
   ]
  },
  {
   "cell_type": "markdown",
   "metadata": {
    "id": "6DlgfM6ipMYD"
   },
   "source": [
    "# Multi-layer Perceptron Classifier with PCA<a class=\"anchor\" id=\"PCA\"></a>"
   ]
  },
  {
   "cell_type": "code",
   "execution_count": 32,
   "metadata": {
    "colab": {
     "base_uri": "https://localhost:8080/"
    },
    "id": "5A5QKxuepL5a",
    "outputId": "efa34919-5989-4e85-a10e-90f96ebd1e8e"
   },
   "outputs": [
    {
     "name": "stdout",
     "output_type": "stream",
     "text": [
      "the shape of X_train after PCA: (112266, 5) the shape of y train: (112266,)\n",
      "the shape of X_val after PCA: (37422, 5) the shape of y train: (37422,)\n",
      "the shape of X_test after PCA: (37423, 5) the shape of y test: (37423,)\n"
     ]
    }
   ],
   "source": [
    "## Fit X_train, X_val, X_test with the PCA\n",
    "pca = PCA(n_components = 5, random_state = 100)\n",
    "pca.fit(X_train)\n",
    "X_train_pc = pca.transform(X_train)\n",
    "X_val_pc = pca.transform(X_val)\n",
    "X_test_pc = pca.transform(X_test)\n",
    "print('the shape of X_train after PCA:',X_train_pc.shape,'the shape of y train:',y_train.shape)\n",
    "print('the shape of X_val after PCA:',X_val_pc.shape,'the shape of y train:',y_val.shape)\n",
    "print('the shape of X_test after PCA:',X_test_pc.shape,'the shape of y test:',y_test.shape)"
   ]
  },
  {
   "cell_type": "code",
   "execution_count": 44,
   "metadata": {},
   "outputs": [
    {
     "name": "stdout",
     "output_type": "stream",
     "text": [
      "Best Hyperparameters: {'hidden_layer_sizes': (400, 800, 400, 200), 'activation': 'relu', 'learning_rate': 'adaptive', 'alpha': 0.0001, 'solver': 'adam'}\n"
     ]
    }
   ],
   "source": [
    "best_mlp_pc = mlp_model(X_train_pc, y_train，X_val_pc, y_val)"
   ]
  },
  {
   "cell_type": "code",
   "execution_count": 45,
   "metadata": {
    "id": "XoyQB2p5rZbH"
   },
   "outputs": [
    {
     "data": {
      "image/png": "[encoded data removed]",
      "text/plain": [
       "<Figure size 640x480 with 1 Axes>"
      ]
     },
     "metadata": {},
     "output_type": "display_data"
    }
   ],
   "source": [
    "roc_mlp = draw_roc(best_mlp_pc, X_test_pc, y_test)"
   ]
  },
  {
   "cell_type": "code",
   "execution_count": 46,
   "metadata": {
    "id": "Tt4m0eBlsAmX"
   },
   "outputs": [],
   "source": [
    "roc_mlp.savefig('results/ROC_mean_15x15_mlp_PCA.png')"
   ]
  },
  {
   "cell_type": "code",
   "execution_count": 47,
   "metadata": {
    "id": "zRiw3n5qrgqc"
   },
   "outputs": [
    {
     "data": {
      "image/png": "[encoded data removed]",
      "text/plain": [
       "<Figure size 640x480 with 1 Axes>"
      ]
     },
     "metadata": {},
     "output_type": "display_data"
    }
   ],
   "source": [
    "prc_mlp = pr_curve(best_mlp_pc, X_test_pc, y_test)"
   ]
  },
  {
   "cell_type": "code",
   "execution_count": 48,
   "metadata": {
    "id": "eIG0EwXEsGSg"
   },
   "outputs": [],
   "source": [
    "prc_mlp.savefig('results/PRC_mean_15x15_mlp_PCA.png')"
   ]
  },
  {
   "cell_type": "code",
   "execution_count": 50,
   "metadata": {
    "id": "s8YplSa-rpln"
   },
   "outputs": [
    {
     "name": "stdout",
     "output_type": "stream",
     "text": [
      "MLPClassifier(batch_size=1000, hidden_layer_sizes=(400, 800, 400, 200),\n",
      "              learning_rate='adaptive', max_iter=1000, random_state=100) \n",
      "On test data, Accuracy: 0.56\n",
      "On test data, Precision: 0.04\n",
      "On test data, Recall: 0.64\n",
      "On test data, f1 score: 0.07 \n"
     ]
    },
    {
     "data": {
      "image/png": "[encoded data removed]",
      "text/plain": [
       "<Figure size 640x480 with 2 Axes>"
      ]
     },
     "metadata": {},
     "output_type": "display_data"
    }
   ],
   "source": [
    "test_evaluation(best_mlp_pc, X_test_pc, y_test)"
   ]
  },
  {
   "cell_type": "code",
   "execution_count": 51,
   "metadata": {
    "id": "PjdhYJqWrx9k"
   },
   "outputs": [
    {
     "data": {
      "text/html": [
       "<div>\n",
       "<style scoped>\n",
       "    .dataframe tbody tr th:only-of-type {\n",
       "        vertical-align: middle;\n",
       "    }\n",
       "\n",
       "    .dataframe tbody tr th {\n",
       "        vertical-align: top;\n",
       "    }\n",
       "\n",
       "    .dataframe thead th {\n",
       "        text-align: right;\n",
       "    }\n",
       "</style>\n",
       "<table border=\"1\" class=\"dataframe\">\n",
       "  <thead>\n",
       "    <tr style=\"text-align: right;\">\n",
       "      <th></th>\n",
       "      <th>Model</th>\n",
       "      <th>Sub-Model</th>\n",
       "      <th>Accuracy</th>\n",
       "      <th>AUC_ROC</th>\n",
       "      <th>Precision</th>\n",
       "      <th>Recall</th>\n",
       "      <th>AUC_PRC</th>\n",
       "      <th>f1 score</th>\n",
       "    </tr>\n",
       "  </thead>\n",
       "  <tbody>\n",
       "    <tr>\n",
       "      <th>0</th>\n",
       "      <td>Multi-layer Perceptron Classifier</td>\n",
       "      <td>df_merged_mean_15x15</td>\n",
       "      <td>0.563878</td>\n",
       "      <td>0.601104</td>\n",
       "      <td>0.039793</td>\n",
       "      <td>0.640504</td>\n",
       "      <td>0.345105</td>\n",
       "      <td>0.074931</td>\n",
       "    </tr>\n",
       "  </tbody>\n",
       "</table>\n",
       "</div>"
      ],
      "text/plain": [
       "                               Model             Sub-Model  Accuracy  \\\n",
       "0  Multi-layer Perceptron Classifier  df_merged_mean_15x15  0.563878   \n",
       "\n",
       "    AUC_ROC  Precision    Recall   AUC_PRC  f1 score  \n",
       "0  0.601104   0.039793  0.640504  0.345105  0.074931  "
      ]
     },
     "execution_count": 51,
     "metadata": {},
     "output_type": "execute_result"
    }
   ],
   "source": [
    "results_df_mlp = pd.DataFrame([['Multi-layer Perceptron Classifier', 'df_merged_mean_15x15', *save_result(best_mlp_pc,X_test_pc,y_test)]],\n",
    "                             columns=['Model', 'Sub-Model', 'Accuracy', 'AUC_ROC','Precision','Recall', 'AUC_PRC', 'f1 score'])\n",
    "results_df_mlp"
   ]
  },
  {
   "cell_type": "code",
   "execution_count": 52,
   "metadata": {
    "id": "g1Kkehlor3nF"
   },
   "outputs": [],
   "source": [
    "results_df_mlp.to_csv('results/results_mean_15x15_mlp_PCA.csv')"
   ]
  },
  {
   "cell_type": "markdown",
   "metadata": {
    "id": "bfRrWpVLR-9P"
   },
   "source": [
    "* [Table of Contents](#Contents)"
   ]
  }
 ],
 "metadata": {
  "accelerator": "GPU",
  "colab": {
   "gpuType": "V100",
   "provenance": []
  },
  "kernelspec": {
   "display_name": "Python 3 (ipykernel)",
   "language": "python",
   "name": "python3"
  },
  "language_info": {
   "codemirror_mode": {
    "name": "ipython",
    "version": 3
   },
   "file_extension": ".py",
   "mimetype": "text/x-python",
   "name": "python",
   "nbconvert_exporter": "python",
   "pygments_lexer": "ipython3",
   "version": "3.9.13"
  }
 },
 "nbformat": 4,
 "nbformat_minor": 1
}
