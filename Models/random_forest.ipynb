{
 "cells": [
  {
   "cell_type": "code",
   "execution_count": 1,
   "id": "0a5e4150",
   "metadata": {},
   "outputs": [],
   "source": [
    "import pandas as pd\n",
    "import numpy as np\n",
    "import joblib\n",
    "\n",
    "from sklearn.ensemble import RandomForestClassifier\n",
    "from sklearn.model_selection import GridSearchCV\n",
    "from sklearn.metrics import precision_score, recall_score, f1_score, roc_auc_score"
   ]
  },
  {
   "cell_type": "code",
   "execution_count": 2,
   "id": "ee2ece0c",
   "metadata": {},
   "outputs": [],
   "source": [
    "time_site_pairs_train = pd.read_csv(\"~data/train_labels_mean_zero.csv\")[['time', 'site']]\n",
    "time_site_pairs_val = pd.read_csv(\"~data/validation_labels_mean_zero.csv\")[['time', 'site']]"
   ]
  },
  {
   "cell_type": "code",
   "execution_count": 3,
   "id": "50f58d58",
   "metadata": {},
   "outputs": [],
   "source": [
    "df_merged_zero = pd.read_csv(\"~data/df_merged_mean_15x15_final.csv\")\n",
    "df_merged_neg = pd.read_csv(\"~data/df_merged_neg_15x15_final.csv\")"
   ]
  },
  {
   "cell_type": "markdown",
   "id": "e9dde966",
   "metadata": {},
   "source": [
    "## df_merged_zero"
   ]
  },
  {
   "cell_type": "code",
   "execution_count": 4,
   "id": "8c899b70",
   "metadata": {},
   "outputs": [],
   "source": [
    "def get_train_test(dataset):\n",
    "    \n",
    "    df_train = dataset.merge(time_site_pairs_train, on=['time', 'site'], how='inner')\n",
    "    df_test = dataset.merge(time_site_pairs_val, on=['time', 'site'], how='inner')\n",
    "\n",
    "    df_train.drop(['time', 'site'], axis=1, inplace=True)\n",
    "    df_test.drop(['time', 'site'], axis=1, inplace=True)\n",
    "\n",
    "    y_train = df_train.pop('riskLevelLabel')\n",
    "    y_test = df_test.pop('riskLevelLabel')\n",
    "\n",
    "    X_train = df_train\n",
    "    X_test = df_test\n",
    "    \n",
    "    return X_train, y_train, X_test, y_test"
   ]
  },
  {
   "cell_type": "code",
   "execution_count": 5,
   "id": "737d2ea7",
   "metadata": {},
   "outputs": [],
   "source": [
    "def rf_result(X_train, y_train, X_test, y_test, model_name):\n",
    "\n",
    "    param_grid = {\n",
    "        'max_features': [None, 'sqrt'],\n",
    "        'max_depth': [None, 10],\n",
    "        'min_samples_split': [2, 5],\n",
    "        'min_samples_leaf': [1, 2]\n",
    "    }\n",
    "\n",
    "    best_score = 0\n",
    "    best_params = {}\n",
    "\n",
    "    \n",
    "    for max_features in param_grid['max_features']:\n",
    "        for max_depth in param_grid['max_depth']:\n",
    "            for min_samples_split in param_grid['min_samples_split']:\n",
    "                for min_samples_leaf in param_grid['min_samples_leaf']:\n",
    "                    rf = RandomForestClassifier(n_estimators=400,\n",
    "                                                max_features=max_features,\n",
    "                                                max_depth=max_depth,\n",
    "                                                min_samples_split=min_samples_split,\n",
    "                                                min_samples_leaf=min_samples_leaf,\n",
    "                                                random_state=42)\n",
    "                    rf.fit(X_train, y_train)\n",
    "\n",
    "                    y_pred = rf.predict(X_test)\n",
    "                    f1 = f1_score(y_test, y_pred)\n",
    "\n",
    "                    if f1 > best_score:\n",
    "                        best_score = f1\n",
    "                        best_params = {\n",
    "                            'max_features': max_features,\n",
    "                            'max_depth': max_depth,\n",
    "                            'min_samples_split': min_samples_split,\n",
    "                            'min_samples_leaf': min_samples_leaf\n",
    "                        }\n",
    "                        print('**Best so far**')\n",
    "                    \n",
    "                    print('[',model_name,': max_features',max_features,'| max_depth',max_depth, \n",
    "                          '| min_samples_split',min_samples_split,'| min_samples_leaf',min_samples_leaf,'] DONE !')\n",
    "\n",
    "    # train the best model\n",
    "    best_rf = RandomForestClassifier(**best_params, random_state=42)\n",
    "    best_rf.fit(X_train, y_train)\n",
    "    \n",
    "    y_pred = best_rf.predict(X_test)\n",
    "    y_pred_proba = best_rf.predict_proba(X_test)[:, 1]\n",
    "\n",
    "    accuracy = np.mean(y_pred == y_test)\n",
    "    precision = precision_score(y_test, y_pred)\n",
    "    recall = recall_score(y_test, y_pred)\n",
    "    f1 = f1_score(y_test, y_pred)\n",
    "    auc = roc_auc_score(y_test, y_pred_proba)\n",
    "    \n",
    "    # save model file\n",
    "    joblib.dump(best_rf, model_name+\".joblib\")\n",
    "\n",
    "    return {'Precision': precision,\n",
    "            'Recall': recall,\n",
    "            'f1': f1,\n",
    "            'acc': accuracy,\n",
    "            'AUC': auc,\n",
    "            'Best Params': best_params}"
   ]
  },
  {
   "cell_type": "code",
   "execution_count": 6,
   "id": "8878909d",
   "metadata": {},
   "outputs": [],
   "source": [
    "results = []\n",
    "\n",
    "X_train_neg, y_train_neg, X_test_neg, y_test_neg = get_train_test(df_merged_neg)\n",
    "X_train_zero, y_train_zero, X_test_zero, y_test_zero = get_train_test(df_merged_zero)"
   ]
  },
  {
   "cell_type": "code",
   "execution_count": 7,
   "id": "2ae8ebb9",
   "metadata": {},
   "outputs": [
    {
     "name": "stdout",
     "output_type": "stream",
     "text": [
      "**Best so far**\n",
      "[ best_rf_model_neg : max_features None | max_depth None | min_samples_split 2 | min_samples_leaf 1 ] DONE !\n",
      "[ best_rf_model_neg : max_features None | max_depth None | min_samples_split 2 | min_samples_leaf 2 ] DONE !\n",
      "[ best_rf_model_neg : max_features None | max_depth None | min_samples_split 5 | min_samples_leaf 1 ] DONE !\n",
      "[ best_rf_model_neg : max_features None | max_depth None | min_samples_split 5 | min_samples_leaf 2 ] DONE !\n",
      "[ best_rf_model_neg : max_features None | max_depth 10 | min_samples_split 2 | min_samples_leaf 1 ] DONE !\n",
      "[ best_rf_model_neg : max_features None | max_depth 10 | min_samples_split 2 | min_samples_leaf 2 ] DONE !\n",
      "[ best_rf_model_neg : max_features None | max_depth 10 | min_samples_split 5 | min_samples_leaf 1 ] DONE !\n",
      "[ best_rf_model_neg : max_features None | max_depth 10 | min_samples_split 5 | min_samples_leaf 2 ] DONE !\n",
      "[ best_rf_model_neg : max_features sqrt | max_depth None | min_samples_split 2 | min_samples_leaf 1 ] DONE !\n",
      "[ best_rf_model_neg : max_features sqrt | max_depth None | min_samples_split 2 | min_samples_leaf 2 ] DONE !\n",
      "[ best_rf_model_neg : max_features sqrt | max_depth None | min_samples_split 5 | min_samples_leaf 1 ] DONE !\n",
      "[ best_rf_model_neg : max_features sqrt | max_depth None | min_samples_split 5 | min_samples_leaf 2 ] DONE !\n",
      "[ best_rf_model_neg : max_features sqrt | max_depth 10 | min_samples_split 2 | min_samples_leaf 1 ] DONE !\n",
      "[ best_rf_model_neg : max_features sqrt | max_depth 10 | min_samples_split 2 | min_samples_leaf 2 ] DONE !\n",
      "[ best_rf_model_neg : max_features sqrt | max_depth 10 | min_samples_split 5 | min_samples_leaf 1 ] DONE !\n",
      "[ best_rf_model_neg : max_features sqrt | max_depth 10 | min_samples_split 5 | min_samples_leaf 2 ] DONE !\n",
      "**Best so far**\n",
      "[ best_rf_model_zero : max_features None | max_depth None | min_samples_split 2 | min_samples_leaf 1 ] DONE !\n",
      "[ best_rf_model_zero : max_features None | max_depth None | min_samples_split 2 | min_samples_leaf 2 ] DONE !\n",
      "[ best_rf_model_zero : max_features None | max_depth None | min_samples_split 5 | min_samples_leaf 1 ] DONE !\n",
      "[ best_rf_model_zero : max_features None | max_depth None | min_samples_split 5 | min_samples_leaf 2 ] DONE !\n",
      "[ best_rf_model_zero : max_features None | max_depth 10 | min_samples_split 2 | min_samples_leaf 1 ] DONE !\n",
      "[ best_rf_model_zero : max_features None | max_depth 10 | min_samples_split 2 | min_samples_leaf 2 ] DONE !\n",
      "[ best_rf_model_zero : max_features None | max_depth 10 | min_samples_split 5 | min_samples_leaf 1 ] DONE !\n",
      "[ best_rf_model_zero : max_features None | max_depth 10 | min_samples_split 5 | min_samples_leaf 2 ] DONE !\n",
      "[ best_rf_model_zero : max_features sqrt | max_depth None | min_samples_split 2 | min_samples_leaf 1 ] DONE !\n",
      "[ best_rf_model_zero : max_features sqrt | max_depth None | min_samples_split 2 | min_samples_leaf 2 ] DONE !\n",
      "[ best_rf_model_zero : max_features sqrt | max_depth None | min_samples_split 5 | min_samples_leaf 1 ] DONE !\n",
      "[ best_rf_model_zero : max_features sqrt | max_depth None | min_samples_split 5 | min_samples_leaf 2 ] DONE !\n",
      "[ best_rf_model_zero : max_features sqrt | max_depth 10 | min_samples_split 2 | min_samples_leaf 1 ] DONE !\n",
      "[ best_rf_model_zero : max_features sqrt | max_depth 10 | min_samples_split 2 | min_samples_leaf 2 ] DONE !\n",
      "[ best_rf_model_zero : max_features sqrt | max_depth 10 | min_samples_split 5 | min_samples_leaf 1 ] DONE !\n",
      "[ best_rf_model_zero : max_features sqrt | max_depth 10 | min_samples_split 5 | min_samples_leaf 2 ] DONE !\n",
      "CPU times: user 17h 42min 17s, sys: 2min 27s, total: 17h 44min 45s\n",
      "Wall time: 20h 54min 7s\n"
     ]
    }
   ],
   "source": [
    "%%time\n",
    "result = rf_result(X_train_neg, y_train_neg, X_test_neg, y_test_neg, 'best_rf_model_neg')\n",
    "result['Dataset'] = 'df_merged_neg'\n",
    "results.append(result)\n",
    "\n",
    "result = rf_result(X_train_zero, y_train_zero, X_test_zero, y_test_zero, 'best_rf_model_zero')\n",
    "result['Dataset'] = 'df_merged_zero'\n",
    "results.append(result)"
   ]
  },
  {
   "cell_type": "code",
   "execution_count": 8,
   "id": "5650de94",
   "metadata": {},
   "outputs": [
    {
     "data": {
      "text/html": [
       "<div>\n",
       "<style scoped>\n",
       "    .dataframe tbody tr th:only-of-type {\n",
       "        vertical-align: middle;\n",
       "    }\n",
       "\n",
       "    .dataframe tbody tr th {\n",
       "        vertical-align: top;\n",
       "    }\n",
       "\n",
       "    .dataframe thead th {\n",
       "        text-align: right;\n",
       "    }\n",
       "</style>\n",
       "<table border=\"1\" class=\"dataframe\">\n",
       "  <thead>\n",
       "    <tr style=\"text-align: right;\">\n",
       "      <th></th>\n",
       "      <th>Precision</th>\n",
       "      <th>Recall</th>\n",
       "      <th>f1</th>\n",
       "      <th>acc</th>\n",
       "      <th>AUC</th>\n",
       "      <th>Best Params</th>\n",
       "      <th>Dataset</th>\n",
       "    </tr>\n",
       "  </thead>\n",
       "  <tbody>\n",
       "    <tr>\n",
       "      <th>0</th>\n",
       "      <td>0.365854</td>\n",
       "      <td>0.027624</td>\n",
       "      <td>0.051370</td>\n",
       "      <td>0.976744</td>\n",
       "      <td>0.664236</td>\n",
       "      <td>{'max_features': None, 'max_depth': None, 'min...</td>\n",
       "      <td>df_merged_neg</td>\n",
       "    </tr>\n",
       "    <tr>\n",
       "      <th>1</th>\n",
       "      <td>0.347826</td>\n",
       "      <td>0.014467</td>\n",
       "      <td>0.027778</td>\n",
       "      <td>0.970071</td>\n",
       "      <td>0.615880</td>\n",
       "      <td>{'max_features': None, 'max_depth': None, 'min...</td>\n",
       "      <td>df_merged_zero</td>\n",
       "    </tr>\n",
       "  </tbody>\n",
       "</table>\n",
       "</div>"
      ],
      "text/plain": [
       "   Precision    Recall        f1       acc       AUC  \\\n",
       "0   0.365854  0.027624  0.051370  0.976744  0.664236   \n",
       "1   0.347826  0.014467  0.027778  0.970071  0.615880   \n",
       "\n",
       "                                         Best Params         Dataset  \n",
       "0  {'max_features': None, 'max_depth': None, 'min...   df_merged_neg  \n",
       "1  {'max_features': None, 'max_depth': None, 'min...  df_merged_zero  "
      ]
     },
     "execution_count": 8,
     "metadata": {},
     "output_type": "execute_result"
    }
   ],
   "source": [
    "df_results = pd.DataFrame(results)\n",
    "df_results"
   ]
  },
  {
   "cell_type": "code",
   "execution_count": 9,
   "id": "fc031c16",
   "metadata": {},
   "outputs": [],
   "source": [
    "#loaded_rf = joblib.load(\"my_random_forest.joblib\")"
   ]
  }
 ],
 "metadata": {
  "kernelspec": {
   "display_name": "Python 3 (ipykernel)",
   "language": "python",
   "name": "python3"
  },
  "language_info": {
   "codemirror_mode": {
    "name": "ipython",
    "version": 3
   },
   "file_extension": ".py",
   "mimetype": "text/x-python",
   "name": "python",
   "nbconvert_exporter": "python",
   "pygments_lexer": "ipython3",
   "version": "3.9.16"
  }
 },
 "nbformat": 4,
 "nbformat_minor": 5
}
