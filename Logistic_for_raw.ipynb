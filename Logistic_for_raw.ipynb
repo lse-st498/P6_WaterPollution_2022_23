{
 "cells": [
  {
   "cell_type": "markdown",
   "metadata": {
    "id": "1vIrrlI5qYYy"
   },
   "source": [
    "# Logistic Regression for sites_data_new(6x225)"
   ]
  },
  {
   "cell_type": "markdown",
   "metadata": {
    "id": "7kYT-Av0M30Y"
   },
   "source": [
    "# Load Packages<a class=\"anchor\" id=\"Packages\"></a>"
   ]
  },
  {
   "cell_type": "code",
   "execution_count": 1,
   "metadata": {
    "executionInfo": {
     "elapsed": 957,
     "status": "ok",
     "timestamp": 1690583619897,
     "user": {
      "displayName": "Zachary Lu",
      "userId": "08339288598973642231"
     },
     "user_tz": -60
    },
    "id": "BswLk-JvM30a"
   },
   "outputs": [],
   "source": [
    "import matplotlib.pyplot as plt\n",
    "import pandas as pd\n",
    "import numpy as np\n",
    "from imblearn.over_sampling import RandomOverSampler\n",
    "from sklearn.ensemble import RandomForestClassifier\n",
    "from datetime import datetime\n",
    "import seaborn as sns\n",
    "from sklearn.decomposition import PCA\n",
    "from sklearn.preprocessing import MinMaxScaler, StandardScaler\n",
    "from sklearn.linear_model import LogisticRegression\n",
    "from sklearn.metrics import *\n",
    "from sklearn.metrics import RocCurveDisplay, auc, roc_auc_score, make_scorer, f1_score, precision_score, recall_score\n",
    "from sklearn.metrics import precision_recall_curve, accuracy_score, confusion_matrix, classification_report, roc_curve\n",
    "from sklearn.metrics import silhouette_score\n",
    "from keras.optimizers import Adam\n",
    "import random\n",
    "import csv\n",
    "import statistics\n",
    "from sklearn.neighbors import KNeighborsClassifier\n",
    "from sklearn.neural_network import MLPClassifier\n",
    "from sklearn.cluster import KMeans\n",
    "from sklearn.utils.class_weight import compute_class_weight\n",
    "from mlxtend.feature_selection import SequentialFeatureSelector\n",
    "from mlxtend.plotting import plot_sequential_feature_selection as plot_sfs\n",
    "from sklearn.metrics import average_precision_score"
   ]
  },
  {
   "cell_type": "code",
   "execution_count": 2,
   "metadata": {},
   "outputs": [],
   "source": [
    "from joblib import load\n",
    "\n",
    "default_lg = load('best_model/default_lg.joblib')"
   ]
  },
  {
   "cell_type": "markdown",
   "metadata": {},
   "source": [
    "# Load Dataset<a class=\"anchor\" id=\"Dataset\"></a>"
   ]
  },
  {
   "cell_type": "code",
   "execution_count": 5,
   "metadata": {},
   "outputs": [],
   "source": [
    "# df_raw = pd.read_csv('data/sites_data_new(6x225).csv')"
   ]
  },
  {
   "cell_type": "code",
   "execution_count": 2,
   "metadata": {},
   "outputs": [],
   "source": [
    "# df_raw.fillna(0, inplace=True)\n",
    "# riskforecasting = pd.read_csv('data/pollution_risk_forecasting.csv')\n",
    "# df_merged_raw = pd.merge(df_raw, riskforecasting[['site', 'time', 'riskLevelLabel']], on=['site', 'time'])\n",
    "# df_merged_raw"
   ]
  },
  {
   "cell_type": "code",
   "execution_count": 3,
   "metadata": {},
   "outputs": [
    {
     "data": {
      "text/html": [
       "<div>\n",
       "<style scoped>\n",
       "    .dataframe tbody tr th:only-of-type {\n",
       "        vertical-align: middle;\n",
       "    }\n",
       "\n",
       "    .dataframe tbody tr th {\n",
       "        vertical-align: top;\n",
       "    }\n",
       "\n",
       "    .dataframe thead th {\n",
       "        text-align: right;\n",
       "    }\n",
       "</style>\n",
       "<table border=\"1\" class=\"dataframe\">\n",
       "  <thead>\n",
       "    <tr style=\"text-align: right;\">\n",
       "      <th></th>\n",
       "      <th>Unnamed: 0</th>\n",
       "      <th>time</th>\n",
       "      <th>site</th>\n",
       "      <th>BBP_1</th>\n",
       "      <th>BBP_2</th>\n",
       "      <th>BBP_3</th>\n",
       "      <th>BBP_4</th>\n",
       "      <th>BBP_5</th>\n",
       "      <th>BBP_6</th>\n",
       "      <th>BBP_7</th>\n",
       "      <th>...</th>\n",
       "      <th>CHL_217</th>\n",
       "      <th>CHL_218</th>\n",
       "      <th>CHL_219</th>\n",
       "      <th>CHL_220</th>\n",
       "      <th>CHL_221</th>\n",
       "      <th>CHL_222</th>\n",
       "      <th>CHL_223</th>\n",
       "      <th>CHL_224</th>\n",
       "      <th>CHL_225</th>\n",
       "      <th>riskLevelLabel</th>\n",
       "    </tr>\n",
       "  </thead>\n",
       "  <tbody>\n",
       "    <tr>\n",
       "      <th>0</th>\n",
       "      <td>0</td>\n",
       "      <td>2020-01-22</td>\n",
       "      <td>ukd4305-43260</td>\n",
       "      <td>0.0</td>\n",
       "      <td>0.0</td>\n",
       "      <td>0.0</td>\n",
       "      <td>0.0</td>\n",
       "      <td>0.0</td>\n",
       "      <td>0.0</td>\n",
       "      <td>0.0</td>\n",
       "      <td>...</td>\n",
       "      <td>0.0</td>\n",
       "      <td>0.0</td>\n",
       "      <td>0.0</td>\n",
       "      <td>0.000000</td>\n",
       "      <td>0.000000</td>\n",
       "      <td>0.000000</td>\n",
       "      <td>0.000000</td>\n",
       "      <td>0.000000</td>\n",
       "      <td>0.000000</td>\n",
       "      <td>1</td>\n",
       "    </tr>\n",
       "    <tr>\n",
       "      <th>1</th>\n",
       "      <td>1</td>\n",
       "      <td>2020-02-17</td>\n",
       "      <td>ukk3106-27200</td>\n",
       "      <td>0.0</td>\n",
       "      <td>0.0</td>\n",
       "      <td>0.0</td>\n",
       "      <td>0.0</td>\n",
       "      <td>0.0</td>\n",
       "      <td>0.0</td>\n",
       "      <td>0.0</td>\n",
       "      <td>...</td>\n",
       "      <td>0.0</td>\n",
       "      <td>0.0</td>\n",
       "      <td>0.0</td>\n",
       "      <td>0.000000</td>\n",
       "      <td>0.000000</td>\n",
       "      <td>0.000000</td>\n",
       "      <td>0.000000</td>\n",
       "      <td>0.000000</td>\n",
       "      <td>0.000000</td>\n",
       "      <td>1</td>\n",
       "    </tr>\n",
       "    <tr>\n",
       "      <th>2</th>\n",
       "      <td>2</td>\n",
       "      <td>2020-02-29</td>\n",
       "      <td>ukk4304-34200</td>\n",
       "      <td>0.0</td>\n",
       "      <td>0.0</td>\n",
       "      <td>0.0</td>\n",
       "      <td>0.0</td>\n",
       "      <td>0.0</td>\n",
       "      <td>0.0</td>\n",
       "      <td>0.0</td>\n",
       "      <td>...</td>\n",
       "      <td>0.0</td>\n",
       "      <td>0.0</td>\n",
       "      <td>0.0</td>\n",
       "      <td>4.296514</td>\n",
       "      <td>0.000000</td>\n",
       "      <td>0.000000</td>\n",
       "      <td>0.000000</td>\n",
       "      <td>0.000000</td>\n",
       "      <td>0.000000</td>\n",
       "      <td>1</td>\n",
       "    </tr>\n",
       "    <tr>\n",
       "      <th>3</th>\n",
       "      <td>3</td>\n",
       "      <td>2020-03-01</td>\n",
       "      <td>ukk4305-25400</td>\n",
       "      <td>0.0</td>\n",
       "      <td>0.0</td>\n",
       "      <td>0.0</td>\n",
       "      <td>0.0</td>\n",
       "      <td>0.0</td>\n",
       "      <td>0.0</td>\n",
       "      <td>0.0</td>\n",
       "      <td>...</td>\n",
       "      <td>0.0</td>\n",
       "      <td>0.0</td>\n",
       "      <td>0.0</td>\n",
       "      <td>0.000000</td>\n",
       "      <td>0.000000</td>\n",
       "      <td>0.000000</td>\n",
       "      <td>0.000000</td>\n",
       "      <td>0.000000</td>\n",
       "      <td>0.000000</td>\n",
       "      <td>1</td>\n",
       "    </tr>\n",
       "    <tr>\n",
       "      <th>4</th>\n",
       "      <td>4</td>\n",
       "      <td>2020-03-12</td>\n",
       "      <td>uke1200-08100</td>\n",
       "      <td>0.0</td>\n",
       "      <td>0.0</td>\n",
       "      <td>0.0</td>\n",
       "      <td>0.0</td>\n",
       "      <td>0.0</td>\n",
       "      <td>0.0</td>\n",
       "      <td>0.0</td>\n",
       "      <td>...</td>\n",
       "      <td>0.0</td>\n",
       "      <td>0.0</td>\n",
       "      <td>0.0</td>\n",
       "      <td>0.000000</td>\n",
       "      <td>0.000000</td>\n",
       "      <td>0.000000</td>\n",
       "      <td>5.998436</td>\n",
       "      <td>5.885504</td>\n",
       "      <td>5.679880</td>\n",
       "      <td>1</td>\n",
       "    </tr>\n",
       "    <tr>\n",
       "      <th>...</th>\n",
       "      <td>...</td>\n",
       "      <td>...</td>\n",
       "      <td>...</td>\n",
       "      <td>...</td>\n",
       "      <td>...</td>\n",
       "      <td>...</td>\n",
       "      <td>...</td>\n",
       "      <td>...</td>\n",
       "      <td>...</td>\n",
       "      <td>...</td>\n",
       "      <td>...</td>\n",
       "      <td>...</td>\n",
       "      <td>...</td>\n",
       "      <td>...</td>\n",
       "      <td>...</td>\n",
       "      <td>...</td>\n",
       "      <td>...</td>\n",
       "      <td>...</td>\n",
       "      <td>...</td>\n",
       "      <td>...</td>\n",
       "      <td>...</td>\n",
       "    </tr>\n",
       "    <tr>\n",
       "      <th>187106</th>\n",
       "      <td>187106</td>\n",
       "      <td>2022-11-08</td>\n",
       "      <td>ukj3400-17700</td>\n",
       "      <td>0.0</td>\n",
       "      <td>0.0</td>\n",
       "      <td>0.0</td>\n",
       "      <td>0.0</td>\n",
       "      <td>0.0</td>\n",
       "      <td>0.0</td>\n",
       "      <td>0.0</td>\n",
       "      <td>...</td>\n",
       "      <td>0.0</td>\n",
       "      <td>0.0</td>\n",
       "      <td>0.0</td>\n",
       "      <td>0.000000</td>\n",
       "      <td>0.000000</td>\n",
       "      <td>0.000000</td>\n",
       "      <td>0.000000</td>\n",
       "      <td>0.000000</td>\n",
       "      <td>0.000000</td>\n",
       "      <td>0</td>\n",
       "    </tr>\n",
       "    <tr>\n",
       "      <th>187107</th>\n",
       "      <td>187107</td>\n",
       "      <td>2022-12-02</td>\n",
       "      <td>ukk3103-29500</td>\n",
       "      <td>0.0</td>\n",
       "      <td>0.0</td>\n",
       "      <td>0.0</td>\n",
       "      <td>0.0</td>\n",
       "      <td>0.0</td>\n",
       "      <td>0.0</td>\n",
       "      <td>0.0</td>\n",
       "      <td>...</td>\n",
       "      <td>0.0</td>\n",
       "      <td>0.0</td>\n",
       "      <td>0.0</td>\n",
       "      <td>0.000000</td>\n",
       "      <td>0.000000</td>\n",
       "      <td>0.000000</td>\n",
       "      <td>0.000000</td>\n",
       "      <td>0.000000</td>\n",
       "      <td>0.000000</td>\n",
       "      <td>1</td>\n",
       "    </tr>\n",
       "    <tr>\n",
       "      <th>187108</th>\n",
       "      <td>187108</td>\n",
       "      <td>2022-12-07</td>\n",
       "      <td>ukk3103-29100</td>\n",
       "      <td>0.0</td>\n",
       "      <td>0.0</td>\n",
       "      <td>0.0</td>\n",
       "      <td>0.0</td>\n",
       "      <td>0.0</td>\n",
       "      <td>0.0</td>\n",
       "      <td>0.0</td>\n",
       "      <td>...</td>\n",
       "      <td>0.0</td>\n",
       "      <td>0.0</td>\n",
       "      <td>0.0</td>\n",
       "      <td>15.340636</td>\n",
       "      <td>15.438755</td>\n",
       "      <td>15.750604</td>\n",
       "      <td>15.151216</td>\n",
       "      <td>14.544814</td>\n",
       "      <td>13.733911</td>\n",
       "      <td>1</td>\n",
       "    </tr>\n",
       "    <tr>\n",
       "      <th>187109</th>\n",
       "      <td>187109</td>\n",
       "      <td>2022-12-08</td>\n",
       "      <td>ukk3103-29100</td>\n",
       "      <td>0.0</td>\n",
       "      <td>0.0</td>\n",
       "      <td>0.0</td>\n",
       "      <td>0.0</td>\n",
       "      <td>0.0</td>\n",
       "      <td>0.0</td>\n",
       "      <td>0.0</td>\n",
       "      <td>...</td>\n",
       "      <td>0.0</td>\n",
       "      <td>0.0</td>\n",
       "      <td>0.0</td>\n",
       "      <td>1.141397</td>\n",
       "      <td>1.121911</td>\n",
       "      <td>1.060280</td>\n",
       "      <td>1.066033</td>\n",
       "      <td>1.071090</td>\n",
       "      <td>1.077519</td>\n",
       "      <td>0</td>\n",
       "    </tr>\n",
       "    <tr>\n",
       "      <th>187110</th>\n",
       "      <td>187110</td>\n",
       "      <td>2022-12-19</td>\n",
       "      <td>ukf3102-09600</td>\n",
       "      <td>0.0</td>\n",
       "      <td>0.0</td>\n",
       "      <td>0.0</td>\n",
       "      <td>0.0</td>\n",
       "      <td>0.0</td>\n",
       "      <td>0.0</td>\n",
       "      <td>0.0</td>\n",
       "      <td>...</td>\n",
       "      <td>0.0</td>\n",
       "      <td>0.0</td>\n",
       "      <td>0.0</td>\n",
       "      <td>0.000000</td>\n",
       "      <td>0.000000</td>\n",
       "      <td>0.000000</td>\n",
       "      <td>0.000000</td>\n",
       "      <td>0.000000</td>\n",
       "      <td>0.000000</td>\n",
       "      <td>0</td>\n",
       "    </tr>\n",
       "  </tbody>\n",
       "</table>\n",
       "<p>187111 rows × 1354 columns</p>\n",
       "</div>"
      ],
      "text/plain": [
       "        Unnamed: 0        time           site  BBP_1  BBP_2  BBP_3  BBP_4  \\\n",
       "0                0  2020-01-22  ukd4305-43260    0.0    0.0    0.0    0.0   \n",
       "1                1  2020-02-17  ukk3106-27200    0.0    0.0    0.0    0.0   \n",
       "2                2  2020-02-29  ukk4304-34200    0.0    0.0    0.0    0.0   \n",
       "3                3  2020-03-01  ukk4305-25400    0.0    0.0    0.0    0.0   \n",
       "4                4  2020-03-12  uke1200-08100    0.0    0.0    0.0    0.0   \n",
       "...            ...         ...            ...    ...    ...    ...    ...   \n",
       "187106      187106  2022-11-08  ukj3400-17700    0.0    0.0    0.0    0.0   \n",
       "187107      187107  2022-12-02  ukk3103-29500    0.0    0.0    0.0    0.0   \n",
       "187108      187108  2022-12-07  ukk3103-29100    0.0    0.0    0.0    0.0   \n",
       "187109      187109  2022-12-08  ukk3103-29100    0.0    0.0    0.0    0.0   \n",
       "187110      187110  2022-12-19  ukf3102-09600    0.0    0.0    0.0    0.0   \n",
       "\n",
       "        BBP_5  BBP_6  BBP_7  ...  CHL_217  CHL_218  CHL_219    CHL_220  \\\n",
       "0         0.0    0.0    0.0  ...      0.0      0.0      0.0   0.000000   \n",
       "1         0.0    0.0    0.0  ...      0.0      0.0      0.0   0.000000   \n",
       "2         0.0    0.0    0.0  ...      0.0      0.0      0.0   4.296514   \n",
       "3         0.0    0.0    0.0  ...      0.0      0.0      0.0   0.000000   \n",
       "4         0.0    0.0    0.0  ...      0.0      0.0      0.0   0.000000   \n",
       "...       ...    ...    ...  ...      ...      ...      ...        ...   \n",
       "187106    0.0    0.0    0.0  ...      0.0      0.0      0.0   0.000000   \n",
       "187107    0.0    0.0    0.0  ...      0.0      0.0      0.0   0.000000   \n",
       "187108    0.0    0.0    0.0  ...      0.0      0.0      0.0  15.340636   \n",
       "187109    0.0    0.0    0.0  ...      0.0      0.0      0.0   1.141397   \n",
       "187110    0.0    0.0    0.0  ...      0.0      0.0      0.0   0.000000   \n",
       "\n",
       "          CHL_221    CHL_222    CHL_223    CHL_224    CHL_225  riskLevelLabel  \n",
       "0        0.000000   0.000000   0.000000   0.000000   0.000000               1  \n",
       "1        0.000000   0.000000   0.000000   0.000000   0.000000               1  \n",
       "2        0.000000   0.000000   0.000000   0.000000   0.000000               1  \n",
       "3        0.000000   0.000000   0.000000   0.000000   0.000000               1  \n",
       "4        0.000000   0.000000   5.998436   5.885504   5.679880               1  \n",
       "...           ...        ...        ...        ...        ...             ...  \n",
       "187106   0.000000   0.000000   0.000000   0.000000   0.000000               0  \n",
       "187107   0.000000   0.000000   0.000000   0.000000   0.000000               1  \n",
       "187108  15.438755  15.750604  15.151216  14.544814  13.733911               1  \n",
       "187109   1.121911   1.060280   1.066033   1.071090   1.077519               0  \n",
       "187110   0.000000   0.000000   0.000000   0.000000   0.000000               0  \n",
       "\n",
       "[187111 rows x 1354 columns]"
      ]
     },
     "execution_count": 3,
     "metadata": {},
     "output_type": "execute_result"
    }
   ],
   "source": [
    "df_merged_raw = pd.read_csv('data/df_merged_raw.csv')\n",
    "df_merged_raw"
   ]
  },
  {
   "cell_type": "code",
   "execution_count": 18,
   "metadata": {},
   "outputs": [
    {
     "data": {
      "text/plain": [
       "0    0.971797\n",
       "1    0.028203\n",
       "Name: riskLevelLabel, dtype: float64"
      ]
     },
     "execution_count": 18,
     "metadata": {},
     "output_type": "execute_result"
    }
   ],
   "source": [
    "counts_normalized = df_merged_raw['riskLevelLabel'].value_counts(normalize=True)\n",
    "counts_normalized"
   ]
  },
  {
   "cell_type": "markdown",
   "metadata": {
    "id": "k5Rh25eDM30d"
   },
   "source": [
    "## Train Test Validation Split<a class=\"anchor\" id=\"Train_Test_Validation_Split\"></a>"
   ]
  },
  {
   "cell_type": "code",
   "execution_count": 4,
   "metadata": {
    "colab": {
     "base_uri": "https://localhost:8080/",
     "height": 0
    },
    "executionInfo": {
     "elapsed": 911,
     "status": "ok",
     "timestamp": 1690583693548,
     "user": {
      "displayName": "Zachary Lu",
      "userId": "08339288598973642231"
     },
     "user_tz": -60
    },
    "id": "YkZzKDtAmGvQ",
    "outputId": "46dbfba0-071f-43ea-b8d2-50e43ed24598"
   },
   "outputs": [
    {
     "data": {
      "text/html": [
       "<div>\n",
       "<style scoped>\n",
       "    .dataframe tbody tr th:only-of-type {\n",
       "        vertical-align: middle;\n",
       "    }\n",
       "\n",
       "    .dataframe tbody tr th {\n",
       "        vertical-align: top;\n",
       "    }\n",
       "\n",
       "    .dataframe thead th {\n",
       "        text-align: right;\n",
       "    }\n",
       "</style>\n",
       "<table border=\"1\" class=\"dataframe\">\n",
       "  <thead>\n",
       "    <tr style=\"text-align: right;\">\n",
       "      <th></th>\n",
       "      <th>time</th>\n",
       "      <th>site</th>\n",
       "    </tr>\n",
       "  </thead>\n",
       "  <tbody>\n",
       "    <tr>\n",
       "      <th>0</th>\n",
       "      <td>2021-05-25</td>\n",
       "      <td>ukk4305-25800</td>\n",
       "    </tr>\n",
       "    <tr>\n",
       "      <th>1</th>\n",
       "      <td>2022-07-04</td>\n",
       "      <td>ukk4305-25800</td>\n",
       "    </tr>\n",
       "    <tr>\n",
       "      <th>2</th>\n",
       "      <td>2022-08-08</td>\n",
       "      <td>ukk3105-31450</td>\n",
       "    </tr>\n",
       "    <tr>\n",
       "      <th>3</th>\n",
       "      <td>2022-08-27</td>\n",
       "      <td>ukk2206-20800</td>\n",
       "    </tr>\n",
       "    <tr>\n",
       "      <th>4</th>\n",
       "      <td>2020-06-08</td>\n",
       "      <td>uke1301-09020</td>\n",
       "    </tr>\n",
       "    <tr>\n",
       "      <th>...</th>\n",
       "      <td>...</td>\n",
       "      <td>...</td>\n",
       "    </tr>\n",
       "    <tr>\n",
       "      <th>112261</th>\n",
       "      <td>2021-07-19</td>\n",
       "      <td>ukj4210-12660</td>\n",
       "    </tr>\n",
       "    <tr>\n",
       "      <th>112262</th>\n",
       "      <td>2021-05-10</td>\n",
       "      <td>ukk4200-23200</td>\n",
       "    </tr>\n",
       "    <tr>\n",
       "      <th>112263</th>\n",
       "      <td>2020-08-10</td>\n",
       "      <td>ukk3104-33500</td>\n",
       "    </tr>\n",
       "    <tr>\n",
       "      <th>112264</th>\n",
       "      <td>2021-09-08</td>\n",
       "      <td>ukk1202-35700</td>\n",
       "    </tr>\n",
       "    <tr>\n",
       "      <th>112265</th>\n",
       "      <td>2020-08-09</td>\n",
       "      <td>ukk3101-27000</td>\n",
       "    </tr>\n",
       "  </tbody>\n",
       "</table>\n",
       "<p>112266 rows × 2 columns</p>\n",
       "</div>"
      ],
      "text/plain": [
       "              time           site\n",
       "0       2021-05-25  ukk4305-25800\n",
       "1       2022-07-04  ukk4305-25800\n",
       "2       2022-08-08  ukk3105-31450\n",
       "3       2022-08-27  ukk2206-20800\n",
       "4       2020-06-08  uke1301-09020\n",
       "...            ...            ...\n",
       "112261  2021-07-19  ukj4210-12660\n",
       "112262  2021-05-10  ukk4200-23200\n",
       "112263  2020-08-10  ukk3104-33500\n",
       "112264  2021-09-08  ukk1202-35700\n",
       "112265  2020-08-09  ukk3101-27000\n",
       "\n",
       "[112266 rows x 2 columns]"
      ]
     },
     "execution_count": 4,
     "metadata": {},
     "output_type": "execute_result"
    }
   ],
   "source": [
    "train_labels_mean_zero = pd.read_csv('data/train_labels_mean_zero.csv')[['time', 'site']]\n",
    "train_labels_mean_zero"
   ]
  },
  {
   "cell_type": "code",
   "execution_count": 5,
   "metadata": {
    "colab": {
     "base_uri": "https://localhost:8080/",
     "height": 0
    },
    "executionInfo": {
     "elapsed": 461,
     "status": "ok",
     "timestamp": 1690583694219,
     "user": {
      "displayName": "Zachary Lu",
      "userId": "08339288598973642231"
     },
     "user_tz": -60
    },
    "id": "DRV_K0ARoBtQ",
    "outputId": "a70a7a7e-8b80-43c9-c25e-33f44837fefd"
   },
   "outputs": [
    {
     "data": {
      "text/html": [
       "<div>\n",
       "<style scoped>\n",
       "    .dataframe tbody tr th:only-of-type {\n",
       "        vertical-align: middle;\n",
       "    }\n",
       "\n",
       "    .dataframe tbody tr th {\n",
       "        vertical-align: top;\n",
       "    }\n",
       "\n",
       "    .dataframe thead th {\n",
       "        text-align: right;\n",
       "    }\n",
       "</style>\n",
       "<table border=\"1\" class=\"dataframe\">\n",
       "  <thead>\n",
       "    <tr style=\"text-align: right;\">\n",
       "      <th></th>\n",
       "      <th>time</th>\n",
       "      <th>site</th>\n",
       "    </tr>\n",
       "  </thead>\n",
       "  <tbody>\n",
       "    <tr>\n",
       "      <th>0</th>\n",
       "      <td>2022-09-21</td>\n",
       "      <td>ukk3106-32100</td>\n",
       "    </tr>\n",
       "    <tr>\n",
       "      <th>1</th>\n",
       "      <td>2020-08-08</td>\n",
       "      <td>ukh1407-10750</td>\n",
       "    </tr>\n",
       "    <tr>\n",
       "      <th>2</th>\n",
       "      <td>2020-09-20</td>\n",
       "      <td>ukd4200-42100</td>\n",
       "    </tr>\n",
       "    <tr>\n",
       "      <th>3</th>\n",
       "      <td>2022-07-06</td>\n",
       "      <td>ukk2206-20900</td>\n",
       "    </tr>\n",
       "    <tr>\n",
       "      <th>4</th>\n",
       "      <td>2021-08-24</td>\n",
       "      <td>ukk4305-26100</td>\n",
       "    </tr>\n",
       "    <tr>\n",
       "      <th>...</th>\n",
       "      <td>...</td>\n",
       "      <td>...</td>\n",
       "    </tr>\n",
       "    <tr>\n",
       "      <th>37418</th>\n",
       "      <td>2021-09-22</td>\n",
       "      <td>ukj2402-15680</td>\n",
       "    </tr>\n",
       "    <tr>\n",
       "      <th>37419</th>\n",
       "      <td>2021-08-14</td>\n",
       "      <td>ukk3104-33500</td>\n",
       "    </tr>\n",
       "    <tr>\n",
       "      <th>37420</th>\n",
       "      <td>2022-05-20</td>\n",
       "      <td>ukk4305-25600</td>\n",
       "    </tr>\n",
       "    <tr>\n",
       "      <th>37421</th>\n",
       "      <td>2022-06-25</td>\n",
       "      <td>ukj3400-18000</td>\n",
       "    </tr>\n",
       "    <tr>\n",
       "      <th>37422</th>\n",
       "      <td>2021-09-27</td>\n",
       "      <td>ukj2201-14500</td>\n",
       "    </tr>\n",
       "  </tbody>\n",
       "</table>\n",
       "<p>37423 rows × 2 columns</p>\n",
       "</div>"
      ],
      "text/plain": [
       "             time           site\n",
       "0      2022-09-21  ukk3106-32100\n",
       "1      2020-08-08  ukh1407-10750\n",
       "2      2020-09-20  ukd4200-42100\n",
       "3      2022-07-06  ukk2206-20900\n",
       "4      2021-08-24  ukk4305-26100\n",
       "...           ...            ...\n",
       "37418  2021-09-22  ukj2402-15680\n",
       "37419  2021-08-14  ukk3104-33500\n",
       "37420  2022-05-20  ukk4305-25600\n",
       "37421  2022-06-25  ukj3400-18000\n",
       "37422  2021-09-27  ukj2201-14500\n",
       "\n",
       "[37423 rows x 2 columns]"
      ]
     },
     "execution_count": 5,
     "metadata": {},
     "output_type": "execute_result"
    }
   ],
   "source": [
    "test_labels_mean_zero = pd.read_csv('data/test_labels_mean_zero.csv')[['time', 'site']]\n",
    "test_labels_mean_zero"
   ]
  },
  {
   "cell_type": "code",
   "execution_count": 6,
   "metadata": {},
   "outputs": [
    {
     "name": "stdout",
     "output_type": "stream",
     "text": [
      "Training X Shape: (112266, 1351)\n",
      "Training y Shape: (112266,)\n",
      "Testing X Shape: (37423, 1351)\n",
      "Testing y Shape: (37423,)\n"
     ]
    }
   ],
   "source": [
    "# Train test validation split\n",
    "df_train = df_merged_raw.merge(train_labels_mean_zero, on=['time', 'site'], how='inner')\n",
    "df_test = df_merged_raw.merge(test_labels_mean_zero, on=['time', 'site'], how='inner')\n",
    "\n",
    "df_train.drop(['time', 'site'], axis=1, inplace=True)\n",
    "df_test.drop(['time', 'site'], axis=1, inplace=True)\n",
    "\n",
    "y_train = df_train.pop('riskLevelLabel')\n",
    "y_test = df_test.pop('riskLevelLabel')\n",
    "\n",
    "X_train = df_train\n",
    "X_test = df_test\n",
    "\n",
    "print('Training X Shape:', X_train.shape)\n",
    "print('Training y Shape:', y_train.shape)\n",
    "print('Testing X Shape:', X_test.shape)\n",
    "print('Testing y Shape:', y_test.shape)"
   ]
  },
  {
   "cell_type": "markdown",
   "metadata": {
    "id": "Tsbgkearbonv"
   },
   "source": [
    "# Functions<a class=\"anchor\" id=\"Functions\"></a>"
   ]
  },
  {
   "cell_type": "code",
   "execution_count": 42,
   "metadata": {},
   "outputs": [],
   "source": [
    "def pr_curve(model, X_test, y_test):\n",
    "    y_pred = model.predict(X_test)\n",
    "    precision, recall, _ = precision_recall_curve(y_test, y_pred)\n",
    "    prc_auc = auc(recall, precision)\n",
    "    fig, ax = plt.subplots()\n",
    "    ax.plot(recall, precision, label='Precision recall curve (area = %0.2f)' % prc_auc)\n",
    "    ax.axhline(y=counts_normalized[1], color='gray', linestyle='--', label='baseline')\n",
    "    ax.set_xlim([0, 1])\n",
    "    ax.set_ylim([0, 1])\n",
    "    ax.set_xlabel('Recall')\n",
    "    ax.set_ylabel('Precision')\n",
    "    ax.set_title('Precision-Recall Curve')\n",
    "    ax.legend(loc=\"lower right\")\n",
    "    plt.show()\n",
    "    return fig"
   ]
  },
  {
   "cell_type": "code",
   "execution_count": 53,
   "metadata": {},
   "outputs": [],
   "source": [
    "def plot_roc(model, X_test, y_test):\n",
    "    y_pred = model.predict(X_test)\n",
    "    fpr, tpr, thresholds = roc_curve(y_test, y_pred)\n",
    "    roc_auc = auc(fpr, tpr)\n",
    "    fig, ax = plt.subplots()\n",
    "    ax.plot(fpr, tpr, label='ROC curve (area = %0.2f)' % roc_auc)\n",
    "    ax.plot([0, 1], [0, 1], 'k--')\n",
    "    ax.set_xlim([0.0, 1.0])\n",
    "    ax.set_ylim([0.0, 1.05])\n",
    "    ax.set_xlabel('False Positive Rate')\n",
    "    ax.set_ylabel('True Positive Rate')\n",
    "    ax.set_title('Receiver Operating Curve')\n",
    "    ax.legend(loc=\"lower right\")\n",
    "    plt.show()\n",
    "    return fig"
   ]
  },
  {
   "cell_type": "code",
   "execution_count": 58,
   "metadata": {
    "executionInfo": {
     "elapsed": 6,
     "status": "ok",
     "timestamp": 1690583670624,
     "user": {
      "displayName": "Zachary Lu",
      "userId": "08339288598973642231"
     },
     "user_tz": -60
    },
    "id": "z5apiGDHcQ8c"
   },
   "outputs": [],
   "source": [
    "def cm(model,X_test,y_test):\n",
    "    cm = ConfusionMatrixDisplay.from_estimator(model, X_test, y_test)\n",
    "    cm.plot\n",
    "    # plt.savefig('results/CM_mean_15x15_lg_PCA.png')"
   ]
  },
  {
   "cell_type": "code",
   "execution_count": 7,
   "metadata": {},
   "outputs": [],
   "source": [
    "def save_result(model,X_test,y_test):\n",
    "    y_pred = model.predict(X_test)\n",
    "    ACC = accuracy_score(y_test, y_pred)\n",
    "    fpr, tpr, _ = roc_curve(y_test, y_pred)\n",
    "    AUC_ROC = auc(fpr, tpr)\n",
    "    PRE = precision_score(y_test, y_pred)\n",
    "    REC = recall_score(y_test, y_pred)\n",
    "    precision, recall, _ = precision_recall_curve(y_test, y_pred)\n",
    "    AP = average_precision_score(y_test, y_pred)\n",
    "    #AUC_PRC = auc(recall, precision)\n",
    "    F1 = f1_score(y_test, y_pred)\n",
    "    return ACC, AUC_ROC, PRE, REC, AP, F1"
   ]
  },
  {
   "cell_type": "markdown",
   "metadata": {},
   "source": [
    "# Default Logistic"
   ]
  },
  {
   "cell_type": "code",
   "execution_count": 13,
   "metadata": {},
   "outputs": [],
   "source": [
    "def default_lg(X_train, y_train):\n",
    "    lg = LogisticRegression(random_state = 100, solver = 'saga', class_weight = 'balanced', n_jobs = -1)\n",
    "    lg.fit(X_train, y_train)\n",
    "    return lg"
   ]
  },
  {
   "cell_type": "code",
   "execution_count": 14,
   "metadata": {},
   "outputs": [
    {
     "name": "stderr",
     "output_type": "stream",
     "text": [
      "C:\\ANACONDA\\lib\\site-packages\\sklearn\\linear_model\\_sag.py:352: ConvergenceWarning: The max_iter was reached which means the coef_ did not converge\n",
      "  warnings.warn(\n"
     ]
    }
   ],
   "source": [
    "default_lg = default_lg(X_train, y_train)"
   ]
  },
  {
   "cell_type": "code",
   "execution_count": 16,
   "metadata": {},
   "outputs": [
    {
     "data": {
      "text/plain": [
       "['best_model/default_lg.joblib']"
      ]
     },
     "execution_count": 16,
     "metadata": {},
     "output_type": "execute_result"
    }
   ],
   "source": [
    "from joblib import dump\n",
    "\n",
    "dump(default_lg, 'best_model/default_lg.joblib')"
   ]
  },
  {
   "cell_type": "code",
   "execution_count": 46,
   "metadata": {},
   "outputs": [
    {
     "data": {
      "image/png": "[encoded data removed]",
      "text/plain": [
       "<Figure size 640x480 with 1 Axes>"
      ]
     },
     "metadata": {},
     "output_type": "display_data"
    }
   ],
   "source": [
    "pr_curve = pr_curve(default_lg, X_test, y_test)"
   ]
  },
  {
   "cell_type": "code",
   "execution_count": 54,
   "metadata": {},
   "outputs": [
    {
     "data": {
      "image/png": "[encoded data removed]",
      "text/plain": [
       "<Figure size 640x480 with 1 Axes>"
      ]
     },
     "metadata": {},
     "output_type": "display_data"
    }
   ],
   "source": [
    "roc_lg = plot_roc(default_lg, X_test, y_test)"
   ]
  },
  {
   "cell_type": "code",
   "execution_count": 59,
   "metadata": {},
   "outputs": [
    {
     "data": {
      "image/png": "[encoded data removed]",
      "text/plain": [
       "<Figure size 640x480 with 2 Axes>"
      ]
     },
     "metadata": {},
     "output_type": "display_data"
    }
   ],
   "source": [
    "cm(default_lg,X_test,y_test)"
   ]
  },
  {
   "cell_type": "code",
   "execution_count": 8,
   "metadata": {},
   "outputs": [
    {
     "data": {
      "text/html": [
       "<div>\n",
       "<style scoped>\n",
       "    .dataframe tbody tr th:only-of-type {\n",
       "        vertical-align: middle;\n",
       "    }\n",
       "\n",
       "    .dataframe tbody tr th {\n",
       "        vertical-align: top;\n",
       "    }\n",
       "\n",
       "    .dataframe thead th {\n",
       "        text-align: right;\n",
       "    }\n",
       "</style>\n",
       "<table border=\"1\" class=\"dataframe\">\n",
       "  <thead>\n",
       "    <tr style=\"text-align: right;\">\n",
       "      <th></th>\n",
       "      <th>Model</th>\n",
       "      <th>Sub-Model</th>\n",
       "      <th>Accuracy</th>\n",
       "      <th>AUC_ROC</th>\n",
       "      <th>Precision</th>\n",
       "      <th>Recall</th>\n",
       "      <th>AP</th>\n",
       "      <th>f1 score</th>\n",
       "    </tr>\n",
       "  </thead>\n",
       "  <tbody>\n",
       "    <tr>\n",
       "      <th>0</th>\n",
       "      <td>Logistic Regression</td>\n",
       "      <td>6x225</td>\n",
       "      <td>0.947465</td>\n",
       "      <td>0.511646</td>\n",
       "      <td>0.050096</td>\n",
       "      <td>0.050388</td>\n",
       "      <td>0.028711</td>\n",
       "      <td>0.050242</td>\n",
       "    </tr>\n",
       "  </tbody>\n",
       "</table>\n",
       "</div>"
      ],
      "text/plain": [
       "                 Model Sub-Model  Accuracy   AUC_ROC  Precision    Recall  \\\n",
       "0  Logistic Regression     6x225  0.947465  0.511646   0.050096  0.050388   \n",
       "\n",
       "         AP  f1 score  \n",
       "0  0.028711  0.050242  "
      ]
     },
     "execution_count": 8,
     "metadata": {},
     "output_type": "execute_result"
    }
   ],
   "source": [
    "results_df_lg = pd.DataFrame([['Logistic Regression', '6x225', *save_result(default_lg,X_test,y_test)]],\n",
    "                             columns=['Model', 'Sub-Model', 'Accuracy', 'AUC_ROC','Precision','Recall', 'AP', 'f1 score'])\n",
    "results_df_lg"
   ]
  },
  {
   "cell_type": "code",
   "execution_count": 56,
   "metadata": {},
   "outputs": [],
   "source": [
    "results_df_lg.to_csv('results/default_lg.csv')"
   ]
  },
  {
   "cell_type": "code",
   "execution_count": null,
   "metadata": {},
   "outputs": [],
   "source": []
  }
 ],
 "metadata": {
  "accelerator": "TPU",
  "colab": {
   "collapsed_sections": [
    "w2nMfJ_MM30c",
    "LbH3oq34M30f",
    "Inlpz-2fyRS-",
    "CQ2WRerRdX5E",
    "7_MflnfHQXCz",
    "qbDjSSIaoPmH",
    "um8esTkeoRAe"
   ],
   "gpuType": "V100",
   "machine_shape": "hm",
   "provenance": [
    {
     "file_id": "1qE3Zs_Ey6H0sAdFjsml-D7BwhPFeSlkd",
     "timestamp": 1689112394804
    }
   ],
   "toc_visible": true
  },
  "kernelspec": {
   "display_name": "Python 3 (ipykernel)",
   "language": "python",
   "name": "python3"
  },
  "language_info": {
   "codemirror_mode": {
    "name": "ipython",
    "version": 3
   },
   "file_extension": ".py",
   "mimetype": "text/x-python",
   "name": "python",
   "nbconvert_exporter": "python",
   "pygments_lexer": "ipython3",
   "version": "3.9.13"
  }
 },
 "nbformat": 4,
 "nbformat_minor": 1
}
