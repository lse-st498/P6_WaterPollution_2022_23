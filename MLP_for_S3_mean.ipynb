{
 "cells": [
  {
   "cell_type": "markdown",
   "metadata": {
    "id": "1vIrrlI5qYYy"
   },
   "source": [
    "# Multi-layer Perceptron Classifier for df_merged_mean_15x15_final"
   ]
  },
  {
   "cell_type": "markdown",
   "metadata": {
    "id": "0PdkYTz8R-8w"
   },
   "source": [
    "# Table of Contents<a class=\"anchor\" id=\"Contents\"></a>\n",
    "* [Load Packages](#Packages)\n",
    "* [Load Dataset](#Dataset)\n",
    "    * [Train Test Validation Split](#Train_Test_Validation_Split)\n",
    "* [Functions](#Functions)\n",
    "* [Multi-layer Perceptron Classifier](#MLP)\n",
    "    * [Run the Model](#Run_MLP)\n",
    "    * [ROC Curve and Precision-Recall Curve](#Curve_MLP)\n",
    "    * [Results](#Results_MLP)\n",
    "* [Multi-layer Perceptron Classifier with PCA](#PCA)\n",
    "* [Test data for different regions](#Regions)\n",
    "    "
   ]
  },
  {
   "cell_type": "markdown",
   "metadata": {
    "id": "7kYT-Av0M30Y"
   },
   "source": [
    "# Load Packages<a class=\"anchor\" id=\"Packages\"></a>"
   ]
  },
  {
   "cell_type": "code",
   "execution_count": 2,
   "metadata": {
    "id": "BswLk-JvM30a"
   },
   "outputs": [],
   "source": [
    "import matplotlib.pyplot as plt\n",
    "import pandas as pd\n",
    "import numpy as np\n",
    "from imblearn.over_sampling import RandomOverSampler\n",
    "from sklearn.ensemble import RandomForestClassifier\n",
    "from datetime import datetime\n",
    "import seaborn as sns\n",
    "from sklearn.decomposition import PCA\n",
    "from sklearn.preprocessing import MinMaxScaler, StandardScaler\n",
    "from sklearn.linear_model import LogisticRegression\n",
    "from sklearn.metrics import *\n",
    "from sklearn.metrics import RocCurveDisplay, auc, roc_auc_score, make_scorer, f1_score, precision_score, recall_score\n",
    "from sklearn.metrics import precision_recall_curve, accuracy_score, confusion_matrix, classification_report, roc_curve\n",
    "from sklearn.metrics import silhouette_score\n",
    "from keras.optimizers import Adam\n",
    "import random\n",
    "import csv\n",
    "import statistics\n",
    "from sklearn.neighbors import KNeighborsClassifier\n",
    "from sklearn.neural_network import MLPClassifier\n",
    "from sklearn.cluster import KMeans\n",
    "from sklearn.utils.class_weight import compute_class_weight\n",
    "from mlxtend.feature_selection import SequentialFeatureSelector\n",
    "from mlxtend.plotting import plot_sequential_feature_selection as plot_sfs"
   ]
  },
  {
   "cell_type": "code",
   "execution_count": 20,
   "metadata": {},
   "outputs": [],
   "source": [
    "from joblib import load\n",
    "\n",
    "best_mlp = load('best_model/best_mlp_mean.joblib')\n",
    "best_mlp_pc = load('best_model/best_mlp_mean_pc.joblib')"
   ]
  },
  {
   "cell_type": "markdown",
   "metadata": {
    "id": "dBWfdAkoR-81"
   },
   "source": [
    "* [Table of Contents](#Contents)"
   ]
  },
  {
   "cell_type": "markdown",
   "metadata": {
    "id": "EdehXrbzR-82"
   },
   "source": [
    "# Load Dataset<a class=\"anchor\" id=\"Dataset\"></a>"
   ]
  },
  {
   "cell_type": "code",
   "execution_count": 3,
   "metadata": {
    "colab": {
     "base_uri": "https://localhost:8080/",
     "height": 661
    },
    "id": "MDFmzLtXR-82",
    "outputId": "7198d76c-d52d-4b73-8512-1404e33716e9"
   },
   "outputs": [
    {
     "data": {
      "text/html": [
       "<div>\n",
       "<style scoped>\n",
       "    .dataframe tbody tr th:only-of-type {\n",
       "        vertical-align: middle;\n",
       "    }\n",
       "\n",
       "    .dataframe tbody tr th {\n",
       "        vertical-align: top;\n",
       "    }\n",
       "\n",
       "    .dataframe thead th {\n",
       "        text-align: right;\n",
       "    }\n",
       "</style>\n",
       "<table border=\"1\" class=\"dataframe\">\n",
       "  <thead>\n",
       "    <tr style=\"text-align: right;\">\n",
       "      <th></th>\n",
       "      <th>time</th>\n",
       "      <th>site</th>\n",
       "      <th>BBP_1x1_median</th>\n",
       "      <th>CDM_1x1_median</th>\n",
       "      <th>SPM_1x1_median</th>\n",
       "      <th>KD490_1x1_median</th>\n",
       "      <th>ZSD_1x1_median</th>\n",
       "      <th>CHL_1x1_median</th>\n",
       "      <th>BBP_1x1_mean</th>\n",
       "      <th>CDM_1x1_mean</th>\n",
       "      <th>...</th>\n",
       "      <th>KD490_15x15_q1</th>\n",
       "      <th>ZSD_15x15_q1</th>\n",
       "      <th>CHL_15x15_q1</th>\n",
       "      <th>BBP_15x15_q3</th>\n",
       "      <th>CDM_15x15_q3</th>\n",
       "      <th>SPM_15x15_q3</th>\n",
       "      <th>KD490_15x15_q3</th>\n",
       "      <th>ZSD_15x15_q3</th>\n",
       "      <th>CHL_15x15_q3</th>\n",
       "      <th>riskLevelLabel</th>\n",
       "    </tr>\n",
       "  </thead>\n",
       "  <tbody>\n",
       "    <tr>\n",
       "      <th>0</th>\n",
       "      <td>2020-01-22</td>\n",
       "      <td>ukd4305-43260</td>\n",
       "      <td>0.0</td>\n",
       "      <td>0.0</td>\n",
       "      <td>0.000000</td>\n",
       "      <td>0.000000</td>\n",
       "      <td>0.000000</td>\n",
       "      <td>0.000000</td>\n",
       "      <td>0.0</td>\n",
       "      <td>0.0</td>\n",
       "      <td>...</td>\n",
       "      <td>0.000000</td>\n",
       "      <td>0.000000</td>\n",
       "      <td>0.000000</td>\n",
       "      <td>0.0</td>\n",
       "      <td>0.0</td>\n",
       "      <td>0.000000</td>\n",
       "      <td>0.000000</td>\n",
       "      <td>0.000000</td>\n",
       "      <td>0.000000</td>\n",
       "      <td>1</td>\n",
       "    </tr>\n",
       "    <tr>\n",
       "      <th>1</th>\n",
       "      <td>2020-02-17</td>\n",
       "      <td>ukk3106-27200</td>\n",
       "      <td>0.0</td>\n",
       "      <td>0.0</td>\n",
       "      <td>0.000000</td>\n",
       "      <td>0.000000</td>\n",
       "      <td>0.000000</td>\n",
       "      <td>0.000000</td>\n",
       "      <td>0.0</td>\n",
       "      <td>0.0</td>\n",
       "      <td>...</td>\n",
       "      <td>0.000000</td>\n",
       "      <td>0.000000</td>\n",
       "      <td>0.000000</td>\n",
       "      <td>0.0</td>\n",
       "      <td>0.0</td>\n",
       "      <td>0.000000</td>\n",
       "      <td>0.000000</td>\n",
       "      <td>0.000000</td>\n",
       "      <td>0.000000</td>\n",
       "      <td>1</td>\n",
       "    </tr>\n",
       "    <tr>\n",
       "      <th>2</th>\n",
       "      <td>2020-02-29</td>\n",
       "      <td>ukk4304-34200</td>\n",
       "      <td>0.0</td>\n",
       "      <td>0.0</td>\n",
       "      <td>0.206118</td>\n",
       "      <td>0.173157</td>\n",
       "      <td>0.127656</td>\n",
       "      <td>0.066746</td>\n",
       "      <td>0.0</td>\n",
       "      <td>0.0</td>\n",
       "      <td>...</td>\n",
       "      <td>0.185487</td>\n",
       "      <td>0.127656</td>\n",
       "      <td>0.073864</td>\n",
       "      <td>0.0</td>\n",
       "      <td>0.0</td>\n",
       "      <td>0.206118</td>\n",
       "      <td>0.177503</td>\n",
       "      <td>0.127656</td>\n",
       "      <td>0.069289</td>\n",
       "      <td>1</td>\n",
       "    </tr>\n",
       "    <tr>\n",
       "      <th>3</th>\n",
       "      <td>2020-03-01</td>\n",
       "      <td>ukk4305-25400</td>\n",
       "      <td>0.0</td>\n",
       "      <td>0.0</td>\n",
       "      <td>0.097241</td>\n",
       "      <td>0.098771</td>\n",
       "      <td>0.247233</td>\n",
       "      <td>0.026437</td>\n",
       "      <td>0.0</td>\n",
       "      <td>0.0</td>\n",
       "      <td>...</td>\n",
       "      <td>0.105168</td>\n",
       "      <td>0.243885</td>\n",
       "      <td>0.028865</td>\n",
       "      <td>0.0</td>\n",
       "      <td>0.0</td>\n",
       "      <td>0.097241</td>\n",
       "      <td>0.101709</td>\n",
       "      <td>0.247233</td>\n",
       "      <td>0.027571</td>\n",
       "      <td>1</td>\n",
       "    </tr>\n",
       "    <tr>\n",
       "      <th>4</th>\n",
       "      <td>2020-03-12</td>\n",
       "      <td>uke1200-08100</td>\n",
       "      <td>0.0</td>\n",
       "      <td>0.0</td>\n",
       "      <td>0.163267</td>\n",
       "      <td>0.201963</td>\n",
       "      <td>0.107813</td>\n",
       "      <td>0.085368</td>\n",
       "      <td>0.0</td>\n",
       "      <td>0.0</td>\n",
       "      <td>...</td>\n",
       "      <td>0.216346</td>\n",
       "      <td>0.107813</td>\n",
       "      <td>0.094473</td>\n",
       "      <td>0.0</td>\n",
       "      <td>0.0</td>\n",
       "      <td>0.163267</td>\n",
       "      <td>0.207033</td>\n",
       "      <td>0.107813</td>\n",
       "      <td>0.088622</td>\n",
       "      <td>1</td>\n",
       "    </tr>\n",
       "    <tr>\n",
       "      <th>...</th>\n",
       "      <td>...</td>\n",
       "      <td>...</td>\n",
       "      <td>...</td>\n",
       "      <td>...</td>\n",
       "      <td>...</td>\n",
       "      <td>...</td>\n",
       "      <td>...</td>\n",
       "      <td>...</td>\n",
       "      <td>...</td>\n",
       "      <td>...</td>\n",
       "      <td>...</td>\n",
       "      <td>...</td>\n",
       "      <td>...</td>\n",
       "      <td>...</td>\n",
       "      <td>...</td>\n",
       "      <td>...</td>\n",
       "      <td>...</td>\n",
       "      <td>...</td>\n",
       "      <td>...</td>\n",
       "      <td>...</td>\n",
       "      <td>...</td>\n",
       "    </tr>\n",
       "    <tr>\n",
       "      <th>187106</th>\n",
       "      <td>2022-11-08</td>\n",
       "      <td>ukj3400-17700</td>\n",
       "      <td>0.0</td>\n",
       "      <td>0.0</td>\n",
       "      <td>0.000000</td>\n",
       "      <td>0.000000</td>\n",
       "      <td>0.000000</td>\n",
       "      <td>0.000000</td>\n",
       "      <td>0.0</td>\n",
       "      <td>0.0</td>\n",
       "      <td>...</td>\n",
       "      <td>0.000000</td>\n",
       "      <td>0.000000</td>\n",
       "      <td>0.000000</td>\n",
       "      <td>0.0</td>\n",
       "      <td>0.0</td>\n",
       "      <td>0.000000</td>\n",
       "      <td>0.000000</td>\n",
       "      <td>0.000000</td>\n",
       "      <td>0.000000</td>\n",
       "      <td>0</td>\n",
       "    </tr>\n",
       "    <tr>\n",
       "      <th>187107</th>\n",
       "      <td>2022-12-02</td>\n",
       "      <td>ukk3103-29500</td>\n",
       "      <td>0.0</td>\n",
       "      <td>0.0</td>\n",
       "      <td>0.029326</td>\n",
       "      <td>0.058402</td>\n",
       "      <td>0.482674</td>\n",
       "      <td>0.010515</td>\n",
       "      <td>0.0</td>\n",
       "      <td>0.0</td>\n",
       "      <td>...</td>\n",
       "      <td>0.062560</td>\n",
       "      <td>0.482674</td>\n",
       "      <td>0.011637</td>\n",
       "      <td>0.0</td>\n",
       "      <td>0.0</td>\n",
       "      <td>0.029326</td>\n",
       "      <td>0.059867</td>\n",
       "      <td>0.482674</td>\n",
       "      <td>0.010916</td>\n",
       "      <td>1</td>\n",
       "    </tr>\n",
       "    <tr>\n",
       "      <th>187108</th>\n",
       "      <td>2022-12-07</td>\n",
       "      <td>ukk3103-29100</td>\n",
       "      <td>0.0</td>\n",
       "      <td>0.0</td>\n",
       "      <td>0.022588</td>\n",
       "      <td>0.178036</td>\n",
       "      <td>0.150990</td>\n",
       "      <td>0.075031</td>\n",
       "      <td>0.0</td>\n",
       "      <td>0.0</td>\n",
       "      <td>...</td>\n",
       "      <td>0.156235</td>\n",
       "      <td>0.137526</td>\n",
       "      <td>0.055946</td>\n",
       "      <td>0.0</td>\n",
       "      <td>0.0</td>\n",
       "      <td>0.018829</td>\n",
       "      <td>0.182504</td>\n",
       "      <td>0.155471</td>\n",
       "      <td>0.077890</td>\n",
       "      <td>1</td>\n",
       "    </tr>\n",
       "    <tr>\n",
       "      <th>187109</th>\n",
       "      <td>2022-12-08</td>\n",
       "      <td>ukk3103-29100</td>\n",
       "      <td>0.0</td>\n",
       "      <td>0.0</td>\n",
       "      <td>0.017684</td>\n",
       "      <td>0.076698</td>\n",
       "      <td>0.330753</td>\n",
       "      <td>0.016954</td>\n",
       "      <td>0.0</td>\n",
       "      <td>0.0</td>\n",
       "      <td>...</td>\n",
       "      <td>0.081440</td>\n",
       "      <td>0.329495</td>\n",
       "      <td>0.018444</td>\n",
       "      <td>0.0</td>\n",
       "      <td>0.0</td>\n",
       "      <td>0.016590</td>\n",
       "      <td>0.078670</td>\n",
       "      <td>0.333127</td>\n",
       "      <td>0.017600</td>\n",
       "      <td>0</td>\n",
       "    </tr>\n",
       "    <tr>\n",
       "      <th>187110</th>\n",
       "      <td>2022-12-19</td>\n",
       "      <td>ukf3102-09600</td>\n",
       "      <td>0.0</td>\n",
       "      <td>0.0</td>\n",
       "      <td>0.000000</td>\n",
       "      <td>0.000000</td>\n",
       "      <td>0.000000</td>\n",
       "      <td>0.000000</td>\n",
       "      <td>0.0</td>\n",
       "      <td>0.0</td>\n",
       "      <td>...</td>\n",
       "      <td>0.000000</td>\n",
       "      <td>0.000000</td>\n",
       "      <td>0.000000</td>\n",
       "      <td>0.0</td>\n",
       "      <td>0.0</td>\n",
       "      <td>0.000000</td>\n",
       "      <td>0.000000</td>\n",
       "      <td>0.000000</td>\n",
       "      <td>0.000000</td>\n",
       "      <td>0</td>\n",
       "    </tr>\n",
       "  </tbody>\n",
       "</table>\n",
       "<p>187111 rows × 195 columns</p>\n",
       "</div>"
      ],
      "text/plain": [
       "              time           site  BBP_1x1_median  CDM_1x1_median  \\\n",
       "0       2020-01-22  ukd4305-43260             0.0             0.0   \n",
       "1       2020-02-17  ukk3106-27200             0.0             0.0   \n",
       "2       2020-02-29  ukk4304-34200             0.0             0.0   \n",
       "3       2020-03-01  ukk4305-25400             0.0             0.0   \n",
       "4       2020-03-12  uke1200-08100             0.0             0.0   \n",
       "...            ...            ...             ...             ...   \n",
       "187106  2022-11-08  ukj3400-17700             0.0             0.0   \n",
       "187107  2022-12-02  ukk3103-29500             0.0             0.0   \n",
       "187108  2022-12-07  ukk3103-29100             0.0             0.0   \n",
       "187109  2022-12-08  ukk3103-29100             0.0             0.0   \n",
       "187110  2022-12-19  ukf3102-09600             0.0             0.0   \n",
       "\n",
       "        SPM_1x1_median  KD490_1x1_median  ZSD_1x1_median  CHL_1x1_median  \\\n",
       "0             0.000000          0.000000        0.000000        0.000000   \n",
       "1             0.000000          0.000000        0.000000        0.000000   \n",
       "2             0.206118          0.173157        0.127656        0.066746   \n",
       "3             0.097241          0.098771        0.247233        0.026437   \n",
       "4             0.163267          0.201963        0.107813        0.085368   \n",
       "...                ...               ...             ...             ...   \n",
       "187106        0.000000          0.000000        0.000000        0.000000   \n",
       "187107        0.029326          0.058402        0.482674        0.010515   \n",
       "187108        0.022588          0.178036        0.150990        0.075031   \n",
       "187109        0.017684          0.076698        0.330753        0.016954   \n",
       "187110        0.000000          0.000000        0.000000        0.000000   \n",
       "\n",
       "        BBP_1x1_mean  CDM_1x1_mean  ...  KD490_15x15_q1  ZSD_15x15_q1  \\\n",
       "0                0.0           0.0  ...        0.000000      0.000000   \n",
       "1                0.0           0.0  ...        0.000000      0.000000   \n",
       "2                0.0           0.0  ...        0.185487      0.127656   \n",
       "3                0.0           0.0  ...        0.105168      0.243885   \n",
       "4                0.0           0.0  ...        0.216346      0.107813   \n",
       "...              ...           ...  ...             ...           ...   \n",
       "187106           0.0           0.0  ...        0.000000      0.000000   \n",
       "187107           0.0           0.0  ...        0.062560      0.482674   \n",
       "187108           0.0           0.0  ...        0.156235      0.137526   \n",
       "187109           0.0           0.0  ...        0.081440      0.329495   \n",
       "187110           0.0           0.0  ...        0.000000      0.000000   \n",
       "\n",
       "        CHL_15x15_q1  BBP_15x15_q3  CDM_15x15_q3  SPM_15x15_q3  \\\n",
       "0           0.000000           0.0           0.0      0.000000   \n",
       "1           0.000000           0.0           0.0      0.000000   \n",
       "2           0.073864           0.0           0.0      0.206118   \n",
       "3           0.028865           0.0           0.0      0.097241   \n",
       "4           0.094473           0.0           0.0      0.163267   \n",
       "...              ...           ...           ...           ...   \n",
       "187106      0.000000           0.0           0.0      0.000000   \n",
       "187107      0.011637           0.0           0.0      0.029326   \n",
       "187108      0.055946           0.0           0.0      0.018829   \n",
       "187109      0.018444           0.0           0.0      0.016590   \n",
       "187110      0.000000           0.0           0.0      0.000000   \n",
       "\n",
       "        KD490_15x15_q3  ZSD_15x15_q3  CHL_15x15_q3  riskLevelLabel  \n",
       "0             0.000000      0.000000      0.000000               1  \n",
       "1             0.000000      0.000000      0.000000               1  \n",
       "2             0.177503      0.127656      0.069289               1  \n",
       "3             0.101709      0.247233      0.027571               1  \n",
       "4             0.207033      0.107813      0.088622               1  \n",
       "...                ...           ...           ...             ...  \n",
       "187106        0.000000      0.000000      0.000000               0  \n",
       "187107        0.059867      0.482674      0.010916               1  \n",
       "187108        0.182504      0.155471      0.077890               1  \n",
       "187109        0.078670      0.333127      0.017600               0  \n",
       "187110        0.000000      0.000000      0.000000               0  \n",
       "\n",
       "[187111 rows x 195 columns]"
      ]
     },
     "execution_count": 3,
     "metadata": {},
     "output_type": "execute_result"
    }
   ],
   "source": [
    "df_merged_mean_15x15 = pd.read_csv('data/df_merged_mean_15x15_final.csv')\n",
    "df_merged_mean_15x15"
   ]
  },
  {
   "cell_type": "code",
   "execution_count": 4,
   "metadata": {
    "colab": {
     "base_uri": "https://localhost:8080/"
    },
    "id": "zVAeD2FyR-84",
    "outputId": "ed12fdf6-0720-48a0-a15e-038ce39f785d"
   },
   "outputs": [
    {
     "data": {
      "text/plain": [
       "0    0.971797\n",
       "1    0.028203\n",
       "Name: riskLevelLabel, dtype: float64"
      ]
     },
     "execution_count": 4,
     "metadata": {},
     "output_type": "execute_result"
    }
   ],
   "source": [
    "counts_normalized = df_merged_mean_15x15['riskLevelLabel'].value_counts(normalize=True)\n",
    "counts_normalized"
   ]
  },
  {
   "cell_type": "markdown",
   "metadata": {
    "id": "k5Rh25eDM30d"
   },
   "source": [
    "## Train Test Validation Split<a class=\"anchor\" id=\"Train_Test_Validation_Split\"></a>"
   ]
  },
  {
   "cell_type": "code",
   "execution_count": 5,
   "metadata": {
    "colab": {
     "base_uri": "https://localhost:8080/",
     "height": 424
    },
    "id": "YkZzKDtAmGvQ",
    "outputId": "de1db132-9831-4e98-fb1a-43996699b62a"
   },
   "outputs": [
    {
     "data": {
      "text/html": [
       "<div>\n",
       "<style scoped>\n",
       "    .dataframe tbody tr th:only-of-type {\n",
       "        vertical-align: middle;\n",
       "    }\n",
       "\n",
       "    .dataframe tbody tr th {\n",
       "        vertical-align: top;\n",
       "    }\n",
       "\n",
       "    .dataframe thead th {\n",
       "        text-align: right;\n",
       "    }\n",
       "</style>\n",
       "<table border=\"1\" class=\"dataframe\">\n",
       "  <thead>\n",
       "    <tr style=\"text-align: right;\">\n",
       "      <th></th>\n",
       "      <th>time</th>\n",
       "      <th>site</th>\n",
       "    </tr>\n",
       "  </thead>\n",
       "  <tbody>\n",
       "    <tr>\n",
       "      <th>0</th>\n",
       "      <td>2021-05-25</td>\n",
       "      <td>ukk4305-25800</td>\n",
       "    </tr>\n",
       "    <tr>\n",
       "      <th>1</th>\n",
       "      <td>2022-07-04</td>\n",
       "      <td>ukk4305-25800</td>\n",
       "    </tr>\n",
       "    <tr>\n",
       "      <th>2</th>\n",
       "      <td>2022-08-08</td>\n",
       "      <td>ukk3105-31450</td>\n",
       "    </tr>\n",
       "    <tr>\n",
       "      <th>3</th>\n",
       "      <td>2022-08-27</td>\n",
       "      <td>ukk2206-20800</td>\n",
       "    </tr>\n",
       "    <tr>\n",
       "      <th>4</th>\n",
       "      <td>2020-06-08</td>\n",
       "      <td>uke1301-09020</td>\n",
       "    </tr>\n",
       "    <tr>\n",
       "      <th>...</th>\n",
       "      <td>...</td>\n",
       "      <td>...</td>\n",
       "    </tr>\n",
       "    <tr>\n",
       "      <th>112261</th>\n",
       "      <td>2021-07-19</td>\n",
       "      <td>ukj4210-12660</td>\n",
       "    </tr>\n",
       "    <tr>\n",
       "      <th>112262</th>\n",
       "      <td>2021-05-10</td>\n",
       "      <td>ukk4200-23200</td>\n",
       "    </tr>\n",
       "    <tr>\n",
       "      <th>112263</th>\n",
       "      <td>2020-08-10</td>\n",
       "      <td>ukk3104-33500</td>\n",
       "    </tr>\n",
       "    <tr>\n",
       "      <th>112264</th>\n",
       "      <td>2021-09-08</td>\n",
       "      <td>ukk1202-35700</td>\n",
       "    </tr>\n",
       "    <tr>\n",
       "      <th>112265</th>\n",
       "      <td>2020-08-09</td>\n",
       "      <td>ukk3101-27000</td>\n",
       "    </tr>\n",
       "  </tbody>\n",
       "</table>\n",
       "<p>112266 rows × 2 columns</p>\n",
       "</div>"
      ],
      "text/plain": [
       "              time           site\n",
       "0       2021-05-25  ukk4305-25800\n",
       "1       2022-07-04  ukk4305-25800\n",
       "2       2022-08-08  ukk3105-31450\n",
       "3       2022-08-27  ukk2206-20800\n",
       "4       2020-06-08  uke1301-09020\n",
       "...            ...            ...\n",
       "112261  2021-07-19  ukj4210-12660\n",
       "112262  2021-05-10  ukk4200-23200\n",
       "112263  2020-08-10  ukk3104-33500\n",
       "112264  2021-09-08  ukk1202-35700\n",
       "112265  2020-08-09  ukk3101-27000\n",
       "\n",
       "[112266 rows x 2 columns]"
      ]
     },
     "execution_count": 5,
     "metadata": {},
     "output_type": "execute_result"
    }
   ],
   "source": [
    "train_labels_mean_zero = pd.read_csv('data/train_labels_mean_zero.csv')[['time', 'site']]\n",
    "train_labels_mean_zero"
   ]
  },
  {
   "cell_type": "code",
   "execution_count": 6,
   "metadata": {
    "colab": {
     "base_uri": "https://localhost:8080/",
     "height": 424
    },
    "id": "Uo8Sc3h2nscN",
    "outputId": "bc6bb807-d97c-471a-80ad-d7c5ae49a54d"
   },
   "outputs": [
    {
     "data": {
      "text/html": [
       "<div>\n",
       "<style scoped>\n",
       "    .dataframe tbody tr th:only-of-type {\n",
       "        vertical-align: middle;\n",
       "    }\n",
       "\n",
       "    .dataframe tbody tr th {\n",
       "        vertical-align: top;\n",
       "    }\n",
       "\n",
       "    .dataframe thead th {\n",
       "        text-align: right;\n",
       "    }\n",
       "</style>\n",
       "<table border=\"1\" class=\"dataframe\">\n",
       "  <thead>\n",
       "    <tr style=\"text-align: right;\">\n",
       "      <th></th>\n",
       "      <th>time</th>\n",
       "      <th>site</th>\n",
       "    </tr>\n",
       "  </thead>\n",
       "  <tbody>\n",
       "    <tr>\n",
       "      <th>0</th>\n",
       "      <td>2020-07-02</td>\n",
       "      <td>ukj3400-17400</td>\n",
       "    </tr>\n",
       "    <tr>\n",
       "      <th>1</th>\n",
       "      <td>2022-08-27</td>\n",
       "      <td>ukk3106-32200</td>\n",
       "    </tr>\n",
       "    <tr>\n",
       "      <th>2</th>\n",
       "      <td>2021-05-06</td>\n",
       "      <td>ukk4307-33900</td>\n",
       "    </tr>\n",
       "    <tr>\n",
       "      <th>3</th>\n",
       "      <td>2021-05-20</td>\n",
       "      <td>ukk4304-34100</td>\n",
       "    </tr>\n",
       "    <tr>\n",
       "      <th>4</th>\n",
       "      <td>2021-06-04</td>\n",
       "      <td>ukk3104-33200</td>\n",
       "    </tr>\n",
       "    <tr>\n",
       "      <th>...</th>\n",
       "      <td>...</td>\n",
       "      <td>...</td>\n",
       "    </tr>\n",
       "    <tr>\n",
       "      <th>37417</th>\n",
       "      <td>2021-07-28</td>\n",
       "      <td>ukk3103-29800</td>\n",
       "    </tr>\n",
       "    <tr>\n",
       "      <th>37418</th>\n",
       "      <td>2021-05-02</td>\n",
       "      <td>uke2206-07200</td>\n",
       "    </tr>\n",
       "    <tr>\n",
       "      <th>37419</th>\n",
       "      <td>2022-09-08</td>\n",
       "      <td>ukk4301-21800</td>\n",
       "    </tr>\n",
       "    <tr>\n",
       "      <th>37420</th>\n",
       "      <td>2021-07-18</td>\n",
       "      <td>ukj2403-15900</td>\n",
       "    </tr>\n",
       "    <tr>\n",
       "      <th>37421</th>\n",
       "      <td>2021-05-13</td>\n",
       "      <td>ukj4210-12700</td>\n",
       "    </tr>\n",
       "  </tbody>\n",
       "</table>\n",
       "<p>37422 rows × 2 columns</p>\n",
       "</div>"
      ],
      "text/plain": [
       "             time           site\n",
       "0      2020-07-02  ukj3400-17400\n",
       "1      2022-08-27  ukk3106-32200\n",
       "2      2021-05-06  ukk4307-33900\n",
       "3      2021-05-20  ukk4304-34100\n",
       "4      2021-06-04  ukk3104-33200\n",
       "...           ...            ...\n",
       "37417  2021-07-28  ukk3103-29800\n",
       "37418  2021-05-02  uke2206-07200\n",
       "37419  2022-09-08  ukk4301-21800\n",
       "37420  2021-07-18  ukj2403-15900\n",
       "37421  2021-05-13  ukj4210-12700\n",
       "\n",
       "[37422 rows x 2 columns]"
      ]
     },
     "execution_count": 6,
     "metadata": {},
     "output_type": "execute_result"
    }
   ],
   "source": [
    "validation_labels_mean_zero = pd.read_csv('data/validation_labels_mean_zero.csv')[['time', 'site']]\n",
    "validation_labels_mean_zero"
   ]
  },
  {
   "cell_type": "code",
   "execution_count": 7,
   "metadata": {
    "colab": {
     "base_uri": "https://localhost:8080/",
     "height": 424
    },
    "id": "DRV_K0ARoBtQ",
    "outputId": "7000009c-b430-4cb6-8fcb-02bd775ffd9e"
   },
   "outputs": [
    {
     "data": {
      "text/html": [
       "<div>\n",
       "<style scoped>\n",
       "    .dataframe tbody tr th:only-of-type {\n",
       "        vertical-align: middle;\n",
       "    }\n",
       "\n",
       "    .dataframe tbody tr th {\n",
       "        vertical-align: top;\n",
       "    }\n",
       "\n",
       "    .dataframe thead th {\n",
       "        text-align: right;\n",
       "    }\n",
       "</style>\n",
       "<table border=\"1\" class=\"dataframe\">\n",
       "  <thead>\n",
       "    <tr style=\"text-align: right;\">\n",
       "      <th></th>\n",
       "      <th>time</th>\n",
       "      <th>site</th>\n",
       "    </tr>\n",
       "  </thead>\n",
       "  <tbody>\n",
       "    <tr>\n",
       "      <th>0</th>\n",
       "      <td>2022-09-21</td>\n",
       "      <td>ukk3106-32100</td>\n",
       "    </tr>\n",
       "    <tr>\n",
       "      <th>1</th>\n",
       "      <td>2020-08-08</td>\n",
       "      <td>ukh1407-10750</td>\n",
       "    </tr>\n",
       "    <tr>\n",
       "      <th>2</th>\n",
       "      <td>2020-09-20</td>\n",
       "      <td>ukd4200-42100</td>\n",
       "    </tr>\n",
       "    <tr>\n",
       "      <th>3</th>\n",
       "      <td>2022-07-06</td>\n",
       "      <td>ukk2206-20900</td>\n",
       "    </tr>\n",
       "    <tr>\n",
       "      <th>4</th>\n",
       "      <td>2021-08-24</td>\n",
       "      <td>ukk4305-26100</td>\n",
       "    </tr>\n",
       "    <tr>\n",
       "      <th>...</th>\n",
       "      <td>...</td>\n",
       "      <td>...</td>\n",
       "    </tr>\n",
       "    <tr>\n",
       "      <th>37418</th>\n",
       "      <td>2021-09-22</td>\n",
       "      <td>ukj2402-15680</td>\n",
       "    </tr>\n",
       "    <tr>\n",
       "      <th>37419</th>\n",
       "      <td>2021-08-14</td>\n",
       "      <td>ukk3104-33500</td>\n",
       "    </tr>\n",
       "    <tr>\n",
       "      <th>37420</th>\n",
       "      <td>2022-05-20</td>\n",
       "      <td>ukk4305-25600</td>\n",
       "    </tr>\n",
       "    <tr>\n",
       "      <th>37421</th>\n",
       "      <td>2022-06-25</td>\n",
       "      <td>ukj3400-18000</td>\n",
       "    </tr>\n",
       "    <tr>\n",
       "      <th>37422</th>\n",
       "      <td>2021-09-27</td>\n",
       "      <td>ukj2201-14500</td>\n",
       "    </tr>\n",
       "  </tbody>\n",
       "</table>\n",
       "<p>37423 rows × 2 columns</p>\n",
       "</div>"
      ],
      "text/plain": [
       "             time           site\n",
       "0      2022-09-21  ukk3106-32100\n",
       "1      2020-08-08  ukh1407-10750\n",
       "2      2020-09-20  ukd4200-42100\n",
       "3      2022-07-06  ukk2206-20900\n",
       "4      2021-08-24  ukk4305-26100\n",
       "...           ...            ...\n",
       "37418  2021-09-22  ukj2402-15680\n",
       "37419  2021-08-14  ukk3104-33500\n",
       "37420  2022-05-20  ukk4305-25600\n",
       "37421  2022-06-25  ukj3400-18000\n",
       "37422  2021-09-27  ukj2201-14500\n",
       "\n",
       "[37423 rows x 2 columns]"
      ]
     },
     "execution_count": 7,
     "metadata": {},
     "output_type": "execute_result"
    }
   ],
   "source": [
    "test_labels_mean_zero = pd.read_csv('data/test_labels_mean_zero.csv')[['time', 'site']]\n",
    "test_labels_mean_zero"
   ]
  },
  {
   "cell_type": "code",
   "execution_count": 8,
   "metadata": {
    "colab": {
     "base_uri": "https://localhost:8080/"
    },
    "id": "baDBY2Z7R-88",
    "outputId": "9441ddd7-96f3-4aaa-b63f-78588aeb3624"
   },
   "outputs": [
    {
     "name": "stdout",
     "output_type": "stream",
     "text": [
      "Training X Shape: (112266, 192)\n",
      "Training y Shape: (112266,)\n",
      "Validation X Shape: (37422, 192)\n",
      "Validation y Shape: (37422,)\n",
      "Testing X Shape: (37423, 192)\n",
      "Testing y Shape: (37423,)\n"
     ]
    }
   ],
   "source": [
    "# Train test validation split\n",
    "df_train = df_merged_mean_15x15.merge(train_labels_mean_zero, on=['time', 'site'], how='inner')\n",
    "df_val = df_merged_mean_15x15.merge(validation_labels_mean_zero, on=['time', 'site'], how='inner')\n",
    "df_test = df_merged_mean_15x15.merge(test_labels_mean_zero, on=['time', 'site'], how='inner')\n",
    "\n",
    "df_train.drop(['time', 'site'], axis=1, inplace=True)\n",
    "df_val.drop(['time', 'site'], axis=1, inplace=True)\n",
    "df_test.drop(['time', 'site'], axis=1, inplace=True)\n",
    "\n",
    "y_train = df_train.pop('riskLevelLabel')\n",
    "y_val = df_val.pop('riskLevelLabel')\n",
    "y_test = df_test.pop('riskLevelLabel')\n",
    "\n",
    "X_train = df_train\n",
    "X_val = df_val\n",
    "X_test = df_test\n",
    "\n",
    "print('Training X Shape:', X_train.shape)\n",
    "print('Training y Shape:', y_train.shape)\n",
    "print('Validation X Shape:', X_val.shape)\n",
    "print('Validation y Shape:', y_val.shape)\n",
    "print('Testing X Shape:', X_test.shape)\n",
    "print('Testing y Shape:', y_test.shape)"
   ]
  },
  {
   "cell_type": "markdown",
   "metadata": {
    "id": "f8AggCTTR-8-"
   },
   "source": [
    "* [Table of Contents](#Contents)"
   ]
  },
  {
   "cell_type": "markdown",
   "metadata": {
    "id": "Tsbgkearbonv"
   },
   "source": [
    "# Functions<a class=\"anchor\" id=\"Functions\"></a>"
   ]
  },
  {
   "cell_type": "code",
   "execution_count": 32,
   "metadata": {
    "id": "KhJmdCTzR-9B"
   },
   "outputs": [],
   "source": [
    "def pr_curve(model, X_test, y_test):\n",
    "    y_pred = model.predict(X_test)\n",
    "    precision, recall, _ = precision_recall_curve(y_test, y_pred)\n",
    "    prc_auc = auc(recall, precision)\n",
    "    fig, ax = plt.subplots()\n",
    "    ax.plot(recall, precision, label='Precision recall curve (area = %0.2f)' % prc_auc)\n",
    "    ax.axhline(y=counts_normalized[1], color='gray', linestyle='--', label='baseline')\n",
    "    ax.set_xlim([0.0, 1.0])\n",
    "    ax.set_ylim([0.0, 1.05])\n",
    "    ax.set_xlabel('Recall')\n",
    "    ax.set_ylabel('Precision')\n",
    "    ax.set_title('Precision-Recall Curve')\n",
    "    ax.legend(loc=\"lower right\")\n",
    "    plt.show()\n",
    "    return fig"
   ]
  },
  {
   "cell_type": "code",
   "execution_count": 33,
   "metadata": {
    "id": "xn-_2r0cR-9B"
   },
   "outputs": [],
   "source": [
    "def draw_roc(model, X_test, y_test):\n",
    "    y_pred = model.predict(X_test)\n",
    "    fpr, tpr, thresholds = roc_curve(y_test, y_pred)\n",
    "    roc_auc = auc(fpr, tpr)\n",
    "    fig, ax = plt.subplots()\n",
    "    ax.plot(fpr, tpr, label='ROC curve (area = %0.2f)' % roc_auc)\n",
    "    ax.plot([0, 1], [0, 1], 'k--')\n",
    "    ax.set_xlim([0.0, 1.0])\n",
    "    ax.set_ylim([0.0, 1.05])\n",
    "    ax.set_xlabel('False Positive Rate')\n",
    "    ax.set_ylabel('True Positive Rate')\n",
    "    ax.set_title('Receiver Operating Curve')\n",
    "    ax.legend(loc=\"lower right\")\n",
    "    plt.show()\n",
    "    return fig"
   ]
  },
  {
   "cell_type": "code",
   "execution_count": 49,
   "metadata": {
    "id": "z5apiGDHcQ8c"
   },
   "outputs": [],
   "source": [
    "def test_evaluation(model,X_test,y_test):\n",
    "    y_pred = model.predict(X_test)\n",
    "    print(str(model),\"\\nOn test data, Accuracy: %.2f\" % accuracy_score(y_test, y_pred))\n",
    "    print(\"On test data, Precision: %.2f\" %precision_score(y_test, y_pred))\n",
    "    print(\"On test data, Recall: %.2f\" %recall_score(y_test, y_pred))\n",
    "    print(\"On test data, f1 score: %.2f \"%f1_score(y_test, y_pred))\n",
    "    cm = ConfusionMatrixDisplay.from_estimator(model, X_test, y_test)\n",
    "    cm.plot\n",
    "    plt.savefig('results/CM_mean_15x15_mlp_PCA.png')"
   ]
  },
  {
   "cell_type": "code",
   "execution_count": 22,
   "metadata": {
    "id": "wRzZ899lR-9D"
   },
   "outputs": [],
   "source": [
    "def save_result(model,X_test,y_test):\n",
    "    y_pred = model.predict(X_test)\n",
    "    ACC = accuracy_score(y_test, y_pred)\n",
    "    fpr, tpr, _ = roc_curve(y_test, y_pred)\n",
    "    AUC_ROC = auc(fpr, tpr)\n",
    "    PRE = precision_score(y_test, y_pred)\n",
    "    REC = recall_score(y_test, y_pred)\n",
    "    precision, recall, _ = precision_recall_curve(y_test, y_pred)\n",
    "    AUC_PRC = auc(recall, precision)\n",
    "    F1 = f1_score(y_test, y_pred)\n",
    "    return ACC, AUC_ROC, PRE, REC, AUC_PRC, F1"
   ]
  },
  {
   "cell_type": "markdown",
   "metadata": {
    "id": "UYAUg6fBR-9E"
   },
   "source": [
    "* [Table of Contents](#Contents)"
   ]
  },
  {
   "cell_type": "markdown",
   "metadata": {
    "id": "Xz-BWzX2R-9E"
   },
   "source": [
    "# Multi-layer Perceptron Classifier<a class=\"anchor\" id=\"MLP\"></a>"
   ]
  },
  {
   "cell_type": "markdown",
   "metadata": {
    "id": "wS3iYZuiR-9F"
   },
   "source": [
    "## Hyperparameter tuning function"
   ]
  },
  {
   "cell_type": "code",
   "execution_count": null,
   "metadata": {
    "id": "2Vg71mpQR-9F"
   },
   "outputs": [],
   "source": [
    "def mlp_model(X_train, y_train, X_val, y_val):\n",
    "    # Apply Random Oversampling\n",
    "    ros = RandomOverSampler()\n",
    "    X_train_oversampled, y_train_oversampled = ros.fit_resample(X_train, y_train)\n",
    "\n",
    "#     params = {'hidden_layer_sizes': [(200,400,200,100), (300,600,300,150), (300, 600, 300), (400,800,400,200)],\n",
    "#               'activation': ['logistic', 'relu'],\n",
    "#               'alpha': [0.00001, 0.0001, 0.001]\n",
    "#              }\n",
    "    params = {'hidden_layer_sizes': [(200,400,200), (400,800,400,200)],\n",
    "              'activation': ['logistic', 'relu'],\n",
    "              'learning_rate': ['adaptive'],\n",
    "              'alpha': [0.0001, 0.001, 0.01],\n",
    "              'solver': ['adam', 'sgd']\n",
    "             }\n",
    "\n",
    "\n",
    "    best_f1 = 0\n",
    "    best_params = {}\n",
    "    for hidden_layer_sizes in params['hidden_layer_sizes']:\n",
    "        for activation in params['activation']:\n",
    "            for learning_rate in params['learning_rate']:\n",
    "                for alpha in params['alpha']:\n",
    "                    for solver in params['solver']:\n",
    "                        mlp_model = MLPClassifier(hidden_layer_sizes=hidden_layer_sizes,\n",
    "                                                 activation=activation,\n",
    "                                                 learning_rate=learning_rate,\n",
    "                                                 alpha=alpha,\n",
    "                                                 solver=solver,\n",
    "                                                 batch_size=1000,\n",
    "                                                 random_state=100,\n",
    "                                                 max_iter=500)\n",
    "                        temp_model = mlp_model.fit(X_train_oversampled, y_train_oversampled)\n",
    "                        y_val_pred = mlp_model.predict(X_val)\n",
    "                        f1 = f1_score(y_val, y_val_pred)\n",
    "\n",
    "                        if f1 > best_f1:\n",
    "                            best_f1 = f1\n",
    "                            best_params = {'hidden_layer_sizes': hidden_layer_sizes, 'activation': activation,\n",
    "                                           'learning_rate': learning_rate, 'alpha': alpha, 'solver': solver}\n",
    "                            best_mlp = temp_model\n",
    "\n",
    "    print('Best Hyperparameters:', best_params)\n",
    "    return best_mlp"
   ]
  },
  {
   "cell_type": "markdown",
   "metadata": {
    "id": "JlpsYRrqR-9F"
   },
   "source": [
    "## Run the Model<a class=\"anchor\" id=\"Run_MLP\"></a>"
   ]
  },
  {
   "cell_type": "markdown",
   "metadata": {
    "id": "ahT2GSfwR-9F"
   },
   "source": [
    "### Select the best hyperparameter on validation data"
   ]
  },
  {
   "cell_type": "code",
   "execution_count": 24,
   "metadata": {},
   "outputs": [
    {
     "name": "stdout",
     "output_type": "stream",
     "text": [
      "Best Hyperparameters: {'hidden_layer_sizes': (400, 800, 400, 200), 'activation': 'relu', 'learning_rate': 'adaptive', 'alpha': 0.0001, 'solver': 'adam'}\n"
     ]
    }
   ],
   "source": [
    "best_mlp = mlp_model(X_train, y_train, X_val, y_val)"
   ]
  },
  {
   "cell_type": "markdown",
   "metadata": {
    "id": "AsjxMZxTR-9H"
   },
   "source": [
    "## ROC Curve and Precision-Recall Curve<a class=\"anchor\" id=\"Curve_MLP\"></a>"
   ]
  },
  {
   "cell_type": "markdown",
   "metadata": {
    "id": "0Gp-bfUVR-9I"
   },
   "source": [
    "### ROC Curve"
   ]
  },
  {
   "cell_type": "code",
   "execution_count": 36,
   "metadata": {
    "colab": {
     "base_uri": "https://localhost:8080/",
     "height": 472
    },
    "id": "cdTapmjFR-9I",
    "outputId": "046f4517-a18c-42c1-bd03-ba40f46ae88f"
   },
   "outputs": [
    {
     "data": {
      "image/png": "[encoded data removed]",
      "text/plain": [
       "<Figure size 640x480 with 1 Axes>"
      ]
     },
     "metadata": {},
     "output_type": "display_data"
    }
   ],
   "source": [
    "roc_mlp = draw_roc(best_mlp, X_test, y_test)"
   ]
  },
  {
   "cell_type": "code",
   "execution_count": 37,
   "metadata": {
    "id": "-C7sR4CKR-9I"
   },
   "outputs": [],
   "source": [
    "roc_mlp.savefig('results/ROC_mean_15x15_mlp.png')"
   ]
  },
  {
   "cell_type": "markdown",
   "metadata": {
    "id": "uB10rAq9R-9I"
   },
   "source": [
    "### Precision-Recall Curve"
   ]
  },
  {
   "cell_type": "code",
   "execution_count": 38,
   "metadata": {
    "colab": {
     "base_uri": "https://localhost:8080/",
     "height": 472
    },
    "id": "Bl7Vo_lQR-9I",
    "outputId": "74851590-0bda-4b3a-c53a-15af24c1b354"
   },
   "outputs": [
    {
     "data": {
      "image/png": "[encoded data removed]",
      "text/plain": [
       "<Figure size 640x480 with 1 Axes>"
      ]
     },
     "metadata": {},
     "output_type": "display_data"
    }
   ],
   "source": [
    "prc_mlp = pr_curve(best_mlp, X_test, y_test)"
   ]
  },
  {
   "cell_type": "code",
   "execution_count": 39,
   "metadata": {
    "id": "wFcnACvER-9N"
   },
   "outputs": [],
   "source": [
    "prc_mlp.savefig('results/PRC_mean_15x15_mlp.png')"
   ]
  },
  {
   "cell_type": "markdown",
   "metadata": {
    "id": "wbVROUsJR-9O"
   },
   "source": [
    "## Results<a class=\"anchor\" id=\"Results_MLP\"></a>"
   ]
  },
  {
   "cell_type": "code",
   "execution_count": 40,
   "metadata": {
    "colab": {
     "base_uri": "https://localhost:8080/",
     "height": 553
    },
    "id": "RDGxXy2VR-9O",
    "outputId": "b3d91332-4832-43ad-80e8-e47b74d1fdb7"
   },
   "outputs": [
    {
     "name": "stdout",
     "output_type": "stream",
     "text": [
      "MLPClassifier(batch_size=1000, hidden_layer_sizes=(400, 800, 400, 200),\n",
      "              learning_rate='adaptive', max_iter=1000, random_state=100,\n",
      "              solver='sgd') \n",
      "On test data, Accuracy: 0.52\n",
      "On test data, Precision: 0.04\n",
      "On test data, Recall: 0.72\n",
      "On test data, f1 score: 0.08 \n"
     ]
    },
    {
     "data": {
      "image/png": "[encoded data removed]",
      "text/plain": [
       "<Figure size 640x480 with 2 Axes>"
      ]
     },
     "metadata": {},
     "output_type": "display_data"
    }
   ],
   "source": [
    "test_evaluation(best_mlp, X_test, y_test)"
   ]
  },
  {
   "cell_type": "code",
   "execution_count": 41,
   "metadata": {
    "colab": {
     "base_uri": "https://localhost:8080/",
     "height": 81
    },
    "id": "dSAwYLljR-9O",
    "outputId": "d4c7b763-0ca8-4a91-fab9-e0d2033d4716"
   },
   "outputs": [
    {
     "data": {
      "text/html": [
       "<div>\n",
       "<style scoped>\n",
       "    .dataframe tbody tr th:only-of-type {\n",
       "        vertical-align: middle;\n",
       "    }\n",
       "\n",
       "    .dataframe tbody tr th {\n",
       "        vertical-align: top;\n",
       "    }\n",
       "\n",
       "    .dataframe thead th {\n",
       "        text-align: right;\n",
       "    }\n",
       "</style>\n",
       "<table border=\"1\" class=\"dataframe\">\n",
       "  <thead>\n",
       "    <tr style=\"text-align: right;\">\n",
       "      <th></th>\n",
       "      <th>Model</th>\n",
       "      <th>Sub-Model</th>\n",
       "      <th>Accuracy</th>\n",
       "      <th>AUC_ROC</th>\n",
       "      <th>Precision</th>\n",
       "      <th>Recall</th>\n",
       "      <th>AUC_PRC</th>\n",
       "      <th>f1 score</th>\n",
       "    </tr>\n",
       "  </thead>\n",
       "  <tbody>\n",
       "    <tr>\n",
       "      <th>0</th>\n",
       "      <td>Multi-layer Perceptron Classifier</td>\n",
       "      <td>df_merged_mean_15x15</td>\n",
       "      <td>0.520669</td>\n",
       "      <td>0.618431</td>\n",
       "      <td>0.040498</td>\n",
       "      <td>0.721899</td>\n",
       "      <td>0.385033</td>\n",
       "      <td>0.076693</td>\n",
       "    </tr>\n",
       "  </tbody>\n",
       "</table>\n",
       "</div>"
      ],
      "text/plain": [
       "                               Model             Sub-Model  Accuracy  \\\n",
       "0  Multi-layer Perceptron Classifier  df_merged_mean_15x15  0.520669   \n",
       "\n",
       "    AUC_ROC  Precision    Recall   AUC_PRC  f1 score  \n",
       "0  0.618431   0.040498  0.721899  0.385033  0.076693  "
      ]
     },
     "execution_count": 41,
     "metadata": {},
     "output_type": "execute_result"
    }
   ],
   "source": [
    "results_df_mlp = pd.DataFrame([['Multi-layer Perceptron Classifier', 'df_merged_mean_15x15', *save_result(best_mlp,X_test,y_test)]],\n",
    "                             columns=['Model', 'Sub-Model', 'Accuracy', 'AUC_ROC','Precision','Recall', 'AUC_PRC', 'f1 score'])\n",
    "results_df_mlp"
   ]
  },
  {
   "cell_type": "code",
   "execution_count": 42,
   "metadata": {
    "id": "MiLWWfyeR-9P"
   },
   "outputs": [],
   "source": [
    "results_df_mlp.to_csv('results/results_mean_15x15_mlp.csv')"
   ]
  },
  {
   "cell_type": "markdown",
   "metadata": {
    "id": "bfRrWpVLR-9P"
   },
   "source": [
    "* [Table of Contents](#Contents)"
   ]
  },
  {
   "cell_type": "markdown",
   "metadata": {
    "id": "6DlgfM6ipMYD"
   },
   "source": [
    "# Multi-layer Perceptron Classifier with PCA<a class=\"anchor\" id=\"PCA\"></a>"
   ]
  },
  {
   "cell_type": "code",
   "execution_count": 32,
   "metadata": {
    "colab": {
     "base_uri": "https://localhost:8080/"
    },
    "id": "5A5QKxuepL5a",
    "outputId": "efa34919-5989-4e85-a10e-90f96ebd1e8e"
   },
   "outputs": [
    {
     "name": "stdout",
     "output_type": "stream",
     "text": [
      "the shape of X_train after PCA: (112266, 5) the shape of y train: (112266,)\n",
      "the shape of X_val after PCA: (37422, 5) the shape of y train: (37422,)\n",
      "the shape of X_test after PCA: (37423, 5) the shape of y test: (37423,)\n"
     ]
    }
   ],
   "source": [
    "## Fit X_train, X_val, X_test with the PCA\n",
    "pca = PCA(n_components = 5, random_state = 100)\n",
    "pca.fit(X_train)\n",
    "X_train_pc = pca.transform(X_train)\n",
    "X_val_pc = pca.transform(X_val)\n",
    "X_test_pc = pca.transform(X_test)\n",
    "print('the shape of X_train after PCA:',X_train_pc.shape,'the shape of y train:',y_train.shape)\n",
    "print('the shape of X_val after PCA:',X_val_pc.shape,'the shape of y train:',y_val.shape)\n",
    "print('the shape of X_test after PCA:',X_test_pc.shape,'the shape of y test:',y_test.shape)"
   ]
  },
  {
   "cell_type": "code",
   "execution_count": 44,
   "metadata": {},
   "outputs": [
    {
     "name": "stdout",
     "output_type": "stream",
     "text": [
      "Best Hyperparameters: {'hidden_layer_sizes': (400, 800, 400, 200), 'activation': 'relu', 'learning_rate': 'adaptive', 'alpha': 0.0001, 'solver': 'adam'}\n"
     ]
    }
   ],
   "source": [
    "best_mlp_pc = mlp_model(X_train_pc, y_train，X_val_pc, y_val)"
   ]
  },
  {
   "cell_type": "code",
   "execution_count": 45,
   "metadata": {
    "id": "XoyQB2p5rZbH"
   },
   "outputs": [
    {
     "data": {
      "image/png": "[encoded data removed]",
      "text/plain": [
       "<Figure size 640x480 with 1 Axes>"
      ]
     },
     "metadata": {},
     "output_type": "display_data"
    }
   ],
   "source": [
    "roc_mlp = draw_roc(best_mlp_pc, X_test_pc, y_test)"
   ]
  },
  {
   "cell_type": "code",
   "execution_count": 46,
   "metadata": {
    "id": "Tt4m0eBlsAmX"
   },
   "outputs": [],
   "source": [
    "roc_mlp.savefig('results/ROC_mean_15x15_mlp_PCA.png')"
   ]
  },
  {
   "cell_type": "code",
   "execution_count": 47,
   "metadata": {
    "id": "zRiw3n5qrgqc"
   },
   "outputs": [
    {
     "data": {
      "image/png": "[encoded data removed]",
      "text/plain": [
       "<Figure size 640x480 with 1 Axes>"
      ]
     },
     "metadata": {},
     "output_type": "display_data"
    }
   ],
   "source": [
    "prc_mlp = pr_curve(best_mlp_pc, X_test_pc, y_test)"
   ]
  },
  {
   "cell_type": "code",
   "execution_count": 48,
   "metadata": {
    "id": "eIG0EwXEsGSg"
   },
   "outputs": [],
   "source": [
    "prc_mlp.savefig('results/PRC_mean_15x15_mlp_PCA.png')"
   ]
  },
  {
   "cell_type": "code",
   "execution_count": 50,
   "metadata": {
    "id": "s8YplSa-rpln"
   },
   "outputs": [
    {
     "name": "stdout",
     "output_type": "stream",
     "text": [
      "MLPClassifier(batch_size=1000, hidden_layer_sizes=(400, 800, 400, 200),\n",
      "              learning_rate='adaptive', max_iter=1000, random_state=100) \n",
      "On test data, Accuracy: 0.56\n",
      "On test data, Precision: 0.04\n",
      "On test data, Recall: 0.64\n",
      "On test data, f1 score: 0.07 \n"
     ]
    },
    {
     "data": {
      "image/png": "[encoded data removed]",
      "text/plain": [
       "<Figure size 640x480 with 2 Axes>"
      ]
     },
     "metadata": {},
     "output_type": "display_data"
    }
   ],
   "source": [
    "test_evaluation(best_mlp_pc, X_test_pc, y_test)"
   ]
  },
  {
   "cell_type": "code",
   "execution_count": 51,
   "metadata": {
    "id": "PjdhYJqWrx9k"
   },
   "outputs": [
    {
     "data": {
      "text/html": [
       "<div>\n",
       "<style scoped>\n",
       "    .dataframe tbody tr th:only-of-type {\n",
       "        vertical-align: middle;\n",
       "    }\n",
       "\n",
       "    .dataframe tbody tr th {\n",
       "        vertical-align: top;\n",
       "    }\n",
       "\n",
       "    .dataframe thead th {\n",
       "        text-align: right;\n",
       "    }\n",
       "</style>\n",
       "<table border=\"1\" class=\"dataframe\">\n",
       "  <thead>\n",
       "    <tr style=\"text-align: right;\">\n",
       "      <th></th>\n",
       "      <th>Model</th>\n",
       "      <th>Sub-Model</th>\n",
       "      <th>Accuracy</th>\n",
       "      <th>AUC_ROC</th>\n",
       "      <th>Precision</th>\n",
       "      <th>Recall</th>\n",
       "      <th>AUC_PRC</th>\n",
       "      <th>f1 score</th>\n",
       "    </tr>\n",
       "  </thead>\n",
       "  <tbody>\n",
       "    <tr>\n",
       "      <th>0</th>\n",
       "      <td>Multi-layer Perceptron Classifier</td>\n",
       "      <td>df_merged_mean_15x15</td>\n",
       "      <td>0.563878</td>\n",
       "      <td>0.601104</td>\n",
       "      <td>0.039793</td>\n",
       "      <td>0.640504</td>\n",
       "      <td>0.345105</td>\n",
       "      <td>0.074931</td>\n",
       "    </tr>\n",
       "  </tbody>\n",
       "</table>\n",
       "</div>"
      ],
      "text/plain": [
       "                               Model             Sub-Model  Accuracy  \\\n",
       "0  Multi-layer Perceptron Classifier  df_merged_mean_15x15  0.563878   \n",
       "\n",
       "    AUC_ROC  Precision    Recall   AUC_PRC  f1 score  \n",
       "0  0.601104   0.039793  0.640504  0.345105  0.074931  "
      ]
     },
     "execution_count": 51,
     "metadata": {},
     "output_type": "execute_result"
    }
   ],
   "source": [
    "results_df_mlp = pd.DataFrame([['Multi-layer Perceptron Classifier', 'df_merged_mean_15x15', *save_result(best_mlp_pc,X_test_pc,y_test)]],\n",
    "                             columns=['Model', 'Sub-Model', 'Accuracy', 'AUC_ROC','Precision','Recall', 'AUC_PRC', 'f1 score'])\n",
    "results_df_mlp"
   ]
  },
  {
   "cell_type": "code",
   "execution_count": 52,
   "metadata": {
    "id": "g1Kkehlor3nF"
   },
   "outputs": [],
   "source": [
    "results_df_mlp.to_csv('results/results_mean_15x15_mlp_PCA.csv')"
   ]
  },
  {
   "cell_type": "markdown",
   "metadata": {
    "id": "bfRrWpVLR-9P"
   },
   "source": [
    "* [Table of Contents](#Contents)"
   ]
  },
  {
   "cell_type": "markdown",
   "metadata": {
    "id": "1nPfuejYsmJh"
   },
   "source": [
    "# Test data for different regions<a class=\"anchor\" id=\"Regions\"></a>"
   ]
  },
  {
   "cell_type": "code",
   "execution_count": 18,
   "metadata": {},
   "outputs": [
    {
     "data": {
      "text/html": [
       "<div>\n",
       "<style scoped>\n",
       "    .dataframe tbody tr th:only-of-type {\n",
       "        vertical-align: middle;\n",
       "    }\n",
       "\n",
       "    .dataframe tbody tr th {\n",
       "        vertical-align: top;\n",
       "    }\n",
       "\n",
       "    .dataframe thead th {\n",
       "        text-align: right;\n",
       "    }\n",
       "</style>\n",
       "<table border=\"1\" class=\"dataframe\">\n",
       "  <thead>\n",
       "    <tr style=\"text-align: right;\">\n",
       "      <th></th>\n",
       "      <th>time</th>\n",
       "      <th>site</th>\n",
       "      <th>BBP_1x1_median</th>\n",
       "      <th>CDM_1x1_median</th>\n",
       "      <th>SPM_1x1_median</th>\n",
       "      <th>KD490_1x1_median</th>\n",
       "      <th>ZSD_1x1_median</th>\n",
       "      <th>CHL_1x1_median</th>\n",
       "      <th>BBP_1x1_mean</th>\n",
       "      <th>CDM_1x1_mean</th>\n",
       "      <th>...</th>\n",
       "      <th>ZSD_15x15_q1</th>\n",
       "      <th>CHL_15x15_q1</th>\n",
       "      <th>BBP_15x15_q3</th>\n",
       "      <th>CDM_15x15_q3</th>\n",
       "      <th>SPM_15x15_q3</th>\n",
       "      <th>KD490_15x15_q3</th>\n",
       "      <th>ZSD_15x15_q3</th>\n",
       "      <th>CHL_15x15_q3</th>\n",
       "      <th>riskLevelLabel</th>\n",
       "      <th>region</th>\n",
       "    </tr>\n",
       "  </thead>\n",
       "  <tbody>\n",
       "    <tr>\n",
       "      <th>0</th>\n",
       "      <td>2020-03-15</td>\n",
       "      <td>ukd1103-45920</td>\n",
       "      <td>0.000000</td>\n",
       "      <td>0.000000</td>\n",
       "      <td>0.224705</td>\n",
       "      <td>0.139928</td>\n",
       "      <td>0.163001</td>\n",
       "      <td>0.047225</td>\n",
       "      <td>0.000000</td>\n",
       "      <td>0.000000</td>\n",
       "      <td>...</td>\n",
       "      <td>0.163001</td>\n",
       "      <td>0.052261</td>\n",
       "      <td>0.000000</td>\n",
       "      <td>0.000000</td>\n",
       "      <td>0.224705</td>\n",
       "      <td>0.143440</td>\n",
       "      <td>0.163001</td>\n",
       "      <td>0.049024</td>\n",
       "      <td>1</td>\n",
       "      <td>North West</td>\n",
       "    </tr>\n",
       "    <tr>\n",
       "      <th>1</th>\n",
       "      <td>2020-05-14</td>\n",
       "      <td>ukc1202-06400</td>\n",
       "      <td>0.173845</td>\n",
       "      <td>0.334632</td>\n",
       "      <td>0.050227</td>\n",
       "      <td>0.547162</td>\n",
       "      <td>0.056594</td>\n",
       "      <td>0.404667</td>\n",
       "      <td>0.173845</td>\n",
       "      <td>0.334632</td>\n",
       "      <td>...</td>\n",
       "      <td>0.055334</td>\n",
       "      <td>0.447822</td>\n",
       "      <td>0.173845</td>\n",
       "      <td>0.334632</td>\n",
       "      <td>0.052587</td>\n",
       "      <td>0.595561</td>\n",
       "      <td>0.056594</td>\n",
       "      <td>0.456223</td>\n",
       "      <td>0</td>\n",
       "      <td>North East</td>\n",
       "    </tr>\n",
       "    <tr>\n",
       "      <th>2</th>\n",
       "      <td>2020-05-14</td>\n",
       "      <td>ukc1404-05700</td>\n",
       "      <td>0.000000</td>\n",
       "      <td>0.000000</td>\n",
       "      <td>0.054811</td>\n",
       "      <td>0.292889</td>\n",
       "      <td>0.091505</td>\n",
       "      <td>0.163252</td>\n",
       "      <td>0.000000</td>\n",
       "      <td>0.000000</td>\n",
       "      <td>...</td>\n",
       "      <td>0.091505</td>\n",
       "      <td>0.169985</td>\n",
       "      <td>0.000000</td>\n",
       "      <td>0.000000</td>\n",
       "      <td>0.055301</td>\n",
       "      <td>0.300240</td>\n",
       "      <td>0.091505</td>\n",
       "      <td>0.169473</td>\n",
       "      <td>0</td>\n",
       "      <td>North East</td>\n",
       "    </tr>\n",
       "    <tr>\n",
       "      <th>3</th>\n",
       "      <td>2020-05-14</td>\n",
       "      <td>ukc1404-05800</td>\n",
       "      <td>0.000000</td>\n",
       "      <td>0.000000</td>\n",
       "      <td>0.054811</td>\n",
       "      <td>0.292889</td>\n",
       "      <td>0.091505</td>\n",
       "      <td>0.163252</td>\n",
       "      <td>0.000000</td>\n",
       "      <td>0.000000</td>\n",
       "      <td>...</td>\n",
       "      <td>0.091505</td>\n",
       "      <td>0.169985</td>\n",
       "      <td>0.000000</td>\n",
       "      <td>0.000000</td>\n",
       "      <td>0.055301</td>\n",
       "      <td>0.300240</td>\n",
       "      <td>0.091505</td>\n",
       "      <td>0.169473</td>\n",
       "      <td>0</td>\n",
       "      <td>North East</td>\n",
       "    </tr>\n",
       "    <tr>\n",
       "      <th>4</th>\n",
       "      <td>2020-05-14</td>\n",
       "      <td>ukc2101-04000</td>\n",
       "      <td>0.000000</td>\n",
       "      <td>0.000000</td>\n",
       "      <td>0.019815</td>\n",
       "      <td>0.194332</td>\n",
       "      <td>0.115622</td>\n",
       "      <td>0.081084</td>\n",
       "      <td>0.000000</td>\n",
       "      <td>0.000000</td>\n",
       "      <td>...</td>\n",
       "      <td>0.115622</td>\n",
       "      <td>0.089731</td>\n",
       "      <td>0.000000</td>\n",
       "      <td>0.000000</td>\n",
       "      <td>0.019815</td>\n",
       "      <td>0.199209</td>\n",
       "      <td>0.115622</td>\n",
       "      <td>0.084173</td>\n",
       "      <td>0</td>\n",
       "      <td>North East</td>\n",
       "    </tr>\n",
       "    <tr>\n",
       "      <th>...</th>\n",
       "      <td>...</td>\n",
       "      <td>...</td>\n",
       "      <td>...</td>\n",
       "      <td>...</td>\n",
       "      <td>...</td>\n",
       "      <td>...</td>\n",
       "      <td>...</td>\n",
       "      <td>...</td>\n",
       "      <td>...</td>\n",
       "      <td>...</td>\n",
       "      <td>...</td>\n",
       "      <td>...</td>\n",
       "      <td>...</td>\n",
       "      <td>...</td>\n",
       "      <td>...</td>\n",
       "      <td>...</td>\n",
       "      <td>...</td>\n",
       "      <td>...</td>\n",
       "      <td>...</td>\n",
       "      <td>...</td>\n",
       "      <td>...</td>\n",
       "    </tr>\n",
       "    <tr>\n",
       "      <th>37418</th>\n",
       "      <td>2022-09-30</td>\n",
       "      <td>ukk4305-25400</td>\n",
       "      <td>0.000000</td>\n",
       "      <td>0.000000</td>\n",
       "      <td>0.000000</td>\n",
       "      <td>0.000000</td>\n",
       "      <td>0.000000</td>\n",
       "      <td>0.000000</td>\n",
       "      <td>0.000000</td>\n",
       "      <td>0.000000</td>\n",
       "      <td>...</td>\n",
       "      <td>0.000000</td>\n",
       "      <td>0.000000</td>\n",
       "      <td>0.000000</td>\n",
       "      <td>0.000000</td>\n",
       "      <td>0.000000</td>\n",
       "      <td>0.000000</td>\n",
       "      <td>0.000000</td>\n",
       "      <td>0.000000</td>\n",
       "      <td>0</td>\n",
       "      <td>South West</td>\n",
       "    </tr>\n",
       "    <tr>\n",
       "      <th>37419</th>\n",
       "      <td>2022-09-30</td>\n",
       "      <td>ukk4305-26300</td>\n",
       "      <td>0.000000</td>\n",
       "      <td>0.000000</td>\n",
       "      <td>0.000000</td>\n",
       "      <td>0.000000</td>\n",
       "      <td>0.000000</td>\n",
       "      <td>0.000000</td>\n",
       "      <td>0.000000</td>\n",
       "      <td>0.000000</td>\n",
       "      <td>...</td>\n",
       "      <td>0.000000</td>\n",
       "      <td>0.000000</td>\n",
       "      <td>0.000000</td>\n",
       "      <td>0.000000</td>\n",
       "      <td>0.000000</td>\n",
       "      <td>0.000000</td>\n",
       "      <td>0.000000</td>\n",
       "      <td>0.000000</td>\n",
       "      <td>0</td>\n",
       "      <td>South West</td>\n",
       "    </tr>\n",
       "    <tr>\n",
       "      <th>37420</th>\n",
       "      <td>2022-09-30</td>\n",
       "      <td>ukk4306-23000</td>\n",
       "      <td>0.000000</td>\n",
       "      <td>0.000000</td>\n",
       "      <td>0.000000</td>\n",
       "      <td>0.000000</td>\n",
       "      <td>0.000000</td>\n",
       "      <td>0.000000</td>\n",
       "      <td>0.000000</td>\n",
       "      <td>0.000000</td>\n",
       "      <td>...</td>\n",
       "      <td>0.000000</td>\n",
       "      <td>0.000000</td>\n",
       "      <td>0.000000</td>\n",
       "      <td>0.000000</td>\n",
       "      <td>0.000000</td>\n",
       "      <td>0.000000</td>\n",
       "      <td>0.000000</td>\n",
       "      <td>0.000000</td>\n",
       "      <td>0</td>\n",
       "      <td>South West</td>\n",
       "    </tr>\n",
       "    <tr>\n",
       "      <th>37421</th>\n",
       "      <td>2022-10-13</td>\n",
       "      <td>ukd4200-42300</td>\n",
       "      <td>0.553052</td>\n",
       "      <td>0.173062</td>\n",
       "      <td>0.347609</td>\n",
       "      <td>0.233709</td>\n",
       "      <td>0.092781</td>\n",
       "      <td>0.107562</td>\n",
       "      <td>0.553052</td>\n",
       "      <td>0.173062</td>\n",
       "      <td>...</td>\n",
       "      <td>0.094669</td>\n",
       "      <td>0.111871</td>\n",
       "      <td>0.553052</td>\n",
       "      <td>0.173062</td>\n",
       "      <td>0.347609</td>\n",
       "      <td>0.238232</td>\n",
       "      <td>0.096504</td>\n",
       "      <td>0.111281</td>\n",
       "      <td>0</td>\n",
       "      <td>North West</td>\n",
       "    </tr>\n",
       "    <tr>\n",
       "      <th>37422</th>\n",
       "      <td>2022-11-08</td>\n",
       "      <td>ukj3400-17700</td>\n",
       "      <td>0.000000</td>\n",
       "      <td>0.000000</td>\n",
       "      <td>0.000000</td>\n",
       "      <td>0.000000</td>\n",
       "      <td>0.000000</td>\n",
       "      <td>0.000000</td>\n",
       "      <td>0.000000</td>\n",
       "      <td>0.000000</td>\n",
       "      <td>...</td>\n",
       "      <td>0.000000</td>\n",
       "      <td>0.000000</td>\n",
       "      <td>0.000000</td>\n",
       "      <td>0.000000</td>\n",
       "      <td>0.000000</td>\n",
       "      <td>0.000000</td>\n",
       "      <td>0.000000</td>\n",
       "      <td>0.000000</td>\n",
       "      <td>0</td>\n",
       "      <td>South East</td>\n",
       "    </tr>\n",
       "  </tbody>\n",
       "</table>\n",
       "<p>37423 rows × 196 columns</p>\n",
       "</div>"
      ],
      "text/plain": [
       "             time           site  BBP_1x1_median  CDM_1x1_median  \\\n",
       "0      2020-03-15  ukd1103-45920        0.000000        0.000000   \n",
       "1      2020-05-14  ukc1202-06400        0.173845        0.334632   \n",
       "2      2020-05-14  ukc1404-05700        0.000000        0.000000   \n",
       "3      2020-05-14  ukc1404-05800        0.000000        0.000000   \n",
       "4      2020-05-14  ukc2101-04000        0.000000        0.000000   \n",
       "...           ...            ...             ...             ...   \n",
       "37418  2022-09-30  ukk4305-25400        0.000000        0.000000   \n",
       "37419  2022-09-30  ukk4305-26300        0.000000        0.000000   \n",
       "37420  2022-09-30  ukk4306-23000        0.000000        0.000000   \n",
       "37421  2022-10-13  ukd4200-42300        0.553052        0.173062   \n",
       "37422  2022-11-08  ukj3400-17700        0.000000        0.000000   \n",
       "\n",
       "       SPM_1x1_median  KD490_1x1_median  ZSD_1x1_median  CHL_1x1_median  \\\n",
       "0            0.224705          0.139928        0.163001        0.047225   \n",
       "1            0.050227          0.547162        0.056594        0.404667   \n",
       "2            0.054811          0.292889        0.091505        0.163252   \n",
       "3            0.054811          0.292889        0.091505        0.163252   \n",
       "4            0.019815          0.194332        0.115622        0.081084   \n",
       "...               ...               ...             ...             ...   \n",
       "37418        0.000000          0.000000        0.000000        0.000000   \n",
       "37419        0.000000          0.000000        0.000000        0.000000   \n",
       "37420        0.000000          0.000000        0.000000        0.000000   \n",
       "37421        0.347609          0.233709        0.092781        0.107562   \n",
       "37422        0.000000          0.000000        0.000000        0.000000   \n",
       "\n",
       "       BBP_1x1_mean  CDM_1x1_mean  ...  ZSD_15x15_q1  CHL_15x15_q1  \\\n",
       "0          0.000000      0.000000  ...      0.163001      0.052261   \n",
       "1          0.173845      0.334632  ...      0.055334      0.447822   \n",
       "2          0.000000      0.000000  ...      0.091505      0.169985   \n",
       "3          0.000000      0.000000  ...      0.091505      0.169985   \n",
       "4          0.000000      0.000000  ...      0.115622      0.089731   \n",
       "...             ...           ...  ...           ...           ...   \n",
       "37418      0.000000      0.000000  ...      0.000000      0.000000   \n",
       "37419      0.000000      0.000000  ...      0.000000      0.000000   \n",
       "37420      0.000000      0.000000  ...      0.000000      0.000000   \n",
       "37421      0.553052      0.173062  ...      0.094669      0.111871   \n",
       "37422      0.000000      0.000000  ...      0.000000      0.000000   \n",
       "\n",
       "       BBP_15x15_q3  CDM_15x15_q3  SPM_15x15_q3  KD490_15x15_q3  ZSD_15x15_q3  \\\n",
       "0          0.000000      0.000000      0.224705        0.143440      0.163001   \n",
       "1          0.173845      0.334632      0.052587        0.595561      0.056594   \n",
       "2          0.000000      0.000000      0.055301        0.300240      0.091505   \n",
       "3          0.000000      0.000000      0.055301        0.300240      0.091505   \n",
       "4          0.000000      0.000000      0.019815        0.199209      0.115622   \n",
       "...             ...           ...           ...             ...           ...   \n",
       "37418      0.000000      0.000000      0.000000        0.000000      0.000000   \n",
       "37419      0.000000      0.000000      0.000000        0.000000      0.000000   \n",
       "37420      0.000000      0.000000      0.000000        0.000000      0.000000   \n",
       "37421      0.553052      0.173062      0.347609        0.238232      0.096504   \n",
       "37422      0.000000      0.000000      0.000000        0.000000      0.000000   \n",
       "\n",
       "       CHL_15x15_q3  riskLevelLabel      region  \n",
       "0          0.049024               1  North West  \n",
       "1          0.456223               0  North East  \n",
       "2          0.169473               0  North East  \n",
       "3          0.169473               0  North East  \n",
       "4          0.084173               0  North East  \n",
       "...             ...             ...         ...  \n",
       "37418      0.000000               0  South West  \n",
       "37419      0.000000               0  South West  \n",
       "37420      0.000000               0  South West  \n",
       "37421      0.111281               0  North West  \n",
       "37422      0.000000               0  South East  \n",
       "\n",
       "[37423 rows x 196 columns]"
      ]
     },
     "execution_count": 18,
     "metadata": {},
     "output_type": "execute_result"
    }
   ],
   "source": [
    "df_test_region = pd.read_csv('data/df_test_with_region.csv')\n",
    "df_test_region"
   ]
  },
  {
   "cell_type": "code",
   "execution_count": 39,
   "metadata": {},
   "outputs": [],
   "source": [
    "df_test_sw = df_test_region[df_test_region['region']=='South West']\n",
    "df_test_sw = df_test_sw.drop(columns=['region', 'time', 'site'], axis=1)\n",
    "y_test_sw = df_test_sw.pop('riskLevelLabel')\n",
    "X_test_sw = df_test_sw\n",
    "# X_test_sw_pc = pca.transform(X_test_sw)"
   ]
  },
  {
   "cell_type": "code",
   "execution_count": 47,
   "metadata": {},
   "outputs": [],
   "source": [
    "df_test_se = df_test_region[df_test_region['region']=='South East']\n",
    "df_test_se = df_test_se.drop(columns=['region', 'time', 'site'], axis=1)\n",
    "y_test_se = df_test_se.pop('riskLevelLabel')\n",
    "X_test_se = df_test_se"
   ]
  },
  {
   "cell_type": "code",
   "execution_count": 41,
   "metadata": {},
   "outputs": [],
   "source": [
    "df_test_ee = df_test_region[df_test_region['region']=='East of England']\n",
    "df_test_ee = df_test_ee.drop(columns=['region', 'time', 'site'], axis=1)\n",
    "y_test_ee = df_test_ee.pop('riskLevelLabel')\n",
    "X_test_ee = df_test_ee"
   ]
  },
  {
   "cell_type": "code",
   "execution_count": 42,
   "metadata": {},
   "outputs": [],
   "source": [
    "df_test_ne = df_test_region[df_test_region['region']=='North East']\n",
    "df_test_ne = df_test_ne.drop(columns=['region', 'time', 'site'], axis=1)\n",
    "y_test_ne = df_test_ne.pop('riskLevelLabel')\n",
    "X_test_ne = df_test_ne"
   ]
  },
  {
   "cell_type": "code",
   "execution_count": 43,
   "metadata": {},
   "outputs": [],
   "source": [
    "df_test_nw = df_test_region[df_test_region['region']=='North West']\n",
    "df_test_nw = df_test_nw.drop(columns=['region', 'time', 'site'], axis=1)\n",
    "y_test_nw = df_test_nw.pop('riskLevelLabel')\n",
    "X_test_nw = df_test_nw"
   ]
  },
  {
   "cell_type": "code",
   "execution_count": 44,
   "metadata": {},
   "outputs": [],
   "source": [
    "df_test_yh = df_test_region[df_test_region['region']=='Yorkshire and The Humber']\n",
    "df_test_yh = df_test_yh.drop(columns=['region', 'time', 'site'], axis=1)\n",
    "y_test_yh = df_test_yh.pop('riskLevelLabel')\n",
    "X_test_yh = df_test_yh"
   ]
  },
  {
   "cell_type": "code",
   "execution_count": 45,
   "metadata": {},
   "outputs": [],
   "source": [
    "df_test_em = df_test_region[df_test_region['region']=='East Midlands']\n",
    "df_test_em = df_test_em.drop(columns=['region', 'time', 'site'], axis=1)\n",
    "y_test_em = df_test_em.pop('riskLevelLabel')\n",
    "X_test_em = df_test_em"
   ]
  },
  {
   "cell_type": "code",
   "execution_count": 52,
   "metadata": {},
   "outputs": [
    {
     "data": {
      "text/html": [
       "<div>\n",
       "<style scoped>\n",
       "    .dataframe tbody tr th:only-of-type {\n",
       "        vertical-align: middle;\n",
       "    }\n",
       "\n",
       "    .dataframe tbody tr th {\n",
       "        vertical-align: top;\n",
       "    }\n",
       "\n",
       "    .dataframe thead th {\n",
       "        text-align: right;\n",
       "    }\n",
       "</style>\n",
       "<table border=\"1\" class=\"dataframe\">\n",
       "  <thead>\n",
       "    <tr style=\"text-align: right;\">\n",
       "      <th></th>\n",
       "      <th>Model</th>\n",
       "      <th>Sub-Model</th>\n",
       "      <th>Region</th>\n",
       "      <th>Accuracy</th>\n",
       "      <th>AUC_ROC</th>\n",
       "      <th>Precision</th>\n",
       "      <th>Recall</th>\n",
       "      <th>AUC_PRC</th>\n",
       "      <th>f1 score</th>\n",
       "    </tr>\n",
       "  </thead>\n",
       "  <tbody>\n",
       "    <tr>\n",
       "      <th>0</th>\n",
       "      <td>Multi-layer Perceptron Classifier</td>\n",
       "      <td>df_merged_mean_15x15</td>\n",
       "      <td>South West</td>\n",
       "      <td>0.566049</td>\n",
       "      <td>0.636718</td>\n",
       "      <td>0.039543</td>\n",
       "      <td>0.711061</td>\n",
       "      <td>0.378872</td>\n",
       "      <td>0.074920</td>\n",
       "    </tr>\n",
       "    <tr>\n",
       "      <th>1</th>\n",
       "      <td></td>\n",
       "      <td></td>\n",
       "      <td>South East</td>\n",
       "      <td>0.532816</td>\n",
       "      <td>0.611961</td>\n",
       "      <td>0.037751</td>\n",
       "      <td>0.695431</td>\n",
       "      <td>0.370537</td>\n",
       "      <td>0.071615</td>\n",
       "    </tr>\n",
       "    <tr>\n",
       "      <th>2</th>\n",
       "      <td></td>\n",
       "      <td></td>\n",
       "      <td>East of England</td>\n",
       "      <td>0.445014</td>\n",
       "      <td>0.604064</td>\n",
       "      <td>0.025214</td>\n",
       "      <td>0.769231</td>\n",
       "      <td>0.399359</td>\n",
       "      <td>0.048828</td>\n",
       "    </tr>\n",
       "    <tr>\n",
       "      <th>3</th>\n",
       "      <td></td>\n",
       "      <td></td>\n",
       "      <td>North East</td>\n",
       "      <td>0.526922</td>\n",
       "      <td>0.661174</td>\n",
       "      <td>0.050929</td>\n",
       "      <td>0.804348</td>\n",
       "      <td>0.430686</td>\n",
       "      <td>0.095793</td>\n",
       "    </tr>\n",
       "    <tr>\n",
       "      <th>4</th>\n",
       "      <td></td>\n",
       "      <td></td>\n",
       "      <td>North West</td>\n",
       "      <td>0.417677</td>\n",
       "      <td>0.573963</td>\n",
       "      <td>0.063063</td>\n",
       "      <td>0.748092</td>\n",
       "      <td>0.412030</td>\n",
       "      <td>0.116320</td>\n",
       "    </tr>\n",
       "    <tr>\n",
       "      <th>5</th>\n",
       "      <td></td>\n",
       "      <td></td>\n",
       "      <td>Yorkshire and The Humber</td>\n",
       "      <td>0.465066</td>\n",
       "      <td>0.536712</td>\n",
       "      <td>0.043173</td>\n",
       "      <td>0.614286</td>\n",
       "      <td>0.336098</td>\n",
       "      <td>0.080675</td>\n",
       "    </tr>\n",
       "    <tr>\n",
       "      <th>6</th>\n",
       "      <td></td>\n",
       "      <td></td>\n",
       "      <td>East Midlands</td>\n",
       "      <td>0.337644</td>\n",
       "      <td>0.513462</td>\n",
       "      <td>0.029851</td>\n",
       "      <td>0.700000</td>\n",
       "      <td>0.369236</td>\n",
       "      <td>0.057260</td>\n",
       "    </tr>\n",
       "  </tbody>\n",
       "</table>\n",
       "</div>"
      ],
      "text/plain": [
       "                               Model             Sub-Model  \\\n",
       "0  Multi-layer Perceptron Classifier  df_merged_mean_15x15   \n",
       "1                                                            \n",
       "2                                                            \n",
       "3                                                            \n",
       "4                                                            \n",
       "5                                                            \n",
       "6                                                            \n",
       "\n",
       "                     Region  Accuracy   AUC_ROC  Precision    Recall  \\\n",
       "0                South West  0.566049  0.636718   0.039543  0.711061   \n",
       "1                South East  0.532816  0.611961   0.037751  0.695431   \n",
       "2           East of England  0.445014  0.604064   0.025214  0.769231   \n",
       "3                North East  0.526922  0.661174   0.050929  0.804348   \n",
       "4                North West  0.417677  0.573963   0.063063  0.748092   \n",
       "5  Yorkshire and The Humber  0.465066  0.536712   0.043173  0.614286   \n",
       "6             East Midlands  0.337644  0.513462   0.029851  0.700000   \n",
       "\n",
       "    AUC_PRC  f1 score  \n",
       "0  0.378872  0.074920  \n",
       "1  0.370537  0.071615  \n",
       "2  0.399359  0.048828  \n",
       "3  0.430686  0.095793  \n",
       "4  0.412030  0.116320  \n",
       "5  0.336098  0.080675  \n",
       "6  0.369236  0.057260  "
      ]
     },
     "execution_count": 52,
     "metadata": {},
     "output_type": "execute_result"
    }
   ],
   "source": [
    "results_df_mlp_regions = pd.DataFrame([['Multi-layer Perceptron Classifier', 'df_merged_mean_15x15', 'South West', *save_result(best_mlp,X_test_sw,y_test_sw)],\n",
    "                                  ['','', 'South East', *save_result(best_mlp,X_test_se,y_test_se)], \n",
    "                                 ['','', 'East of England', *save_result(best_mlp,X_test_ee,y_test_ee)], \n",
    "                                 ['','', 'North East', *save_result(best_mlp,X_test_ne,y_test_ne)], \n",
    "                                 ['','', 'North West', *save_result(best_mlp,X_test_nw,y_test_nw)], \n",
    "                                 ['','', 'Yorkshire and The Humber', *save_result(best_mlp,X_test_yh,y_test_yh)],\n",
    "                                 ['','', 'East Midlands', *save_result(best_mlp,X_test_em,y_test_em)]],\n",
    "                             columns=['Model', 'Sub-Model', 'Region', 'Accuracy', 'AUC_ROC','Precision','Recall', 'AUC_PRC', 'f1 score'])\n",
    "results_df_mlp_regions"
   ]
  },
  {
   "cell_type": "code",
   "execution_count": 53,
   "metadata": {},
   "outputs": [],
   "source": [
    "results_df_mlp_regions.to_csv('results/15_mean_MLP/Regions_results.csv', index=False)"
   ]
  },
  {
   "cell_type": "markdown",
   "metadata": {
    "id": "bfRrWpVLR-9P"
   },
   "source": [
    "* [Table of Contents](#Contents)"
   ]
  }
 ],
 "metadata": {
  "accelerator": "GPU",
  "colab": {
   "gpuType": "V100",
   "provenance": []
  },
  "kernelspec": {
   "display_name": "Python 3 (ipykernel)",
   "language": "python",
   "name": "python3"
  },
  "language_info": {
   "codemirror_mode": {
    "name": "ipython",
    "version": 3
   },
   "file_extension": ".py",
   "mimetype": "text/x-python",
   "name": "python",
   "nbconvert_exporter": "python",
   "pygments_lexer": "ipython3",
   "version": "3.9.13"
  }
 },
 "nbformat": 4,
 "nbformat_minor": 1
}
